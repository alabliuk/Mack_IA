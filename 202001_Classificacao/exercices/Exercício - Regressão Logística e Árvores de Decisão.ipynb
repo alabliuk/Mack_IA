{
 "cells": [
  {
   "cell_type": "markdown",
   "metadata": {},
   "source": [
    "# Exercício Regressão Logísticica e Árvore de Decisão\n",
    "\n",
    "Considere o dataset a seguir. O conjunto de dados contém informações sobre pacientes. O dataset informa se eles estão recebendo bons cuidados de saúde ou não (`PoorCare`).\n",
    "\n",
    "Ou seja, `PoorCare` é a variável a ser classificada. Precisamos descobrir a partir dos dados apresentados no dataset, se ou não, novos pacientes vão ter um bom tratamento dado cond"
   ]
  },
  {
   "cell_type": "code",
   "execution_count": 2,
   "metadata": {},
   "outputs": [],
   "source": [
    "import pandas as pd\n",
    "import numpy as np\n",
    "import matplotlib.pyplot as plt\n",
    "\n",
    "%matplotlib notebook"
   ]
  },
  {
   "cell_type": "code",
   "execution_count": 3,
   "metadata": {},
   "outputs": [],
   "source": [
    "#https://raw.githubusercontent.com/geoninja/Analytics/master/data/quality.csv\n",
    "df = pd.read_csv('https://bit.ly/2WGzsWU')"
   ]
  },
  {
   "cell_type": "markdown",
   "metadata": {},
   "source": [
    "## Informações do dataset\n",
    "\n",
    "* MemberID numbers the patients from 1 to 131, and is just an identifying number.\n",
    "* InpatientDays is the number of inpatient visits, or number of days the person spent in the hospital.\n",
    "* ERVisits is the number of times the patient visited the emergency room.\n",
    "* OfficeVisits is the number of times the patient visited any doctor's office.\n",
    "* Narcotics is the number of prescriptions the patient had for narcotics.\n",
    "* DaysSinceLastERVisit is the number of days between the patient's last emergency room visit and the end of the study * period (set to the length of the study period if they never visited the ER). \n",
    "* Pain is the number of visits for which the patient complained about pain.\n",
    "* TotalVisits is the total number of times the patient visited any healthcare provider.\n",
    "* ProviderCount is the number of providers that served the patient.\n",
    "* MedicalClaims is the number of days on which the patient had a medical claim.\n",
    "* ClaimLines is the total number of medical claims.\n",
    "* StartedOnCombination is whether or not the patient was started on a combination of drugs to treat their diabetes (TRUE or FALSE).\n",
    "* AcuteDrugGapSmall is the fraction of acute drugs that were refilled quickly after the prescription ran out.\n",
    "* PoorCare is the outcome or dependent variable, and is equal to 1 if the patient had poor care, and equal to 0 if the patient had good care."
   ]
  },
  {
   "cell_type": "markdown",
   "metadata": {},
   "source": [
    "## Parte 1 -  Analise dos dados\n",
    "\n",
    "Observe os dados de forma grafica e veja a correlação entre as diferentes features do modelo. Observe quais são as melhores features do modelo. Considere o `pairplot`como um bom candidato para a tarefa "
   ]
  },
  {
   "cell_type": "code",
   "execution_count": 6,
   "metadata": {},
   "outputs": [],
   "source": [
    "### Seu codigo aqui. Voce pode utilizar quantas celulas voce achar necessario."
   ]
  },
  {
   "cell_type": "markdown",
   "metadata": {},
   "source": [
    "## Parte 2 - Regressão logística com o `sklearn`\n"
   ]
  },
  {
   "cell_type": "markdown",
   "metadata": {},
   "source": [
    "### Parte 2.1 - Separando os conjuntos de treinamento e teste\n",
    "\n",
    "Separe o seu dataset com as features que você achou mais conveniente (podem ser todas as features inclusive) em um conjunto de treinamento e teste. Utilize a proporção 80%-20%\n"
   ]
  },
  {
   "cell_type": "code",
   "execution_count": 7,
   "metadata": {},
   "outputs": [],
   "source": [
    "# Seu codigo aqui"
   ]
  },
  {
   "cell_type": "markdown",
   "metadata": {},
   "source": [
    "### Parte 2.2 - Crie e fite o modelo sklearn apropriado. Lembre-se que \n",
    "\n",
    "Para esse caso precisamos prever se o paciente teve um bom tratamento ou não.\n",
    "Portanto, a tarefa é de classificação para `PoorCare`. Lembre-se de utilizar o conjunto de treinamento para criação e treinamento do modelo."
   ]
  },
  {
   "cell_type": "code",
   "execution_count": 9,
   "metadata": {},
   "outputs": [],
   "source": [
    "# Seu codigo aqui"
   ]
  },
  {
   "cell_type": "markdown",
   "metadata": {},
   "source": [
    "### Parte 2.2 - Avaliação do modelo.\n",
    "\n",
    "Utilize Avalie o modelo utilizando a curva `ROC` e a área embaixo da curva para avaliação do classificador.\n",
    "\n",
    "Links úteis:\n",
    "* https://towardsdatascience.com/understanding-auc-roc-curve-68b2303cc9c5\n",
    "* https://medium.com/bio-data-blog/entenda-o-que-%C3%A9-auc-e-roc-nos-modelos-de-machine-learning-8191fb4df772"
   ]
  },
  {
   "cell_type": "code",
   "execution_count": 10,
   "metadata": {},
   "outputs": [],
   "source": [
    "# Seu codigo aqui.\n"
   ]
  },
  {
   "cell_type": "markdown",
   "metadata": {},
   "source": [
    "## Parte 3 - Regressão logística (Modelo do zero).\n",
    "\n",
    "Crie um modelo de regressão linear utilizando apenas funções do numpy. Ou Seja, quero que vocês criem um modelo de regressão logística a partir do zero assim como mostrado na aula. Utilize as mesmas métricas da parte 2.2 para verificar a qualidade do modelo."
   ]
  },
  {
   "cell_type": "code",
   "execution_count": 12,
   "metadata": {},
   "outputs": [],
   "source": [
    "# Seu codigo aqui"
   ]
  },
  {
   "cell_type": "markdown",
   "metadata": {},
   "source": [
    "## Parte 4 - Árvore de decisão.\n",
    "\n",
    "Faça os mesmos passos da **Parte 2** para o modelo de árvore de decisão. Compare a acurácia dos modelos"
   ]
  },
  {
   "cell_type": "code",
   "execution_count": 13,
   "metadata": {},
   "outputs": [],
   "source": [
    "# Seu código aqui"
   ]
  },
  {
   "cell_type": "markdown",
   "metadata": {},
   "source": [
    "## Parte 5 (Opcional) - Árvore de decisão do zero.\n",
    "\n",
    "Implemente o algoritmo CART e compare com os resultados obtidos na parte 3"
   ]
  },
  {
   "cell_type": "code",
   "execution_count": 14,
   "metadata": {},
   "outputs": [],
   "source": [
    "# Seu código aqui"
   ]
  },
  {
   "cell_type": "markdown",
   "metadata": {},
   "source": [
    "# BOM TRABALHO"
   ]
  },
  {
   "cell_type": "code",
   "execution_count": null,
   "metadata": {},
   "outputs": [],
   "source": []
  }
 ],
 "metadata": {
  "kernelspec": {
   "display_name": "Python 3",
   "language": "python",
   "name": "python3"
  },
  "language_info": {
   "codemirror_mode": {
    "name": "ipython",
    "version": 3
   },
   "file_extension": ".py",
   "mimetype": "text/x-python",
   "name": "python",
   "nbconvert_exporter": "python",
   "pygments_lexer": "ipython3",
   "version": "3.7.3"
  }
 },
 "nbformat": 4,
 "nbformat_minor": 2
}
