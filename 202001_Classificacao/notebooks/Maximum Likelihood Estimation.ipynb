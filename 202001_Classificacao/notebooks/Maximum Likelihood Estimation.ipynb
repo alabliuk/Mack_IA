{
 "cells": [
  {
   "cell_type": "code",
   "execution_count": 146,
   "metadata": {},
   "outputs": [],
   "source": [
    "#https://towardsdatascience.com/a-gentle-introduction-to-maximum-likelihood-estimation-9fbff27ea12f?source=email-a0121b3f4ae6-1581059935521-digest.reader------1-49------------------f7994caa_fc9e_44db_9e99_7057731f6b14-1-----\n",
    "    \n",
    "# import libraries\n",
    "import numpy as np, pandas as pd\n",
    "from matplotlib import pyplot as plt\n",
    "import seaborn as sns\n",
    "from scipy.optimize import minimize\n",
    "import scipy.stats as stats\n",
    "\n",
    "import pymc3 as pm3\n",
    "import numdifftools as ndt\n",
    "import statsmodels.api as sm\n",
    "from statsmodels.base.model import GenericLikelihoodModel\n",
    "%matplotlib inline"
   ]
  },
  {
   "cell_type": "code",
   "execution_count": 150,
   "metadata": {},
   "outputs": [],
   "source": [
    "# generate data\n",
    "N = 100\n",
    "x = np.linspace(0,20,N)\n",
    "e = np.random.normal(loc = 0.0, scale = 2, size = N)\n",
    "y = 4*x + 1 + e\n",
    "df = pd.DataFrame({'y':y, 'x':x})\n",
    "df['constant'] = 5"
   ]
  },
  {
   "cell_type": "code",
   "execution_count": 151,
   "metadata": {},
   "outputs": [
    {
     "data": {
      "image/png": "[encoded data removed]",
      "text/plain": [
       "<Figure size 432x288 with 1 Axes>"
      ]
     },
     "metadata": {
      "needs_background": "light"
     },
     "output_type": "display_data"
    }
   ],
   "source": [
    "# plot\n",
    "sns.regplot(df.x, df.y);"
   ]
  },
  {
   "cell_type": "code",
   "execution_count": 152,
   "metadata": {},
   "outputs": [
    {
     "data": {
      "text/html": [
       "<table class=\"simpletable\">\n",
       "<caption>OLS Regression Results</caption>\n",
       "<tr>\n",
       "  <th>Dep. Variable:</th>            <td>y</td>        <th>  R-squared:         </th> <td>   0.994</td> \n",
       "</tr>\n",
       "<tr>\n",
       "  <th>Model:</th>                   <td>OLS</td>       <th>  Adj. R-squared:    </th> <td>   0.994</td> \n",
       "</tr>\n",
       "<tr>\n",
       "  <th>Method:</th>             <td>Least Squares</td>  <th>  F-statistic:       </th> <td>1.515e+04</td>\n",
       "</tr>\n",
       "<tr>\n",
       "  <th>Date:</th>             <td>Sat, 07 Mar 2020</td> <th>  Prob (F-statistic):</th> <td>3.20e-109</td>\n",
       "</tr>\n",
       "<tr>\n",
       "  <th>Time:</th>                 <td>09:15:10</td>     <th>  Log-Likelihood:    </th> <td> -205.25</td> \n",
       "</tr>\n",
       "<tr>\n",
       "  <th>No. Observations:</th>      <td>   100</td>      <th>  AIC:               </th> <td>   414.5</td> \n",
       "</tr>\n",
       "<tr>\n",
       "  <th>Df Residuals:</th>          <td>    98</td>      <th>  BIC:               </th> <td>   419.7</td> \n",
       "</tr>\n",
       "<tr>\n",
       "  <th>Df Model:</th>              <td>     1</td>      <th>                     </th>     <td> </td>    \n",
       "</tr>\n",
       "<tr>\n",
       "  <th>Covariance Type:</th>      <td>nonrobust</td>    <th>                     </th>     <td> </td>    \n",
       "</tr>\n",
       "</table>\n",
       "<table class=\"simpletable\">\n",
       "<tr>\n",
       "      <td></td>        <th>coef</th>     <th>std err</th>      <th>t</th>      <th>P>|t|</th>  <th>[0.025</th>    <th>0.975]</th>  \n",
       "</tr>\n",
       "<tr>\n",
       "  <th>constant</th> <td>    0.1325</td> <td>    0.076</td> <td>    1.753</td> <td> 0.083</td> <td>   -0.017</td> <td>    0.282</td>\n",
       "</tr>\n",
       "<tr>\n",
       "  <th>x</th>        <td>    4.0169</td> <td>    0.033</td> <td>  123.069</td> <td> 0.000</td> <td>    3.952</td> <td>    4.082</td>\n",
       "</tr>\n",
       "</table>\n",
       "<table class=\"simpletable\">\n",
       "<tr>\n",
       "  <th>Omnibus:</th>       <td> 4.014</td> <th>  Durbin-Watson:     </th> <td>   1.694</td>\n",
       "</tr>\n",
       "<tr>\n",
       "  <th>Prob(Omnibus):</th> <td> 0.134</td> <th>  Jarque-Bera (JB):  </th> <td>   2.342</td>\n",
       "</tr>\n",
       "<tr>\n",
       "  <th>Skew:</th>          <td> 0.130</td> <th>  Prob(JB):          </th> <td>   0.310</td>\n",
       "</tr>\n",
       "<tr>\n",
       "  <th>Kurtosis:</th>      <td> 2.297</td> <th>  Cond. No.          </th> <td>    5.26</td>\n",
       "</tr>\n",
       "</table><br/><br/>Warnings:<br/>[1] Standard Errors assume that the covariance matrix of the errors is correctly specified."
      ],
      "text/plain": [
       "<class 'statsmodels.iolib.summary.Summary'>\n",
       "\"\"\"\n",
       "                            OLS Regression Results                            \n",
       "==============================================================================\n",
       "Dep. Variable:                      y   R-squared:                       0.994\n",
       "Model:                            OLS   Adj. R-squared:                  0.994\n",
       "Method:                 Least Squares   F-statistic:                 1.515e+04\n",
       "Date:                Sat, 07 Mar 2020   Prob (F-statistic):          3.20e-109\n",
       "Time:                        09:15:10   Log-Likelihood:                -205.25\n",
       "No. Observations:                 100   AIC:                             414.5\n",
       "Df Residuals:                      98   BIC:                             419.7\n",
       "Df Model:                           1                                         \n",
       "Covariance Type:            nonrobust                                         \n",
       "==============================================================================\n",
       "                 coef    std err          t      P>|t|      [0.025      0.975]\n",
       "------------------------------------------------------------------------------\n",
       "constant       0.1325      0.076      1.753      0.083      -0.017       0.282\n",
       "x              4.0169      0.033    123.069      0.000       3.952       4.082\n",
       "==============================================================================\n",
       "Omnibus:                        4.014   Durbin-Watson:                   1.694\n",
       "Prob(Omnibus):                  0.134   Jarque-Bera (JB):                2.342\n",
       "Skew:                           0.130   Prob(JB):                        0.310\n",
       "Kurtosis:                       2.297   Cond. No.                         5.26\n",
       "==============================================================================\n",
       "\n",
       "Warnings:\n",
       "[1] Standard Errors assume that the covariance matrix of the errors is correctly specified.\n",
       "\"\"\""
      ]
     },
     "execution_count": 152,
     "metadata": {},
     "output_type": "execute_result"
    }
   ],
   "source": [
    "# split features and target\n",
    "X = df[['constant', 'x']]# fit model and summarize\n",
    "sm.OLS(y,X).fit().summary()"
   ]
  },
  {
   "cell_type": "code",
   "execution_count": 153,
   "metadata": {},
   "outputs": [],
   "source": [
    "# define likelihood function\n",
    "def MLERegression(params):\n",
    "    intercept, beta, sd= params[0], params[1], params[2] # inputs are guesses at our parameters\n",
    "    yhat = intercept + beta*x # predictions\n",
    "    # next, we flip the Bayesian question\n",
    "    # compute PDF of observed values normally distributed around mean (yhat)\n",
    "    # with a standard deviation of sd\n",
    "    negLL = -np.sum( stats.norm.logpdf(y, loc=yhat, scale=sd) )# return negative LL\n",
    "    return(negLL)"
   ]
  },
  {
   "cell_type": "code",
   "execution_count": 154,
   "metadata": {},
   "outputs": [
    {
     "name": "stdout",
     "output_type": "stream",
     "text": [
      "Optimization terminated successfully.\n",
      "         Current function value: 205.245697\n",
      "         Iterations: 112\n",
      "         Function evaluations: 196\n"
     ]
    }
   ],
   "source": [
    "# let’s start with some random coefficient guesses and optimize\n",
    "guess = np.array([5,5,2])\n",
    "results = minimize(\n",
    "    MLERegression,\n",
    "    guess,\n",
    "    method = 'Nelder-Mead', \n",
    "    options={'disp': True}\n",
    ")"
   ]
  },
  {
   "cell_type": "code",
   "execution_count": 155,
   "metadata": {},
   "outputs": [
    {
     "data": {
      "text/html": [
       "<div>\n",
       "<style scoped>\n",
       "    .dataframe tbody tr th:only-of-type {\n",
       "        vertical-align: middle;\n",
       "    }\n",
       "\n",
       "    .dataframe tbody tr th {\n",
       "        vertical-align: top;\n",
       "    }\n",
       "\n",
       "    .dataframe thead th {\n",
       "        text-align: right;\n",
       "    }\n",
       "</style>\n",
       "<table border=\"1\" class=\"dataframe\">\n",
       "  <thead>\n",
       "    <tr style=\"text-align: right;\">\n",
       "      <th></th>\n",
       "      <th>coef</th>\n",
       "    </tr>\n",
       "  </thead>\n",
       "  <tbody>\n",
       "    <tr>\n",
       "      <th>constant</th>\n",
       "      <td>0.6623</td>\n",
       "    </tr>\n",
       "    <tr>\n",
       "      <th>x</th>\n",
       "      <td>4.0169</td>\n",
       "    </tr>\n",
       "  </tbody>\n",
       "</table>\n",
       "</div>"
      ],
      "text/plain": [
       "            coef\n",
       "constant  0.6623\n",
       "x         4.0169"
      ]
     },
     "execution_count": 155,
     "metadata": {},
     "output_type": "execute_result"
    }
   ],
   "source": [
    "resultsdf = pd.DataFrame({'coef':results['x']})\n",
    "resultsdf.index=['constant','x','sigma']   \n",
    "np.round(resultsdf.head(2), 4)"
   ]
  },
  {
   "cell_type": "code",
   "execution_count": 156,
   "metadata": {},
   "outputs": [
    {
     "data": {
      "text/plain": [
       "array([0.66229403, 4.01687217, 1.88421395])"
      ]
     },
     "execution_count": 156,
     "metadata": {},
     "output_type": "execute_result"
    }
   ],
   "source": [
    "results['x']"
   ]
  },
  {
   "cell_type": "markdown",
   "metadata": {},
   "source": [
    "# Maximum likelihood estimation - Logistics Regression"
   ]
  },
  {
   "cell_type": "code",
   "execution_count": 131,
   "metadata": {},
   "outputs": [
    {
     "data": {
      "text/plain": [
       "<matplotlib.axes._subplots.AxesSubplot at 0x13de1b790>"
      ]
     },
     "execution_count": 131,
     "metadata": {},
     "output_type": "execute_result"
    },
    {
     "data": {
      "image/png": "[encoded data removed]",
      "text/plain": [
       "<Figure size 432x288 with 1 Axes>"
      ]
     },
     "metadata": {
      "needs_background": "light"
     },
     "output_type": "display_data"
    }
   ],
   "source": [
    "# generate data\n",
    "N = 1000\n",
    "x = np.random.uniform(-10, 10, N)\n",
    "x.sort()\n",
    "\n",
    "a, b = 10, 2\n",
    "y = 1 / (1 + np.exp(-(a*x + b)))\n",
    "\n",
    "sns.scatterplot(x, y)"
   ]
  },
  {
   "cell_type": "code",
   "execution_count": 132,
   "metadata": {},
   "outputs": [],
   "source": [
    "# define likelihood function\n",
    "def MLERegression(params):\n",
    "    epsilon = 0.000001\n",
    "    a_test = params[0]\n",
    "    b_test = params[1]\n",
    "    pi = 1 / (1 + np.exp(-(a_test*x + b_test)))\n",
    "    \n",
    "    ll = np.sum(y*np.log(pi + epsilon) + (1 - y)*np.log(1 - pi  + epsilon))\n",
    "    print(ll)\n",
    "    return(-ll)"
   ]
  },
  {
   "cell_type": "code",
   "execution_count": 133,
   "metadata": {},
   "outputs": [
    {
     "name": "stdout",
     "output_type": "stream",
     "text": [
      "-21.471303937968713\n",
      "-21.305598734392166\n",
      "-21.46911234539024\n",
      "-21.303419445049887\n",
      "-21.24377938420787\n",
      "-21.17161997414363\n",
      "-21.149506735415923\n",
      "-21.156438362524398\n",
      "-21.31893530128062\n",
      "-21.159592432064898\n",
      "-21.20801009501336\n",
      "-21.14692504140559\n",
      "-21.159045315862592\n",
      "-21.149491606401536\n",
      "-21.144387813975058\n",
      "-21.142605440893718\n",
      "-21.151474408854313\n",
      "-21.14573886708816\n",
      "-21.14199187544592\n",
      "-21.141225974506913\n",
      "-21.13601903889074\n",
      "-21.13116882627496\n",
      "-21.133514334995\n",
      "-21.12145760220354\n",
      "-21.111611427507437\n",
      "-21.114152012096323\n",
      "-21.092601239605116\n",
      "-21.073474537322994\n",
      "-21.073548506167132\n",
      "-21.033764286457476\n",
      "-20.995463533911618\n",
      "-21.00276683367507\n",
      "-20.924315401893672\n",
      "-20.85237391777908\n",
      "-20.842892881581843\n",
      "-20.765555313753207\n",
      "-20.62428365809904\n",
      "-20.44802510602104\n",
      "-20.358463634688917\n",
      "-20.122375589211718\n",
      "-19.826623495003812\n",
      "-19.406202237461752\n",
      "-19.096344383642045\n",
      "-18.497215896020943\n",
      "-17.967653856092713\n",
      "-17.249295918938707\n",
      "-16.58939907970792\n",
      "-15.874637269470739\n",
      "-16.416315261561344\n",
      "-16.73517899357689\n",
      "-16.10193297859968\n",
      "-15.47593140132679\n",
      "-15.393322132101643\n",
      "-16.748554679064263\n",
      "-15.606318145030455\n",
      "-15.048510707982294\n",
      "-14.774350149811157\n",
      "-14.85691658341412\n",
      "-14.38336173970442\n",
      "-14.233036512427024\n",
      "-14.538994433396317\n",
      "-14.533408974942978\n",
      "-14.342301723976437\n",
      "-14.423599904605314\n",
      "-14.263883202143194\n",
      "-14.545905231337718\n",
      "-14.243176636063577\n",
      "-14.253668206395966\n",
      "-14.223380015543096\n",
      "-14.33554089569881\n",
      "-14.21793366627099\n",
      "-14.256444095929806\n",
      "-14.218450762777039\n",
      "-14.21787172422786\n",
      "-14.230793554568086\n",
      "-14.230419150401424\n",
      "-14.215153671851962\n",
      "-14.223209700636449\n",
      "-14.21562400007065\n",
      "-14.217520905779962\n",
      "-14.215614466336902\n",
      "-14.216902081630552\n",
      "-14.215129391169224\n",
      "-14.215407856543544\n",
      "-14.215080612884517\n",
      "-14.215382472610633\n",
      "-14.21501927028744\n",
      "-14.215533446883686\n",
      "-14.215008804100501\n",
      "-14.215064650430381\n",
      "-14.215013516997091\n",
      "-14.215091414110546\n",
      "-14.2150005855502\n",
      "-14.215008749578212\n",
      "-14.21501563399001\n",
      "-14.215001320139052\n",
      "-14.215009019846573\n",
      "-14.215001130913748\n",
      "-14.215003386589105\n",
      "-14.214999211741493\n",
      "-14.215002923188703\n",
      "-14.214999089343575\n",
      "-14.215005989849528\n",
      "-14.214998783244003\n",
      "-14.214999418913514\n",
      "-14.214998816085007\n",
      "-14.214998830662088\n",
      "-14.214998654727651\n",
      "-14.214999653388384\n",
      "-14.214998630021602\n",
      "-14.214998650695584\n",
      "-14.2149988665338\n",
      "-14.214998608855907\n",
      "-14.21499868574363\n",
      "-14.214998619381957\n",
      "-14.21499860469493\n",
      "-14.214998619813779\n",
      "-14.214998624937747\n",
      "-14.21499860699368\n",
      "-14.214998617505593\n",
      "-14.214998604351129\n",
      "-14.21499860676537\n",
      "-14.21499860420665\n",
      "-14.214998606794783\n",
      "-14.214998603595493\n",
      "-14.214998607909772\n",
      "-14.214998603491532\n",
      "Optimization terminated successfully.\n",
      "         Current function value: 14.214999\n",
      "         Iterations: 69\n",
      "         Function evaluations: 127\n"
     ]
    }
   ],
   "source": [
    "# let’s start with some random coefficient guesses and optimize\n",
    "guess = np.array([6,0])\n",
    "results = minimize(\n",
    "    MLERegression,\n",
    "    guess,\n",
    "    method = 'Nelder-Mead', \n",
    "    options={'disp': True}\n",
    ")"
   ]
  },
  {
   "cell_type": "code",
   "execution_count": 134,
   "metadata": {},
   "outputs": [
    {
     "data": {
      "text/plain": [
       "array([10.00076225,  2.00015957])"
      ]
     },
     "execution_count": 134,
     "metadata": {},
     "output_type": "execute_result"
    }
   ],
   "source": [
    "results['x']"
   ]
  }
 ],
 "metadata": {
  "kernelspec": {
   "display_name": "Python 3",
   "language": "python",
   "name": "python3"
  },
  "language_info": {
   "codemirror_mode": {
    "name": "ipython",
    "version": 3
   },
   "file_extension": ".py",
   "mimetype": "text/x-python",
   "name": "python",
   "nbconvert_exporter": "python",
   "pygments_lexer": "ipython3",
   "version": "3.7.4"
  }
 },
 "nbformat": 4,
 "nbformat_minor": 2
}
