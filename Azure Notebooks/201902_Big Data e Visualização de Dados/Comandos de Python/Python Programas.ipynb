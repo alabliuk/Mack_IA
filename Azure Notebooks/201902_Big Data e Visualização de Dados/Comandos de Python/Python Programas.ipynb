{
 "cells": [
  {
   "cell_type": "markdown",
   "metadata": {},
   "source": [
    "# Programas em Python"
   ]
  },
  {
   "cell_type": "markdown",
   "metadata": {},
   "source": [
    "## Criando programas"
   ]
  },
  {
   "cell_type": "code",
   "execution_count": 5,
   "metadata": {},
   "outputs": [
    {
     "name": "stdout",
     "output_type": "stream",
     "text": [
      "23.291229956104985\n",
      "<class 'float'>\n"
     ]
    }
   ],
   "source": [
    "#calculando ICM usando\n",
    "peso = 78\n",
    "altura = 1.83\n",
    "IMC = peso / altura ** 2\n",
    "#IMC = (78 / 1.83 **2)\n",
    "print(IMC)\n",
    "print(type(IMC))"
   ]
  },
  {
   "cell_type": "code",
   "execution_count": 6,
   "metadata": {},
   "outputs": [
    {
     "name": "stdout",
     "output_type": "stream",
     "text": [
      "23\n"
     ]
    }
   ],
   "source": [
    "#transformando o float em inteiro criando outra variável\n",
    "IMCinteiro = int(IMC)\n",
    "print(IMCinteiro)"
   ]
  },
  {
   "cell_type": "code",
   "execution_count": 7,
   "metadata": {},
   "outputs": [
    {
     "name": "stdout",
     "output_type": "stream",
     "text": [
      "23\n"
     ]
    }
   ],
   "source": [
    "#conversão de float em inteiro de forma direta\n",
    "print(int(IMC))"
   ]
  },
  {
   "cell_type": "code",
   "execution_count": 10,
   "metadata": {},
   "outputs": [
    {
     "name": "stdout",
     "output_type": "stream",
     "text": [
      "23.291229956104985\n",
      "18\n"
     ]
    }
   ],
   "source": [
    "#converte o resultado do IMC para texto\n",
    "texto = str(IMC)\n",
    "#imprime o resultado\n",
    "print(texto)\n",
    "\n",
    "#verificando o tamanho do resultado do texto/IMC\n",
    "#len(texto)\n",
    "\n",
    "#Usando uma função dentro da outra para mostrar o testo convertido e contar os caracteres\n",
    "print(len(str(texto)))"
   ]
  },
  {
   "cell_type": "markdown",
   "metadata": {},
   "source": [
    "###### a escolha entre o modo direto e a criação de variável vai depender da utilização no programa e se o tipo deve ser mantido ou não\n"
   ]
  },
  {
   "cell_type": "code",
   "execution_count": 9,
   "metadata": {},
   "outputs": [
    {
     "data": {
      "text/plain": [
       "18"
      ]
     },
     "execution_count": 9,
     "metadata": {},
     "output_type": "execute_result"
    }
   ],
   "source": [
    "#atribuindo valor à variável\n",
    "texto = \"Bom dia, tudo bem?\"\n",
    "\n",
    "#verifica o tamanho do contepudo da variável, quantas posições tem\n",
    "len(texto)"
   ]
  },
  {
   "cell_type": "code",
   "execution_count": 1,
   "metadata": {},
   "outputs": [
    {
     "name": "stdout",
     "output_type": "stream",
     "text": [
      "Digite uma temperatura em fahrenheit 30\n",
      "A temperatura em Celsius é  -1.1111111111111112\n"
     ]
    }
   ],
   "source": [
    "#fazendo um programa para converter temperatura \n",
    "\n",
    "#informa temperatura em fahrenheit \n",
    "temperaturafahrenheit = input(\"Digite uma temperatura em fahrenheit \")\n",
    "\n",
    "#converte a temperatura em celsius\n",
    "temperaturacelsius = (float(temperaturafahrenheit) - 32) * 5 / 9\n",
    "\n",
    "#imprime o resultado\n",
    "print(\"A temperatura em Celsius é \", temperaturacelsius)"
   ]
  },
  {
   "cell_type": "code",
   "execution_count": 4,
   "metadata": {},
   "outputs": [
    {
     "name": "stdout",
     "output_type": "stream",
     "text": [
      "Qual o nome da sua mãe? Carla\n",
      "\n",
      "Qual o nome da seu pai? Bonifacio\n",
      "\n",
      "Bom dia sra. Carla !!! E bom dia Sr.  Bonifacio\n"
     ]
    }
   ],
   "source": [
    "#programa receber nomes e imprimir mensagens\n",
    "nomeMae = input(\"Qual o nome da sua mãe? \")\n",
    "\n",
    "#adicionado print() após cada input para não travar a execução no jupyternotebook após entrar com os dados via input\n",
    "print()\n",
    "\n",
    "nomePai = input(\"Qual o nome da seu pai? \")\n",
    "\n",
    "print()\n",
    "\n",
    "print(\"Bom dia sra.\", nomeMae, \"!!! E bom dia sr. \", nomePai)"
   ]
  },
  {
   "cell_type": "code",
   "execution_count": 6,
   "metadata": {},
   "outputs": [
    {
     "name": "stdout",
     "output_type": "stream",
     "text": [
      "Por favor entre com o número de segundos que deseja converter: 9000\n",
      "\n",
      "2 horas  30 minutos e  0 segundos.\n"
     ]
    }
   ],
   "source": [
    "#programa para conversao de horas \n",
    "#converte segundos em horas, minutos e segundos\n",
    "segundos_str = input(\"Por favor entre com o número de segundos que deseja converter: \")\n",
    "print()\n",
    "\n",
    "total_segs = int(segundos_str)\n",
    "\n",
    "horas = total_segs // 3600\n",
    "segs_restantes = total_segs % 3600\n",
    "minutos = segs_restantes // 60\n",
    "segs_restantes_final = segs_restantes % 60\n",
    "\n",
    "print(horas, \"horas \", minutos, \"minutos e \", segs_restantes_final, \"segundos.\" )\n",
    "\n"
   ]
  },
  {
   "cell_type": "code",
   "execution_count": 9,
   "metadata": {},
   "outputs": [
    {
     "name": "stdout",
     "output_type": "stream",
     "text": [
      "Por favor digite a medida do lado de um quadrado: 3\n",
      "\n",
      "perimetro:  12.0 - área:  9.0\n"
     ]
    }
   ],
   "source": [
    "#calcula perimetro e área de um quadrado\n",
    "lado = input(\"Por favor digite a medida do lado de um quadrado: \")\n",
    "\n",
    "print()\n",
    "\n",
    "lado = float(lado)\n",
    "\n",
    "perimetro = lado * 4\n",
    "\n",
    "area = lado * lado\n",
    "\n",
    "print(\"perimetro: \", perimetro, \"-\", \"área: \", area)"
   ]
  },
  {
   "cell_type": "code",
   "execution_count": 11,
   "metadata": {},
   "outputs": [
    {
     "name": "stdout",
     "output_type": "stream",
     "text": [
      "Digite a primeira nota: 3\n",
      "\n",
      "Digite a segunda nota: 6\n",
      "\n",
      "Digite a terceira nota: 9\n",
      "\n",
      "Digite a quarta nota: 10\n",
      "\n",
      "A média aritmética é  7.0\n"
     ]
    }
   ],
   "source": [
    "#programa de calculo de médias de notas\n",
    "nota1 = input(\"Digite a primeira nota: \")\n",
    "print()\n",
    "nota2 = input(\"Digite a segunda nota: \")\n",
    "print()\n",
    "nota3 = input(\"Digite a terceira nota: \")\n",
    "print()\n",
    "nota4 = input(\"Digite a quarta nota: \")\n",
    "print()\n",
    "\n",
    "media = (float(nota1) + float(nota2) + float(nota3) + float(nota4))/4\n",
    "\n",
    "print(\"A média aritmética é \", media)"
   ]
  },
  {
   "cell_type": "markdown",
   "metadata": {},
   "source": [
    "### Condições if, elif, else"
   ]
  },
  {
   "cell_type": "code",
   "execution_count": 24,
   "metadata": {},
   "outputs": [
    {
     "name": "stdout",
     "output_type": "stream",
     "text": [
      "Digite um numero: 1\n",
      "O numero é igual a 1\n"
     ]
    }
   ],
   "source": [
    "#Estruturas de programação\n",
    "#if condição (Se for verdadeiro faça, senão passe para a próxima condição ou siga o programa)\n",
    "\n",
    "numero = input(\"Digite um numero: \")\n",
    "numero = int(numero)\n",
    "if numero == 1:\n",
    "    print(\"O numero é igual a 1\")\n",
    "else:\n",
    "    print(\"O numero é diferente de 1\")\n"
   ]
  },
  {
   "cell_type": "code",
   "execution_count": 32,
   "metadata": {},
   "outputs": [
    {
     "name": "stdout",
     "output_type": "stream",
     "text": [
      "Digite um numero: 1\n",
      "O numero é igual a 1\n"
     ]
    }
   ],
   "source": [
    "#reduzindo codigo\n",
    "numero = int(input(\"Digite um numero: \"))\n",
    "if numero == 1:\n",
    "    print(\"O numero é igual a 1\")\n",
    "else:\n",
    "    print(\"O numero é diferente de 1\")\n"
   ]
  },
  {
   "cell_type": "code",
   "execution_count": 31,
   "metadata": {},
   "outputs": [
    {
     "name": "stdout",
     "output_type": "stream",
     "text": [
      "Digite seu nome: cinti\n",
      "Seu nome não possui as letra a e b\n"
     ]
    }
   ],
   "source": [
    "nome = input(\"Digite seu nome: \")\n",
    "if (\"a\" in nome):\n",
    "    print(\"Seu nome possui a letra a\")\n",
    "elif (\"b\" in nome):\n",
    "    print(\"seu nome possui a letra b\")\n",
    "else:\n",
    "    print(\"Seu nome não possui as letra a e b\")"
   ]
  },
  {
   "cell_type": "markdown",
   "metadata": {},
   "source": [
    "### Condições for"
   ]
  },
  {
   "cell_type": "code",
   "execution_count": 37,
   "metadata": {},
   "outputs": [],
   "source": [
    "nome = \"ana\""
   ]
  },
  {
   "cell_type": "code",
   "execution_count": 39,
   "metadata": {},
   "outputs": [
    {
     "name": "stdout",
     "output_type": "stream",
     "text": [
      "a\n",
      "n\n",
      "a\n"
     ]
    }
   ],
   "source": [
    "for letra in nome :\n",
    "    print(letra)"
   ]
  },
  {
   "cell_type": "code",
   "execution_count": 33,
   "metadata": {},
   "outputs": [
    {
     "name": "stdout",
     "output_type": "stream",
     "text": [
      "0\n",
      "1\n",
      "2\n",
      "3\n",
      "4\n",
      "5\n"
     ]
    }
   ],
   "source": [
    "for x in range (0,6):\n",
    "    print(x)"
   ]
  },
  {
   "cell_type": "code",
   "execution_count": null,
   "metadata": {},
   "outputs": [],
   "source": [
    "#programa para entrar com cada valor dem uma matriz\n",
    "for l in range(0,3):\n",
    "    for c in range(0,3):\n",
    "        matriz [l][c] =  int(input(f'Digite um valor para [{l},{c}]: '))\n",
    "        print (\"-=\" *30)\n",
    "        for l in range(0,3):\n",
    "            for c in range(0,3):\n",
    "                print(f'[{matriz[l],[c]}]',end='')\n",
    "            print()"
   ]
  },
  {
   "cell_type": "markdown",
   "metadata": {},
   "source": [
    "### Condições wile"
   ]
  },
  {
   "cell_type": "code",
   "execution_count": 41,
   "metadata": {},
   "outputs": [
    {
     "name": "stdout",
     "output_type": "stream",
     "text": [
      "8\n",
      "7\n",
      "6\n",
      "5\n",
      "4\n",
      "3\n",
      "2\n",
      "1\n",
      "0\n"
     ]
    }
   ],
   "source": [
    "numero = 8\n",
    "while numero>=0:\n",
    "    print(numero)\n",
    "    numero = numero - 1"
   ]
  }
 ],
 "metadata": {
  "kernelspec": {
   "display_name": "Python 3",
   "language": "python",
   "name": "python3"
  },
  "language_info": {
   "codemirror_mode": {
    "name": "ipython",
    "version": 3
   },
   "file_extension": ".py",
   "mimetype": "text/x-python",
   "name": "python",
   "nbconvert_exporter": "python",
   "pygments_lexer": "ipython3",
   "version": "3.7.4"
  }
 },
 "nbformat": 4,
 "nbformat_minor": 2
}
