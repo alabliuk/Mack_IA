{
  "cells": [
    {
      "metadata": {},
      "cell_type": "markdown",
      "source": "# Desvendando Python"
    },
    {
      "metadata": {
        "trusted": true
      },
      "cell_type": "code",
      "source": "print(\"Olá mundo\")",
      "execution_count": 1,
      "outputs": [
        {
          "output_type": "stream",
          "text": "Olá mundo\n",
          "name": "stdout"
        }
      ]
    },
    {
      "metadata": {},
      "cell_type": "markdown",
      "source": "## Um pouco de História e algumas dicas"
    },
    {
      "metadata": {},
      "cell_type": "markdown",
      "source": "O python foi criado em 1989 em Amsterdã na Holanda por Guido Van Hossum. \nO nome Python teve a sua origem inspirado pelo grupo humorístico britânico Monty Python's Flying Circus.\nA organização Python Software Foundation responsável pela documentação foi fundada logo depois em 2001.\nO python é utilizado pela Google, Microsoft, Youtube, Games, Air Canada, NASA dentre outros.\nO python está presente em Computação 3D, Biotecnologia, Inteligência Artifical e Programação em geral.\nO python é nativo no Mac e no Linux, mas precisa ser instalado no Windows.\n\nAlgumas Características.\n\nO python é:\n- Uma linguagem de propósito geral\n- Fácil e intuitiva\n- Multiplataforma\n- Open Source\n- Possui muitas biblotecas(pacotes de ferramentas)\n- Orientada a Objeto\n- Organizado / Identado\n\nInstale o programa baixando sua versão pelo site:\nhttps://www.python.org/downloads/\n\nOu instale o Pacote Anaconda que traz o jupyter notebook:\nhttps://www.anaconda.com/distribution/#download-section\n\nVocê pode utilizar o python de várias formas:\n\n1 -  Modo terminal em shell script\nNo Windows digite cmd em pesquisar para abrir o terminal, em seguida digite python para chamar o python e comece a utilizar os comandos e para finalizar digite exit().\n\n2 -  Através do IDLE que é como um shell script\nNo windows, digite IDLE em pesquisar e clique no IDLE (python, v XX-bit), será aberta uma tela parecida com a do Shell script do Sistema Operacional porém mais colorido e organizado e pode utilizar um menu para melhor interagir com os recursos.\n\n3 - Pode utilizar em um programa com interface visual como (spyder que vem no pacote anaconda, pycharm)\nUtilize a Instalação através dos sites dos fornecedores:\nhttps://www.jetbrains.com/pycharm/download/#section=windows\nhttps://www.spyder-ide.org/\n\n4 - Pode utilizar no Jupyter Notebook como localhost\n\n5 - você pode utilizar o Jupyter Notebook do Google Colab:\nhttps://colab.research.google.com/notebooks/welcome.ipynb\n\nO caminho padrão para salvar arquivos no jupyternotebook é C:\\Users\\usuario , você deve informar esse diretório para salvar, informar o nome do arquivo/programa com .ipynb no final como extensão. Caso você chame o jupyter notebook pelo cmd, ele executará e salvará os arquivos na pasta de onde foi chamado.\n\nA parte legal de utilizar o Jupyter notebook é que você pode utilizar as células de Markdown para documentar seu projeto e o Code para inserir os códigos que já vem com o play/run ao lado para fazer a execução.\n\nO Python é uma linguagem de alto nível, interpretada, orientada a objetos, a identação define os blocos deixando a liguagem mais limpa."
    },
    {
      "metadata": {},
      "cell_type": "markdown",
      "source": "## Operações"
    },
    {
      "metadata": {
        "trusted": false
      },
      "cell_type": "code",
      "source": "#soma\n1+1",
      "execution_count": null,
      "outputs": [
        {
          "evalue": "Error: Jupyter cannot be started. Error attempting to locate jupyter: Error: Module 'notebook' not installed.",
          "output_type": "error"
        }
      ]
    },
    {
      "metadata": {
        "trusted": false
      },
      "cell_type": "code",
      "source": "#subtração\n5 - 8",
      "execution_count": 2,
      "outputs": [
        {
          "data": {
            "text/plain": "-3"
          },
          "execution_count": 2,
          "metadata": {},
          "output_type": "execute_result"
        }
      ]
    },
    {
      "metadata": {
        "trusted": false
      },
      "cell_type": "code",
      "source": "#divisão\n15 / 3",
      "execution_count": 10,
      "outputs": [
        {
          "data": {
            "text/plain": "5.0"
          },
          "execution_count": 10,
          "metadata": {},
          "output_type": "execute_result"
        }
      ]
    },
    {
      "metadata": {
        "trusted": false
      },
      "cell_type": "code",
      "source": "#operação simples\n2 + 5 * 2",
      "execution_count": 3,
      "outputs": [
        {
          "data": {
            "text/plain": "12"
          },
          "execution_count": 3,
          "metadata": {},
          "output_type": "execute_result"
        }
      ]
    },
    {
      "metadata": {
        "trusted": false
      },
      "cell_type": "code",
      "source": "#operação por prioridade de ()\n(2 + 5) * 2",
      "execution_count": 4,
      "outputs": [
        {
          "data": {
            "text/plain": "14"
          },
          "execution_count": 4,
          "metadata": {},
          "output_type": "execute_result"
        }
      ]
    },
    {
      "metadata": {
        "trusted": false
      },
      "cell_type": "code",
      "source": "#operação por prioridade de ()\n3 - (4 * 20 + (3 - (3 * 7)))",
      "execution_count": 6,
      "outputs": [
        {
          "data": {
            "text/plain": "-59"
          },
          "execution_count": 6,
          "metadata": {},
          "output_type": "execute_result"
        }
      ]
    },
    {
      "metadata": {
        "trusted": false
      },
      "cell_type": "code",
      "source": "#potencia\n2 ** 3",
      "execution_count": 7,
      "outputs": [
        {
          "data": {
            "text/plain": "8"
          },
          "execution_count": 7,
          "metadata": {},
          "output_type": "execute_result"
        }
      ]
    },
    {
      "metadata": {
        "trusted": false
      },
      "cell_type": "code",
      "source": "#divisao inteira\n5//2",
      "execution_count": 13,
      "outputs": [
        {
          "data": {
            "text/plain": "2"
          },
          "execution_count": 13,
          "metadata": {},
          "output_type": "execute_result"
        }
      ]
    },
    {
      "metadata": {
        "trusted": false
      },
      "cell_type": "code",
      "source": "# temos dizimas de casas decimais\n10 / 3",
      "execution_count": null,
      "outputs": [
        {
          "evalue": "Error: Jupyter cannot be started. Error attempting to locate jupyter: Error: Module 'notebook' not installed.",
          "output_type": "error"
        }
      ]
    },
    {
      "metadata": {
        "trusted": false
      },
      "cell_type": "code",
      "source": "#divisão resto\n5 % 2",
      "execution_count": 15,
      "outputs": [
        {
          "data": {
            "text/plain": "1"
          },
          "execution_count": 15,
          "metadata": {},
          "output_type": "execute_result"
        }
      ]
    },
    {
      "metadata": {},
      "cell_type": "raw",
      "source": "Operadores\n== igual\n!= diferente\n> maior\n< menor\n>= maior ou igual\n<= menor ou igual"
    },
    {
      "metadata": {},
      "cell_type": "raw",
      "source": "Opeadores lógicos\nand - e (uma condição e outra)\nor - ou (uma condição ou outra)\nnot - não (negativa de condição, quando for falso, quando nçao estiver na condição)"
    },
    {
      "metadata": {
        "trusted": false
      },
      "cell_type": "code",
      "source": "#comparação\n2 > 5",
      "execution_count": 16,
      "outputs": [
        {
          "data": {
            "text/plain": "False"
          },
          "execution_count": 16,
          "metadata": {},
          "output_type": "execute_result"
        }
      ]
    },
    {
      "metadata": {
        "trusted": false
      },
      "cell_type": "code",
      "source": "#comparação\n10 < 20",
      "execution_count": 18,
      "outputs": [
        {
          "data": {
            "text/plain": "True"
          },
          "execution_count": 18,
          "metadata": {},
          "output_type": "execute_result"
        }
      ]
    },
    {
      "metadata": {
        "trusted": false
      },
      "cell_type": "code",
      "source": "#comparação\n5 <= 5",
      "execution_count": 20,
      "outputs": [
        {
          "data": {
            "text/plain": "True"
          },
          "execution_count": 20,
          "metadata": {},
          "output_type": "execute_result"
        }
      ]
    },
    {
      "metadata": {
        "trusted": false
      },
      "cell_type": "code",
      "source": "#comparação de igualdade == resultado de operações\n9 **2 == 80 + 1",
      "execution_count": 21,
      "outputs": [
        {
          "data": {
            "text/plain": "True"
          },
          "execution_count": 21,
          "metadata": {},
          "output_type": "execute_result"
        }
      ]
    },
    {
      "metadata": {
        "trusted": false
      },
      "cell_type": "code",
      "source": "#comparação de diferenças !=\n20 !=30",
      "execution_count": 22,
      "outputs": [
        {
          "data": {
            "text/plain": "True"
          },
          "execution_count": 22,
          "metadata": {},
          "output_type": "execute_result"
        }
      ]
    },
    {
      "metadata": {
        "trusted": false
      },
      "cell_type": "code",
      "source": "#perguntando tipos dos dados\ntype(10)",
      "execution_count": 23,
      "outputs": [
        {
          "data": {
            "text/plain": "int"
          },
          "execution_count": 23,
          "metadata": {},
          "output_type": "execute_result"
        }
      ]
    },
    {
      "metadata": {
        "trusted": false
      },
      "cell_type": "code",
      "source": "#perguntando tipo dos dados\ntype(\"tudo bem?\")",
      "execution_count": 24,
      "outputs": [
        {
          "data": {
            "text/plain": "str"
          },
          "execution_count": 24,
          "metadata": {},
          "output_type": "execute_result"
        }
      ]
    },
    {
      "metadata": {
        "trusted": false
      },
      "cell_type": "code",
      "source": "#perguntando tipo\ntype(5/2)",
      "execution_count": 28,
      "outputs": [
        {
          "data": {
            "text/plain": "float"
          },
          "execution_count": 28,
          "metadata": {},
          "output_type": "execute_result"
        }
      ]
    },
    {
      "metadata": {},
      "cell_type": "markdown",
      "source": "## Imputando Dados"
    },
    {
      "metadata": {
        "trusted": false
      },
      "cell_type": "code",
      "source": "input(\"Digite seu nome aqui\")",
      "execution_count": 1,
      "outputs": [
        {
          "name": "stdout",
          "output_type": "stream",
          "text": "Digite seu nome aquiAndrea\n"
        },
        {
          "data": {
            "text/plain": "'Andrea'"
          },
          "execution_count": 1,
          "metadata": {},
          "output_type": "execute_result"
        }
      ]
    },
    {
      "metadata": {},
      "cell_type": "markdown",
      "source": "## Imprimindo Dados "
    },
    {
      "metadata": {
        "trusted": true
      },
      "cell_type": "code",
      "source": "print(\"Hello World\")",
      "execution_count": 2,
      "outputs": [
        {
          "output_type": "stream",
          "text": "Hello World\n",
          "name": "stdout"
        }
      ]
    },
    {
      "metadata": {
        "trusted": true
      },
      "cell_type": "code",
      "source": "## Criando variáveis",
      "execution_count": null,
      "outputs": []
    },
    {
      "metadata": {
        "trusted": false
      },
      "cell_type": "code",
      "source": "nome = input(\"Digite seu nome: \")",
      "execution_count": 4,
      "outputs": [
        {
          "name": "stdout",
          "output_type": "stream",
          "text": "Digite seu nome: Andréa\n"
        }
      ]
    },
    {
      "metadata": {
        "trusted": false
      },
      "cell_type": "code",
      "source": "num1 = input(\"Digite um número: \")\nnum2 = input(\"Digite outro número: \")",
      "execution_count": 6,
      "outputs": [
        {
          "name": "stdout",
          "output_type": "stream",
          "text": "Digite um número: 2\nDigite outro número: 3\n"
        }
      ]
    },
    {
      "metadata": {},
      "cell_type": "markdown",
      "source": "## Utilizando variáveis"
    },
    {
      "metadata": {
        "trusted": false
      },
      "cell_type": "code",
      "source": "print(\"A \", nome, \"foi a primeira a chegar\")",
      "execution_count": 5,
      "outputs": [
        {
          "name": "stdout",
          "output_type": "stream",
          "text": "A  Andréa foi a primeira a chegar\n"
        }
      ]
    },
    {
      "metadata": {
        "trusted": false
      },
      "cell_type": "code",
      "source": "soma = int(num1)+int(num2)\nprint(\"A soma de \", num1 , \" e \", num2 , \" é \", soma)",
      "execution_count": 15,
      "outputs": [
        {
          "name": "stdout",
          "output_type": "stream",
          "text": "A soma de  2  e  3  é  5\n"
        }
      ]
    },
    {
      "metadata": {
        "trusted": false
      },
      "cell_type": "code",
      "source": "#fazer soma sem conversão da variável, concatena os valores em vez de somar\nprint(\"A soma de \", num1 , \" e \", num2 , \" é \", num1+num2)",
      "execution_count": 16,
      "outputs": [
        {
          "name": "stdout",
          "output_type": "stream",
          "text": "A soma de  2  e  3  é  23\n"
        }
      ]
    },
    {
      "metadata": {},
      "cell_type": "markdown",
      "source": "## Tipos de Dados ou Tipos primitivos"
    },
    {
      "metadata": {},
      "cell_type": "markdown",
      "source": "Os tipos primitivos de dados são 4:\n\n- int ( 7 , -4, 0, 9875) são números inteiros, sejam positivos ou negativos\n- float (4.5, 0.076, -15.223, 7.0) são números reais, sejam positivos ou negativos\n- bool (True, False) tipo binário verdadeiro ou falso\n- str ( \"Olá\", \"7,5\", \"\") - strings ou caracteres de texto"
    },
    {
      "metadata": {
        "trusted": false
      },
      "cell_type": "code",
      "source": "#testando tipos de dados numerico\nn = input(\"digite algo: \")\n# testando numerico verificando se o que foi digitado é tipo int ou não\nprint(n.isnumeric())",
      "execution_count": 18,
      "outputs": [
        {
          "name": "stdout",
          "output_type": "stream",
          "text": "digite algo: abs\nFalse\n"
        }
      ]
    },
    {
      "metadata": {
        "trusted": false
      },
      "cell_type": "code",
      "source": " #testando tipos de dados de texto\nn = input(\"digite algo: \")\n# testando str - verificando se é texto ou string\nprint(n.isalpha())",
      "execution_count": 92,
      "outputs": [
        {
          "name": "stdout",
          "output_type": "stream",
          "text": "digite algo: a\nTrue\n"
        }
      ]
    },
    {
      "metadata": {
        "trusted": false
      },
      "cell_type": "code",
      "source": "#testando tipos de dados decimal\nn = input(\"digite algo: \")\n# testando str - verificando se é texto ou string\nprint(n.isdecimal())",
      "execution_count": 87,
      "outputs": [
        {
          "name": "stdout",
          "output_type": "stream",
          "text": "digite algo: 9876\nTrue\n"
        }
      ]
    },
    {
      "metadata": {
        "trusted": false
      },
      "cell_type": "code",
      "source": "#Exemplo de string com dígitos:\nn = input(\"digite algo: \")\n# testando str - verificando se é texto ou string\nprint(n.isdigit())",
      "execution_count": 88,
      "outputs": [
        {
          "name": "stdout",
          "output_type": "stream",
          "text": "digite algo: 123 3\nFalse\n"
        }
      ]
    },
    {
      "metadata": {
        "trusted": false
      },
      "cell_type": "code",
      "source": "#Faça um programa que leia algo pelo teclado e mostre na tela o tipo de variável e todas as informações possíveis sobre ele\n\ndado = input(\"Digite alguma informação: \")\nprint(\"So tem espaços? \", dado.isspace())\nprint(\"O tipo primitivo desse valor é:\" , type(dado))\nprint(\"É um número? \", dado.isnumeric())\nprint(\"É um alfabetico? \", dado.isalpha())\nprint(\"É alfanumérico? \", dado.isalnum())\nprint(\"É decimal? \", dado.isdecimal())\nprint (\"Está em Maiúsculo? \", dado.isupper())\nprint(\"Está em Minusculo? \", dado.islower())\nprint(\"Está Capitalizada? \", dado.istitle())",
      "execution_count": null,
      "outputs": []
    },
    {
      "metadata": {
        "trusted": false
      },
      "cell_type": "code",
      "source": "# Organizando a impressão das variáveis\nn1 = int(input(\"Digite um número: \"))\nprint()\nn2 = int(input(\"Digite mais um número: \"))\nprint()\n\ns = n1 + n2\n\n#print normal\nprint(\"A soma dos vale: \", s)\n\n#utilizando format\nprint(\"A soma vale {} \".format(s))\n\n#utilizando vários format na sequencia sem informar sequecia\nprint(\"A soma entre {} e {}, vale {}\".format(n1, n2, s))\n\n#utilizando vários format na sequencia, informando sequencia\nprint(\"A soma entre {0} e {1}, vale {2}\".format(n1, n2, s))\n\n#utilizando vários format invertendo a sequencia\nprint(\"A soma entre {1} e {0}, vale {2}\".format(n1, n2, s))\n\n#utilizando vários format invertendo tudo\nprint(\" {2} é a soma  de {1} e {0}\".format(n1, n2, s))",
      "execution_count": 71,
      "outputs": [
        {
          "name": "stdout",
          "output_type": "stream",
          "text": "Digite um número: 22\n\nDigite mais um número: 55\n\nA soma dos vale:  77\nA soma vale 77 \nA soma entre 22 e 55, vale 77\nA soma entre 22 e 55, vale 77\nA soma entre 55 e 22, vale 77\n 77 é a soma  de 55 e 22\n"
        }
      ]
    },
    {
      "metadata": {},
      "cell_type": "markdown",
      "source": "## Conversão de tipos de variáveis"
    },
    {
      "metadata": {
        "trusted": false
      },
      "cell_type": "code",
      "source": "#para inteiro\nvar = input(\"Informe o valor: \")\n#entrou como string\nprint(type(var))\n#muda o tipo para inteiro\nvar = int(var)\nprint(type(var))",
      "execution_count": 19,
      "outputs": [
        {
          "name": "stdout",
          "output_type": "stream",
          "text": "Informe o valor: 23\n<class 'str'>\n<class 'int'>\n"
        }
      ]
    },
    {
      "metadata": {
        "trusted": false
      },
      "cell_type": "code",
      "source": "#para float\nvar = input(\"Informe o valor: \")\n#entrou como string\nprint(type(var))\n#muda o tipo para float\nvar = float(var)\nprint(type(var))",
      "execution_count": 20,
      "outputs": [
        {
          "name": "stdout",
          "output_type": "stream",
          "text": "Informe o valor: 234\n<class 'str'>\n<class 'float'>\n"
        }
      ]
    },
    {
      "metadata": {},
      "cell_type": "markdown",
      "source": "### Centralizando e Alinhando Textos"
    },
    {
      "metadata": {
        "trusted": false
      },
      "cell_type": "code",
      "source": "nome= input(\"Qual é o seu nome?\")\n\n# alinhado a esquerda\nprint(\"Prazer em te conhecer{:>20}\".format(nome))\n\n#Centralizado\nprint(\"Prazer em te conhecer{:^20}\".format(nome))\n\n#Alinhado à Esquerda\nprint(\"Prazer em te conhecer{:<20}\".format(nome))\n\n#Centralizando e complentando com caracteres\nprint(\"Prazer em te conhecer{:*^20}\".format(nome))",
      "execution_count": 12,
      "outputs": [
        {
          "name": "stdout",
          "output_type": "stream",
          "text": "Qual é o seu nome?Eu\nPrazer em te conhecer                  Eu\nPrazer em te conhecer         Eu         \nPrazer em te conhecerEu                  \nPrazer em te conhecer*********Eu*********\n"
        }
      ]
    },
    {
      "metadata": {},
      "cell_type": "markdown",
      "source": "### Criando vetores"
    },
    {
      "metadata": {
        "trusted": false
      },
      "cell_type": "code",
      "source": "#os vetores podem ser alterados após terem sido criados\nvet = [21, 22, 23, 24]\nvet",
      "execution_count": 21,
      "outputs": [
        {
          "data": {
            "text/plain": "[21, 22, 23, 24]"
          },
          "execution_count": 21,
          "metadata": {},
          "output_type": "execute_result"
        }
      ]
    },
    {
      "metadata": {
        "trusted": false
      },
      "cell_type": "code",
      "source": "#inserindo valores a um vetor\n",
      "execution_count": null,
      "outputs": []
    },
    {
      "metadata": {},
      "cell_type": "markdown",
      "source": "### Criando Tuplas"
    },
    {
      "metadata": {
        "trusted": false
      },
      "cell_type": "code",
      "source": "#tuplas não podem ser alteradas apos terem sido criadas, são para fins específicos\ntupla = (1,2,3)\ntupla",
      "execution_count": 23,
      "outputs": [
        {
          "data": {
            "text/plain": "(1, 2, 3)"
          },
          "execution_count": 23,
          "metadata": {},
          "output_type": "execute_result"
        }
      ]
    },
    {
      "metadata": {},
      "cell_type": "markdown",
      "source": "### Criando matrizes"
    },
    {
      "metadata": {
        "trusted": false
      },
      "cell_type": "code",
      "source": "#cria a matriz \nmatriz = [[0,0,1],[0,1,0],[0,0,1]]\n#imprime a matriz\nmatriz",
      "execution_count": 32,
      "outputs": [
        {
          "data": {
            "text/plain": "[[0, 0, 1], [0, 1, 0], [0, 0, 1]]"
          },
          "execution_count": 32,
          "metadata": {},
          "output_type": "execute_result"
        }
      ]
    },
    {
      "metadata": {
        "trusted": false
      },
      "cell_type": "code",
      "source": "#Imprime a atriz por linhas\nfor i in range(0,3):\n    print(matriz[i])",
      "execution_count": 31,
      "outputs": [
        {
          "name": "stdout",
          "output_type": "stream",
          "text": "[0, 0, 1]\n[0, 1, 0]\n[0, 0, 1]\n"
        }
      ]
    },
    {
      "metadata": {
        "trusted": false
      },
      "cell_type": "code",
      "source": "#alterando os elemntos da matriz da lina 1 coluna 2, sendo que as colunas iniciam em 0\nmatriz[1][2] = 2\nmatriz\n",
      "execution_count": 33,
      "outputs": [
        {
          "data": {
            "text/plain": "[[0, 0, 1], [0, 1, 2], [0, 0, 1]]"
          },
          "execution_count": 33,
          "metadata": {},
          "output_type": "execute_result"
        }
      ]
    },
    {
      "metadata": {},
      "cell_type": "markdown",
      "source": "### Criando listas"
    },
    {
      "metadata": {
        "trusted": false
      },
      "cell_type": "code",
      "source": "list = ",
      "execution_count": null,
      "outputs": []
    },
    {
      "metadata": {},
      "cell_type": "markdown",
      "source": "### Criando dicionários"
    },
    {
      "metadata": {
        "trusted": false
      },
      "cell_type": "code",
      "source": "",
      "execution_count": null,
      "outputs": []
    }
  ],
  "metadata": {
    "kernelspec": {
      "name": "python3",
      "display_name": "Python 3",
      "language": "python"
    },
    "language_info": {
      "mimetype": "text/x-python",
      "nbconvert_exporter": "python",
      "name": "python",
      "pygments_lexer": "ipython3",
      "version": "3.5.4",
      "file_extension": ".py",
      "codemirror_mode": {
        "version": 3,
        "name": "ipython"
      }
    }
  },
  "nbformat": 4,
  "nbformat_minor": 2
}