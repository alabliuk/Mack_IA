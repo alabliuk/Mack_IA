{
  "cells": [
    {
      "metadata": {},
      "cell_type": "markdown",
      "source": "# Welcome to Azure Notebooks!\n\nPython is a free, open source programming language which is extremely popular for statistical analysis and AI.\n\nHere, we will give you a taste of what using python is like.\n\nLet's get started. We’ve provided the data for you, and cleaned it up so it’s ready for analysis. You can __move through the steps by clicking on the run button__ just above this notebook."
    },
    {
      "metadata": {},
      "cell_type": "markdown",
      "source": "Exercise 1 - Introduction To Jupyter Notebooks\n==========================\n\nThe purpose of this exercise is to get you familiar with using Jupyter Notebooks. Don't worry if you find the coding difficult - this is not a Python course. You will slowly learn more as you go and you definitely don't need to understand every line of code.\n\nStep 1\n--------\n\nThese notebooks contain places where you can execute code, like below.\n\nGive it a go. Click on the code below, then press `Run` in the toolbar above (or press __Shift+Enter__) to run the code."
    },
    {
      "metadata": {
        "trusted": true
      },
      "cell_type": "code",
      "source": "print(\"The code ran successfully!\")",
      "execution_count": 1,
      "outputs": [
        {
          "output_type": "stream",
          "text": "The code ran successfully!\n",
          "name": "stdout"
        }
      ]
    },
    {
      "metadata": {},
      "cell_type": "markdown",
      "source": "If all went well, the code should have printed a message for you.\n\nAt the start of most programming exercises we have to load things to help us do things easily, like creating graphs. \n\nClick on the code below, then __hit the `Run` button to load graphing capabilities for later in the exercise__."
    },
    {
      "metadata": {
        "trusted": true
      },
      "cell_type": "code",
      "source": "import warnings\nwarnings.filterwarnings(\"ignore\")\nimport matplotlib.pyplot as graph",
      "execution_count": 2,
      "outputs": []
    },
    {
      "metadata": {
        "slideshow": {
          "slide_type": "slide"
        }
      },
      "cell_type": "markdown",
      "source": "Step 2\n--------\n\nLet's get it to print a message you choose this time. \n\n#### Below, write a message between the quotation marks then run the cell.\n\nIt is okay to use spaces, numbers, or letters. Your message should look red. For example, `print(\"this is my message\")`."
    },
    {
      "metadata": {
        "trusted": true
      },
      "cell_type": "code",
      "source": "###\n# WRITE A MESSAGE BETWEEN THE SPEECH MARKS IN THE LINE BELOW, THEN HIT RUN.\n###\nprint(\"type something here!\")\n###\n\n# It's ok to use spaces, numbers, or letters. Your message should look red.\n# For example: print(\"this is my message\")",
      "execution_count": 3,
      "outputs": [
        {
          "output_type": "stream",
          "text": "type something here!\n",
          "name": "stdout"
        }
      ]
    },
    {
      "metadata": {},
      "cell_type": "markdown",
      "source": "You will notice hash symbols (`#`). Anything after a `#` is ignored by the computer. This lets us leave notes for you to read so that you understand the code better."
    },
    {
      "metadata": {},
      "cell_type": "markdown",
      "source": "Step 3\n--------\n\nPython lets us save things and use them later. In this exercise we will save your message"
    },
    {
      "metadata": {
        "trusted": true
      },
      "cell_type": "code",
      "source": "###\n# WRITE A MESSAGE BETWEEN THE SPEECH MARKS IN THE LINE BELOW, THEN PRESS RUN\n###\nmy_message = \"Test\"\n###\n\nprint(my_message) ",
      "execution_count": 3,
      "outputs": [
        {
          "output_type": "stream",
          "text": "Test\n",
          "name": "stdout"
        }
      ]
    },
    {
      "metadata": {},
      "cell_type": "markdown",
      "source": "Okay, what's happened here? \n\nIn the real world we might put something in an envelope (like a letter, or picture). On the envelope we write something (give it a name), like \"my_letter_for_alice\".\n\nIn a computer, we do something similar. The thing that holds information (like the envelope) is called a **variable**. We also give each one a name. \n\nActually, you've already done this.\n\nFirst, you made a message, then you saved it to a **variable** called 'my_message':\n```\nmy_message = \"this is my message!\"\n              ↑↑↑\n              the message you made\n \nmy_message = \"this is my message!\"\n          ↑↑↑\n          the equals sign means to save it to the variable on the left\n     \nmy_message = \"this is my message!\"\n↑↑↑\nthis is the name of your variable. They must never have spaces in them.\n```"
    },
    {
      "metadata": {},
      "cell_type": "markdown",
      "source": "Step 4\n-------\n\nLet's try using variables again, but save a number inside our variable this time. Remember, the variable is on the *left hand side* of the `=` assignment symbol and is the equivalent of a labelled box. The information on the *right hand side* is the information we want to store inside the variable (or a box in our analogy).\n\n#### In the cell below replace `<addNumber>` with any number you choose.\n\nThen __run the code__."
    },
    {
      "metadata": {
        "trusted": true
      },
      "cell_type": "code",
      "source": "###\n# REPLACE <addNumber> BELOW WITH ANY NUMBER\n###\nmy_first_number = 123\n###\n\nprint(my_first_number)\nprint(my_first_number)",
      "execution_count": 5,
      "outputs": [
        {
          "output_type": "stream",
          "text": "123\n123\n",
          "name": "stdout"
        }
      ]
    },
    {
      "metadata": {},
      "cell_type": "markdown",
      "source": "What happened here?\n\nIn the real world, we might then do something with this information. For example, we might choose to read it. We can read it as many times as we like.\n\nOn the computer, we can also do things with this information. Here, you asked the computer to print the message to the screen twice.\n\n```\nprint(my_first_number) \nprint(my_first_number)\n```"
    },
    {
      "metadata": {},
      "cell_type": "markdown",
      "source": "How did you do this though?\n\n```\nprint(....)\n↑↑↑\n```\nthis is what you are asking the computer to do. It is a **method** called print. There are many methods available. Soon, we will use methods that make graphs.\n```\nprint(....)\n     ↑    ↑\n```\nmethods have round brackets. What you write here between these is given to the method. \n```\nprint(my_first_number)\n      ↑↑↑\n```\nIn this case, we gave it 'my_first_number', and it took it and printed it to the screen.               \n      \n\nStep 5\n-------\n\nOk, let's make a graph from some data.\n\n#### In the cell below replace the `<addNumber>`'s with any number you choose\n\nThen __run the code__ to make a graph."
    },
    {
      "metadata": {
        "trusted": true
      },
      "cell_type": "code",
      "source": "# These are our x values\nx_values = [1, 2, 3]\n\n###\n# BELOW INSIDE THE SQUARE BRACKETS, REPLACE THE <addNumber>'S WITH EACH WITH A NUMBER\n###\ny_values = [5, 2, 7]\n###\n\n# When you've done that, run the cell\n# For example, you could change like this: y_values = [3, 1, 7]\n\n# This makes a bar graph. We give it our x and y values\ngraph.bar(x_values, y_values)",
      "execution_count": 7,
      "outputs": [
        {
          "output_type": "execute_result",
          "execution_count": 7,
          "data": {
            "text/plain": "<BarContainer object of 3 artists>"
          },
          "metadata": {}
        },
        {
          "output_type": "display_data",
          "data": {
            "image/png": "[encoded data removed]",
            "text/plain": "<Figure size 432x288 with 1 Axes>"
          },
          "metadata": {
            "needs_background": "light"
          }
        }
      ]
    },
    {
      "metadata": {},
      "cell_type": "markdown",
      "source": "This is very simple, but here x and y are our data.\n\nIf you'd like, have a play with the code:\n* change x and y values and see how the graph changes. Make sure they have the same count of numbers in them.\n* change `graph.bar` to `graph.scatter` to change the type of graph\n\n\nStep 6\n----------------\n\nFrom time to time, we will load data from text files, rather than write it into the code. You can't see these text files in your browser because they are saved on the server running this website. We can load them using code, though. Let's load one up, look at it, then graph it.\n\n#### In the cell below write `print(data.head())` then __run the code__."
    },
    {
      "metadata": {
        "trusted": true
      },
      "cell_type": "code",
      "source": "import pandas as pd\n\n#!ls ~/library/'201902_Aprendizagem de Máquina'/20191123/Data\n\n# The next line loads information about chocolate bars and saves it in a variable called 'data'\ndataset = pd.read_csv(\"~/library/201902_Aprendizagem de Máquina/20191123/Data/chocolate data.txt\", index_col = False, sep = '\\t')\ndataset.head()\n### \n# WRITE print(dataset.head()) BELOW TO PREVIEW THE DATA ---###\n###\n\n###",
      "execution_count": 22,
      "outputs": [
        {
          "output_type": "execute_result",
          "execution_count": 22,
          "data": {
            "text/html": "<div>\n<style scoped>\n    .dataframe tbody tr th:only-of-type {\n        vertical-align: middle;\n    }\n\n    .dataframe tbody tr th {\n        vertical-align: top;\n    }\n\n    .dataframe thead th {\n        text-align: right;\n    }\n</style>\n<table border=\"1\" class=\"dataframe\">\n  <thead>\n    <tr style=\"text-align: right;\">\n      <th></th>\n      <th>weight</th>\n      <th>cocoa_percent</th>\n      <th>sugar_percent</th>\n      <th>milk_percent</th>\n      <th>customer_happiness</th>\n    </tr>\n  </thead>\n  <tbody>\n    <tr>\n      <th>0</th>\n      <td>185</td>\n      <td>65</td>\n      <td>11</td>\n      <td>24</td>\n      <td>47</td>\n    </tr>\n    <tr>\n      <th>1</th>\n      <td>247</td>\n      <td>44</td>\n      <td>34</td>\n      <td>22</td>\n      <td>55</td>\n    </tr>\n    <tr>\n      <th>2</th>\n      <td>133</td>\n      <td>33</td>\n      <td>21</td>\n      <td>47</td>\n      <td>35</td>\n    </tr>\n    <tr>\n      <th>3</th>\n      <td>145</td>\n      <td>30</td>\n      <td>38</td>\n      <td>32</td>\n      <td>34</td>\n    </tr>\n    <tr>\n      <th>4</th>\n      <td>110</td>\n      <td>22</td>\n      <td>70</td>\n      <td>7</td>\n      <td>40</td>\n    </tr>\n  </tbody>\n</table>\n</div>",
            "text/plain": "   weight  cocoa_percent  sugar_percent  milk_percent  customer_happiness\n0     185             65             11            24                  47\n1     247             44             34            22                  55\n2     133             33             21            47                  35\n3     145             30             38            32                  34\n4     110             22             70             7                  40"
          },
          "metadata": {}
        }
      ]
    },
    {
      "metadata": {},
      "cell_type": "markdown",
      "source": "Each row (horizontal) shows information about one chocolate bar. For example, the first chocolate bar was:\n* 185 grams\n* 65% cocoa\n* 11% sugar\n* 24% milk\n* and a customer said they were 47% happy with it\n\nWe would probably say that our chocolate bar features were weight, cocoa %, sugar % and milk %\n\nConclusion\n----------------\n\n__Well done__ that's the end of programming exercise one.\n\nYou can now go back to the course and click __'Next Step'__ to move onto some key concepts of AI - models and error.\n\n\nOptional Step 7\n----------------\nWhen we say \"optional\" we mean exercises that might help you learn, but you don't have to do. \n\nWe can graph some of these features in scatter plot. Let's put cocoa_percent on the x-axis and customer happiness on the y axis.\n\n#### In the cell below replace `<addYValues>` with `customer_happiness` and then __run the code__."
    },
    {
      "metadata": {
        "trusted": true
      },
      "cell_type": "code",
      "source": "x_values = dataset.cocoa_percent\n\n###\n# REPLACE <addYValues> BELOW WITH customer_happiness\n###\ny_values = dataset.<addYValues>\n###\n\ngraph.scatter(x_values, y_values)",
      "execution_count": null,
      "outputs": []
    },
    {
      "metadata": {},
      "cell_type": "markdown",
      "source": "In this graph, every chocolate bar is one point. Later, we will analyse this data with AI."
    }
  ],
  "metadata": {
    "kernelspec": {
      "name": "python36",
      "display_name": "Python 3.6",
      "language": "python"
    },
    "language_info": {
      "mimetype": "text/x-python",
      "nbconvert_exporter": "python",
      "name": "python",
      "pygments_lexer": "ipython3",
      "version": "3.6.6",
      "file_extension": ".py",
      "codemirror_mode": {
        "version": 3,
        "name": "ipython"
      }
    }
  },
  "nbformat": 4,
  "nbformat_minor": 2
}