{
  "cells": [
    {
      "metadata": {
        "collapsed": true
      },
      "cell_type": "markdown",
      "source": "# Titanic: Machine Learning from Disaster\n\n\nURL: https://www.kaggle.com/c/titanic"
    },
    {
      "metadata": {
        "trusted": true
      },
      "cell_type": "code",
      "source": "import warnings\nwarnings.filterwarnings(\"ignore\")\n\nimport pandas as pd",
      "execution_count": 161,
      "outputs": []
    },
    {
      "metadata": {
        "trusted": true
      },
      "cell_type": "code",
      "source": "# Listar conteudo do diretorio [datasets]\n!ls ~/library/datasets",
      "execution_count": 162,
      "outputs": [
        {
          "output_type": "stream",
          "text": "gender_submission.csv  test.csv  train.csv\r\n",
          "name": "stdout"
        }
      ]
    },
    {
      "metadata": {},
      "cell_type": "markdown",
      "source": "## Exploração dos dados"
    },
    {
      "metadata": {
        "trusted": true
      },
      "cell_type": "code",
      "source": "df = pd.read_csv('~/library/datasets/train.csv')\ndf.head()",
      "execution_count": 163,
      "outputs": [
        {
          "output_type": "execute_result",
          "execution_count": 163,
          "data": {
            "text/html": "<div>\n<style scoped>\n    .dataframe tbody tr th:only-of-type {\n        vertical-align: middle;\n    }\n\n    .dataframe tbody tr th {\n        vertical-align: top;\n    }\n\n    .dataframe thead th {\n        text-align: right;\n    }\n</style>\n<table border=\"1\" class=\"dataframe\">\n  <thead>\n    <tr style=\"text-align: right;\">\n      <th></th>\n      <th>PassengerId</th>\n      <th>Survived</th>\n      <th>Pclass</th>\n      <th>Name</th>\n      <th>Sex</th>\n      <th>Age</th>\n      <th>SibSp</th>\n      <th>Parch</th>\n      <th>Ticket</th>\n      <th>Fare</th>\n      <th>Cabin</th>\n      <th>Embarked</th>\n    </tr>\n  </thead>\n  <tbody>\n    <tr>\n      <th>0</th>\n      <td>1</td>\n      <td>0</td>\n      <td>3</td>\n      <td>Braund, Mr. Owen Harris</td>\n      <td>male</td>\n      <td>22.0</td>\n      <td>1</td>\n      <td>0</td>\n      <td>A/5 21171</td>\n      <td>7.2500</td>\n      <td>NaN</td>\n      <td>S</td>\n    </tr>\n    <tr>\n      <th>1</th>\n      <td>2</td>\n      <td>1</td>\n      <td>1</td>\n      <td>Cumings, Mrs. John Bradley (Florence Briggs Th...</td>\n      <td>female</td>\n      <td>38.0</td>\n      <td>1</td>\n      <td>0</td>\n      <td>PC 17599</td>\n      <td>71.2833</td>\n      <td>C85</td>\n      <td>C</td>\n    </tr>\n    <tr>\n      <th>2</th>\n      <td>3</td>\n      <td>1</td>\n      <td>3</td>\n      <td>Heikkinen, Miss. Laina</td>\n      <td>female</td>\n      <td>26.0</td>\n      <td>0</td>\n      <td>0</td>\n      <td>STON/O2. 3101282</td>\n      <td>7.9250</td>\n      <td>NaN</td>\n      <td>S</td>\n    </tr>\n    <tr>\n      <th>3</th>\n      <td>4</td>\n      <td>1</td>\n      <td>1</td>\n      <td>Futrelle, Mrs. Jacques Heath (Lily May Peel)</td>\n      <td>female</td>\n      <td>35.0</td>\n      <td>1</td>\n      <td>0</td>\n      <td>113803</td>\n      <td>53.1000</td>\n      <td>C123</td>\n      <td>S</td>\n    </tr>\n    <tr>\n      <th>4</th>\n      <td>5</td>\n      <td>0</td>\n      <td>3</td>\n      <td>Allen, Mr. William Henry</td>\n      <td>male</td>\n      <td>35.0</td>\n      <td>0</td>\n      <td>0</td>\n      <td>373450</td>\n      <td>8.0500</td>\n      <td>NaN</td>\n      <td>S</td>\n    </tr>\n  </tbody>\n</table>\n</div>",
            "text/plain": "   PassengerId  Survived  Pclass  \\\n0            1         0       3   \n1            2         1       1   \n2            3         1       3   \n3            4         1       1   \n4            5         0       3   \n\n                                                Name     Sex   Age  SibSp  \\\n0                            Braund, Mr. Owen Harris    male  22.0      1   \n1  Cumings, Mrs. John Bradley (Florence Briggs Th...  female  38.0      1   \n2                             Heikkinen, Miss. Laina  female  26.0      0   \n3       Futrelle, Mrs. Jacques Heath (Lily May Peel)  female  35.0      1   \n4                           Allen, Mr. William Henry    male  35.0      0   \n\n   Parch            Ticket     Fare Cabin Embarked  \n0      0         A/5 21171   7.2500   NaN        S  \n1      0          PC 17599  71.2833   C85        C  \n2      0  STON/O2. 3101282   7.9250   NaN        S  \n3      0            113803  53.1000  C123        S  \n4      0            373450   8.0500   NaN        S  "
          },
          "metadata": {}
        }
      ]
    },
    {
      "metadata": {},
      "cell_type": "markdown",
      "source": "### Dicionário de Dados\n\n|Variable\t\t|Definition\t\t\t\t\t\t\t\t\t\t|Key\t\t\t\t\t\t\t\t\t\t\t|\n|---------------|:---------------------------------------------:|-----------------------------------------------|\n|survival\t\t|Survival\t\t\t\t\t\t\t\t\t\t|0 = No, 1 = Yes\t\t\t\t\t\t\t\t|\n|pclass\t\t\t|Ticket class\t\t\t\t\t\t\t\t\t|1 = 1st, 2 = 2nd, 3 = 3rd\t\t\t\t\t\t|\n|sex\t\t\t|Sex\t\t\t\t\t\t\t\t\t\t\t|\t\t\t\t\t\t\t\t\t\t\t\t|\n|Age\t\t\t|Age in years\t\t\t\t\t\t\t\t\t|\t\t\t\t\t\t\t\t\t\t\t\t|\n|sibsp\t\t\t|# of siblings / spouses aboard the Titanic\t\t|\t\t\t\t\t\t\t\t\t\t\t\t|\n|parch\t\t\t|# of parents / children aboard the Titanic\t\t|\t\t\t\t\t\t\t\t\t\t\t\t|\n|ticket\t\t\t|Ticket number\t\t\t\t\t\t\t\t\t|\t\t\t\t\t\t\t\t\t\t\t\t|\n|fare\t\t\t|Passenger fare\t\t\t\t\t\t\t\t\t|\t\t\t\t\t\t\t\t\t\t\t\t|\n|cabin\t\t\t|Cabin number\t\t\t\t\t\t\t\t\t|\t\t\t\t\t\t\t\t\t\t\t\t|\n|embarked\t\t|Port of Embarkation\t\t\t\t\t\t\t|C = Cherbourg, Q = Queenstown, S = Southampton |"
    },
    {
      "metadata": {
        "trusted": true
      },
      "cell_type": "code",
      "source": "# Convertendo male para 1 e female para 0\nsex_change = {\n    'male': 1,\n    'female': 0\n}\ndf['Sex10'] = df.Sex.map(sex_change)\ndf.head()",
      "execution_count": 164,
      "outputs": [
        {
          "output_type": "execute_result",
          "execution_count": 164,
          "data": {
            "text/html": "<div>\n<style scoped>\n    .dataframe tbody tr th:only-of-type {\n        vertical-align: middle;\n    }\n\n    .dataframe tbody tr th {\n        vertical-align: top;\n    }\n\n    .dataframe thead th {\n        text-align: right;\n    }\n</style>\n<table border=\"1\" class=\"dataframe\">\n  <thead>\n    <tr style=\"text-align: right;\">\n      <th></th>\n      <th>PassengerId</th>\n      <th>Survived</th>\n      <th>Pclass</th>\n      <th>Name</th>\n      <th>Sex</th>\n      <th>Age</th>\n      <th>SibSp</th>\n      <th>Parch</th>\n      <th>Ticket</th>\n      <th>Fare</th>\n      <th>Cabin</th>\n      <th>Embarked</th>\n      <th>Sex10</th>\n    </tr>\n  </thead>\n  <tbody>\n    <tr>\n      <th>0</th>\n      <td>1</td>\n      <td>0</td>\n      <td>3</td>\n      <td>Braund, Mr. Owen Harris</td>\n      <td>male</td>\n      <td>22.0</td>\n      <td>1</td>\n      <td>0</td>\n      <td>A/5 21171</td>\n      <td>7.2500</td>\n      <td>NaN</td>\n      <td>S</td>\n      <td>1</td>\n    </tr>\n    <tr>\n      <th>1</th>\n      <td>2</td>\n      <td>1</td>\n      <td>1</td>\n      <td>Cumings, Mrs. John Bradley (Florence Briggs Th...</td>\n      <td>female</td>\n      <td>38.0</td>\n      <td>1</td>\n      <td>0</td>\n      <td>PC 17599</td>\n      <td>71.2833</td>\n      <td>C85</td>\n      <td>C</td>\n      <td>0</td>\n    </tr>\n    <tr>\n      <th>2</th>\n      <td>3</td>\n      <td>1</td>\n      <td>3</td>\n      <td>Heikkinen, Miss. Laina</td>\n      <td>female</td>\n      <td>26.0</td>\n      <td>0</td>\n      <td>0</td>\n      <td>STON/O2. 3101282</td>\n      <td>7.9250</td>\n      <td>NaN</td>\n      <td>S</td>\n      <td>0</td>\n    </tr>\n    <tr>\n      <th>3</th>\n      <td>4</td>\n      <td>1</td>\n      <td>1</td>\n      <td>Futrelle, Mrs. Jacques Heath (Lily May Peel)</td>\n      <td>female</td>\n      <td>35.0</td>\n      <td>1</td>\n      <td>0</td>\n      <td>113803</td>\n      <td>53.1000</td>\n      <td>C123</td>\n      <td>S</td>\n      <td>0</td>\n    </tr>\n    <tr>\n      <th>4</th>\n      <td>5</td>\n      <td>0</td>\n      <td>3</td>\n      <td>Allen, Mr. William Henry</td>\n      <td>male</td>\n      <td>35.0</td>\n      <td>0</td>\n      <td>0</td>\n      <td>373450</td>\n      <td>8.0500</td>\n      <td>NaN</td>\n      <td>S</td>\n      <td>1</td>\n    </tr>\n  </tbody>\n</table>\n</div>",
            "text/plain": "   PassengerId  Survived  Pclass  \\\n0            1         0       3   \n1            2         1       1   \n2            3         1       3   \n3            4         1       1   \n4            5         0       3   \n\n                                                Name     Sex   Age  SibSp  \\\n0                            Braund, Mr. Owen Harris    male  22.0      1   \n1  Cumings, Mrs. John Bradley (Florence Briggs Th...  female  38.0      1   \n2                             Heikkinen, Miss. Laina  female  26.0      0   \n3       Futrelle, Mrs. Jacques Heath (Lily May Peel)  female  35.0      1   \n4                           Allen, Mr. William Henry    male  35.0      0   \n\n   Parch            Ticket     Fare Cabin Embarked  Sex10  \n0      0         A/5 21171   7.2500   NaN        S      1  \n1      0          PC 17599  71.2833   C85        C      0  \n2      0  STON/O2. 3101282   7.9250   NaN        S      0  \n3      0            113803  53.1000  C123        S      0  \n4      0            373450   8.0500   NaN        S      1  "
          },
          "metadata": {}
        }
      ]
    },
    {
      "metadata": {
        "trusted": true
      },
      "cell_type": "code",
      "source": "# Convertendo sigla de embarque para uma representação numerica\nembarked_change = {\n    'C': 1,\n    'S': 2,\n    'Q': 3\n}\ndf['Embarked10'] = df.Embarked.map(embarked_change)\ndf[\"Embarked10\"] = df[\"Embarked10\"].fillna(0.0).astype(int)\ndf.head()",
      "execution_count": 165,
      "outputs": [
        {
          "output_type": "execute_result",
          "execution_count": 165,
          "data": {
            "text/html": "<div>\n<style scoped>\n    .dataframe tbody tr th:only-of-type {\n        vertical-align: middle;\n    }\n\n    .dataframe tbody tr th {\n        vertical-align: top;\n    }\n\n    .dataframe thead th {\n        text-align: right;\n    }\n</style>\n<table border=\"1\" class=\"dataframe\">\n  <thead>\n    <tr style=\"text-align: right;\">\n      <th></th>\n      <th>PassengerId</th>\n      <th>Survived</th>\n      <th>Pclass</th>\n      <th>Name</th>\n      <th>Sex</th>\n      <th>Age</th>\n      <th>SibSp</th>\n      <th>Parch</th>\n      <th>Ticket</th>\n      <th>Fare</th>\n      <th>Cabin</th>\n      <th>Embarked</th>\n      <th>Sex10</th>\n      <th>Embarked10</th>\n    </tr>\n  </thead>\n  <tbody>\n    <tr>\n      <th>0</th>\n      <td>1</td>\n      <td>0</td>\n      <td>3</td>\n      <td>Braund, Mr. Owen Harris</td>\n      <td>male</td>\n      <td>22.0</td>\n      <td>1</td>\n      <td>0</td>\n      <td>A/5 21171</td>\n      <td>7.2500</td>\n      <td>NaN</td>\n      <td>S</td>\n      <td>1</td>\n      <td>2</td>\n    </tr>\n    <tr>\n      <th>1</th>\n      <td>2</td>\n      <td>1</td>\n      <td>1</td>\n      <td>Cumings, Mrs. John Bradley (Florence Briggs Th...</td>\n      <td>female</td>\n      <td>38.0</td>\n      <td>1</td>\n      <td>0</td>\n      <td>PC 17599</td>\n      <td>71.2833</td>\n      <td>C85</td>\n      <td>C</td>\n      <td>0</td>\n      <td>1</td>\n    </tr>\n    <tr>\n      <th>2</th>\n      <td>3</td>\n      <td>1</td>\n      <td>3</td>\n      <td>Heikkinen, Miss. Laina</td>\n      <td>female</td>\n      <td>26.0</td>\n      <td>0</td>\n      <td>0</td>\n      <td>STON/O2. 3101282</td>\n      <td>7.9250</td>\n      <td>NaN</td>\n      <td>S</td>\n      <td>0</td>\n      <td>2</td>\n    </tr>\n    <tr>\n      <th>3</th>\n      <td>4</td>\n      <td>1</td>\n      <td>1</td>\n      <td>Futrelle, Mrs. Jacques Heath (Lily May Peel)</td>\n      <td>female</td>\n      <td>35.0</td>\n      <td>1</td>\n      <td>0</td>\n      <td>113803</td>\n      <td>53.1000</td>\n      <td>C123</td>\n      <td>S</td>\n      <td>0</td>\n      <td>2</td>\n    </tr>\n    <tr>\n      <th>4</th>\n      <td>5</td>\n      <td>0</td>\n      <td>3</td>\n      <td>Allen, Mr. William Henry</td>\n      <td>male</td>\n      <td>35.0</td>\n      <td>0</td>\n      <td>0</td>\n      <td>373450</td>\n      <td>8.0500</td>\n      <td>NaN</td>\n      <td>S</td>\n      <td>1</td>\n      <td>2</td>\n    </tr>\n  </tbody>\n</table>\n</div>",
            "text/plain": "   PassengerId  Survived  Pclass  \\\n0            1         0       3   \n1            2         1       1   \n2            3         1       3   \n3            4         1       1   \n4            5         0       3   \n\n                                                Name     Sex   Age  SibSp  \\\n0                            Braund, Mr. Owen Harris    male  22.0      1   \n1  Cumings, Mrs. John Bradley (Florence Briggs Th...  female  38.0      1   \n2                             Heikkinen, Miss. Laina  female  26.0      0   \n3       Futrelle, Mrs. Jacques Heath (Lily May Peel)  female  35.0      1   \n4                           Allen, Mr. William Henry    male  35.0      0   \n\n   Parch            Ticket     Fare Cabin Embarked  Sex10  Embarked10  \n0      0         A/5 21171   7.2500   NaN        S      1           2  \n1      0          PC 17599  71.2833   C85        C      0           1  \n2      0  STON/O2. 3101282   7.9250   NaN        S      0           2  \n3      0            113803  53.1000  C123        S      0           2  \n4      0            373450   8.0500   NaN        S      1           2  "
          },
          "metadata": {}
        }
      ]
    },
    {
      "metadata": {
        "trusted": true
      },
      "cell_type": "code",
      "source": "# convertendo idade float para int\ndf[\"Age\"] = df[\"Age\"].fillna(0.0).astype(int)\ndf.head()",
      "execution_count": 166,
      "outputs": [
        {
          "output_type": "execute_result",
          "execution_count": 166,
          "data": {
            "text/html": "<div>\n<style scoped>\n    .dataframe tbody tr th:only-of-type {\n        vertical-align: middle;\n    }\n\n    .dataframe tbody tr th {\n        vertical-align: top;\n    }\n\n    .dataframe thead th {\n        text-align: right;\n    }\n</style>\n<table border=\"1\" class=\"dataframe\">\n  <thead>\n    <tr style=\"text-align: right;\">\n      <th></th>\n      <th>PassengerId</th>\n      <th>Survived</th>\n      <th>Pclass</th>\n      <th>Name</th>\n      <th>Sex</th>\n      <th>Age</th>\n      <th>SibSp</th>\n      <th>Parch</th>\n      <th>Ticket</th>\n      <th>Fare</th>\n      <th>Cabin</th>\n      <th>Embarked</th>\n      <th>Sex10</th>\n      <th>Embarked10</th>\n    </tr>\n  </thead>\n  <tbody>\n    <tr>\n      <th>0</th>\n      <td>1</td>\n      <td>0</td>\n      <td>3</td>\n      <td>Braund, Mr. Owen Harris</td>\n      <td>male</td>\n      <td>22</td>\n      <td>1</td>\n      <td>0</td>\n      <td>A/5 21171</td>\n      <td>7.2500</td>\n      <td>NaN</td>\n      <td>S</td>\n      <td>1</td>\n      <td>2</td>\n    </tr>\n    <tr>\n      <th>1</th>\n      <td>2</td>\n      <td>1</td>\n      <td>1</td>\n      <td>Cumings, Mrs. John Bradley (Florence Briggs Th...</td>\n      <td>female</td>\n      <td>38</td>\n      <td>1</td>\n      <td>0</td>\n      <td>PC 17599</td>\n      <td>71.2833</td>\n      <td>C85</td>\n      <td>C</td>\n      <td>0</td>\n      <td>1</td>\n    </tr>\n    <tr>\n      <th>2</th>\n      <td>3</td>\n      <td>1</td>\n      <td>3</td>\n      <td>Heikkinen, Miss. Laina</td>\n      <td>female</td>\n      <td>26</td>\n      <td>0</td>\n      <td>0</td>\n      <td>STON/O2. 3101282</td>\n      <td>7.9250</td>\n      <td>NaN</td>\n      <td>S</td>\n      <td>0</td>\n      <td>2</td>\n    </tr>\n    <tr>\n      <th>3</th>\n      <td>4</td>\n      <td>1</td>\n      <td>1</td>\n      <td>Futrelle, Mrs. Jacques Heath (Lily May Peel)</td>\n      <td>female</td>\n      <td>35</td>\n      <td>1</td>\n      <td>0</td>\n      <td>113803</td>\n      <td>53.1000</td>\n      <td>C123</td>\n      <td>S</td>\n      <td>0</td>\n      <td>2</td>\n    </tr>\n    <tr>\n      <th>4</th>\n      <td>5</td>\n      <td>0</td>\n      <td>3</td>\n      <td>Allen, Mr. William Henry</td>\n      <td>male</td>\n      <td>35</td>\n      <td>0</td>\n      <td>0</td>\n      <td>373450</td>\n      <td>8.0500</td>\n      <td>NaN</td>\n      <td>S</td>\n      <td>1</td>\n      <td>2</td>\n    </tr>\n  </tbody>\n</table>\n</div>",
            "text/plain": "   PassengerId  Survived  Pclass  \\\n0            1         0       3   \n1            2         1       1   \n2            3         1       3   \n3            4         1       1   \n4            5         0       3   \n\n                                                Name     Sex  Age  SibSp  \\\n0                            Braund, Mr. Owen Harris    male   22      1   \n1  Cumings, Mrs. John Bradley (Florence Briggs Th...  female   38      1   \n2                             Heikkinen, Miss. Laina  female   26      0   \n3       Futrelle, Mrs. Jacques Heath (Lily May Peel)  female   35      1   \n4                           Allen, Mr. William Henry    male   35      0   \n\n   Parch            Ticket     Fare Cabin Embarked  Sex10  Embarked10  \n0      0         A/5 21171   7.2500   NaN        S      1           2  \n1      0          PC 17599  71.2833   C85        C      0           1  \n2      0  STON/O2. 3101282   7.9250   NaN        S      0           2  \n3      0            113803  53.1000  C123        S      0           2  \n4      0            373450   8.0500   NaN        S      1           2  "
          },
          "metadata": {}
        }
      ]
    },
    {
      "metadata": {},
      "cell_type": "markdown",
      "source": "### Campos eliminados\n\n\n#### Detalhamento dos campos desconsiderados para o treinamento\n\n\n__`Name`__ -> Valor na minha opnião não relevante para o treinamento\n\n__`Ticket`__ -> Valor na minha opnião não relevante para o treinamento\n\n__`Fare`__ -> Achei justo considerar apenas a classe (__Pclass__)\n\n__`Cabin`__ -> Como havia muitos caracteres não definidos, achei injusto considerá-lo\n\n__`Embarked`__ -> Valor removido por conta da grande perda da acurácia do algoritmo\n\n\n\n"
    },
    {
      "metadata": {
        "trusted": true
      },
      "cell_type": "code",
      "source": "x = df[[\"PassengerId\",\"Pclass\",\"Sex10\", \"Age\", \"SibSp\", \"Parch\"]]\nx.head()",
      "execution_count": 167,
      "outputs": [
        {
          "output_type": "execute_result",
          "execution_count": 167,
          "data": {
            "text/html": "<div>\n<style scoped>\n    .dataframe tbody tr th:only-of-type {\n        vertical-align: middle;\n    }\n\n    .dataframe tbody tr th {\n        vertical-align: top;\n    }\n\n    .dataframe thead th {\n        text-align: right;\n    }\n</style>\n<table border=\"1\" class=\"dataframe\">\n  <thead>\n    <tr style=\"text-align: right;\">\n      <th></th>\n      <th>PassengerId</th>\n      <th>Pclass</th>\n      <th>Sex10</th>\n      <th>Age</th>\n      <th>SibSp</th>\n      <th>Parch</th>\n    </tr>\n  </thead>\n  <tbody>\n    <tr>\n      <th>0</th>\n      <td>1</td>\n      <td>3</td>\n      <td>1</td>\n      <td>22</td>\n      <td>1</td>\n      <td>0</td>\n    </tr>\n    <tr>\n      <th>1</th>\n      <td>2</td>\n      <td>1</td>\n      <td>0</td>\n      <td>38</td>\n      <td>1</td>\n      <td>0</td>\n    </tr>\n    <tr>\n      <th>2</th>\n      <td>3</td>\n      <td>3</td>\n      <td>0</td>\n      <td>26</td>\n      <td>0</td>\n      <td>0</td>\n    </tr>\n    <tr>\n      <th>3</th>\n      <td>4</td>\n      <td>1</td>\n      <td>0</td>\n      <td>35</td>\n      <td>1</td>\n      <td>0</td>\n    </tr>\n    <tr>\n      <th>4</th>\n      <td>5</td>\n      <td>3</td>\n      <td>1</td>\n      <td>35</td>\n      <td>0</td>\n      <td>0</td>\n    </tr>\n  </tbody>\n</table>\n</div>",
            "text/plain": "   PassengerId  Pclass  Sex10  Age  SibSp  Parch\n0            1       3      1   22      1      0\n1            2       1      0   38      1      0\n2            3       3      0   26      0      0\n3            4       1      0   35      1      0\n4            5       3      1   35      0      0"
          },
          "metadata": {}
        }
      ]
    },
    {
      "metadata": {
        "trusted": true
      },
      "cell_type": "code",
      "source": "y = df[\"Survived\"]\ny.head()",
      "execution_count": 168,
      "outputs": [
        {
          "output_type": "execute_result",
          "execution_count": 168,
          "data": {
            "text/plain": "0    0\n1    1\n2    1\n3    1\n4    0\nName: Survived, dtype: int64"
          },
          "metadata": {}
        }
      ]
    },
    {
      "metadata": {},
      "cell_type": "markdown",
      "source": "## Regressão Logistica"
    },
    {
      "metadata": {
        "trusted": true
      },
      "cell_type": "code",
      "source": "from sklearn.model_selection import train_test_split\nfrom sklearn import linear_model\nfrom sklearn.metrics import accuracy_score\n\n# definir um número inicial para os algorítimos de geração de números aleatórios\nSEED = 0\n\n# separando os dados de treino e teste\ntreino_x, teste_x, treino_y, teste_y = train_test_split(x, y,\n                                                        random_state = SEED,\n                                                        test_size = 0.2,\n                                                        stratify = y)\n\nprint(\"Treino com %d elementos e teste com %d elementos\" % (len(treino_x), len(teste_x)))\n\nmodelo = linear_model.LogisticRegression(random_state=SEED)\nmodelo.fit(treino_x, treino_y)\nprevisoes = modelo.predict(teste_x)\n\nacuracia = accuracy_score(teste_y, previsoes) * 100\nprint(\"A acurácia de %.2f%%\" % acuracia)",
      "execution_count": 175,
      "outputs": [
        {
          "output_type": "stream",
          "text": "Treino com 712 elementos e teste com 179 elementos\nA acurácia de 77.09%\n",
          "name": "stdout"
        }
      ]
    },
    {
      "metadata": {},
      "cell_type": "markdown",
      "source": "## Gaussian Naive Bayes"
    },
    {
      "metadata": {
        "trusted": true
      },
      "cell_type": "code",
      "source": "from sklearn.model_selection import train_test_split\nfrom sklearn.naive_bayes import GaussianNB\nfrom sklearn.metrics import accuracy_score\n\n# definir um número inicial para os algorítimos de geração de números aleatórios\nSEED = 15\n\n# separando os dados de treino e teste\ntreino_x, teste_x, treino_y, teste_y = train_test_split(x, y,\n                                                        random_state = SEED,\n                                                        test_size = 0.2, \n                                                        stratify = y)\n\nprint(\"Treino com %d elementos e teste com %d elementos\" % (len(treino_x), len(teste_x)))\n\nmodelo = GaussianNB()\nmodelo.fit(treino_x, treino_y)\nprevisoes = modelo.predict(teste_x)\n\nacuracia = accuracy_score(teste_y, previsoes) * 100\nprint(\"A acurácia de %.2f%%\" % acuracia)",
      "execution_count": 177,
      "outputs": [
        {
          "output_type": "stream",
          "text": "Treino com 712 elementos e teste com 179 elementos\nA acurácia de 79.89%\n",
          "name": "stdout"
        }
      ]
    },
    {
      "metadata": {},
      "cell_type": "markdown",
      "source": "## SVM (Support Vector Machines)"
    },
    {
      "metadata": {
        "trusted": true
      },
      "cell_type": "code",
      "source": "from sklearn.model_selection import train_test_split\nfrom sklearn import svm\nfrom sklearn.metrics import accuracy_score\n\n# definir um número inicial para os algorítimos de geração de números aleatórios\nSEED = 15\n\n# separando os dados de treino e teste\ntreino_x, teste_x, treino_y, teste_y = train_test_split(x, y,\n                                                        random_state = SEED,\n                                                        test_size = 0.2, \n                                                        stratify = y)\n\nprint(\"Treino com %d elementos e teste com %d elementos\" % (len(treino_x), len(teste_x)))\n\nmodelo = svm.SVC(random_state=SEED)\nmodelo.fit(treino_x, treino_y)\nprevisoes = modelo.predict(teste_x)\n\nacuracia = accuracy_score(teste_y, previsoes) * 100\nprint(\"A acurácia de %.2f%%\" % acuracia)",
      "execution_count": 171,
      "outputs": [
        {
          "output_type": "stream",
          "text": "Treino com 712 elementos e teste com 179 elementos\nA acurácia de 62.01%\n",
          "name": "stdout"
        }
      ]
    },
    {
      "metadata": {},
      "cell_type": "markdown",
      "source": "## Árvores de decisão"
    },
    {
      "metadata": {
        "trusted": true
      },
      "cell_type": "code",
      "source": "from sklearn.model_selection import train_test_split\nfrom sklearn.tree import DecisionTreeClassifier\nfrom sklearn.metrics import accuracy_score\n\n# definir um número inicial para os algorítimos de geração de números aleatórios\nSEED = 0\n\n# separando os dados de treino e teste\ntreino_x, teste_x, treino_y, teste_y = train_test_split(x, y,\n                                                        random_state = SEED,\n                                                        test_size = 0.2, \n                                                        stratify = y)\n\nprint(\"Treino com %d elementos e teste com %d elementos\" % (len(treino_x), len(teste_x)))\n\nmodelo = DecisionTreeClassifier(random_state=SEED)\nmodelo.fit(treino_x, treino_y)\nprevisoes = modelo.predict(teste_x)\n\nacuracia = accuracy_score(teste_y, previsoes) * 100\nprint(\"A acurácia de %.2f%%\" % acuracia)",
      "execution_count": 181,
      "outputs": [
        {
          "output_type": "stream",
          "text": "Treino com 712 elementos e teste com 179 elementos\nA acurácia de 72.63%\n",
          "name": "stdout"
        }
      ]
    },
    {
      "metadata": {},
      "cell_type": "markdown",
      "source": "## LinearSVC"
    },
    {
      "metadata": {
        "trusted": true
      },
      "cell_type": "code",
      "source": "from sklearn.model_selection import train_test_split\nfrom sklearn.svm import LinearSVC\nfrom sklearn.metrics import accuracy_score\n\n# definir um número inicial para os algorítimos de geração de números aleatórios\nSEED = 0\n\n# separando os dados de treino e teste\ntreino_x, teste_x, treino_y, teste_y = train_test_split(x, y,\n                                                        random_state = SEED,\n                                                        test_size = 0.2, \n                                                        stratify = y)\n\nprint(\"Treino com %d elementos e teste com %d elementos\" % (len(treino_x), len(teste_x)))\n\nmodelo = LinearSVC(random_state=SEED)\nmodelo.fit(treino_x, treino_y)\nprevisoes = modelo.predict(teste_x)\n\nacuracia = accuracy_score(teste_y, previsoes) * 100\nprint(\"A acurácia de %.2f%%\" % acuracia)",
      "execution_count": 178,
      "outputs": [
        {
          "output_type": "stream",
          "text": "Treino com 712 elementos e teste com 179 elementos\nA acurácia de 76.54%\n",
          "name": "stdout"
        }
      ]
    },
    {
      "metadata": {
        "trusted": true
      },
      "cell_type": "code",
      "source": "",
      "execution_count": null,
      "outputs": []
    }
  ],
  "metadata": {
    "kernelspec": {
      "name": "python36",
      "display_name": "Python 3.6",
      "language": "python"
    },
    "language_info": {
      "mimetype": "text/x-python",
      "nbconvert_exporter": "python",
      "name": "python",
      "pygments_lexer": "ipython3",
      "version": "3.6.6",
      "file_extension": ".py",
      "codemirror_mode": {
        "version": 3,
        "name": "ipython"
      }
    }
  },
  "nbformat": 4,
  "nbformat_minor": 2
}