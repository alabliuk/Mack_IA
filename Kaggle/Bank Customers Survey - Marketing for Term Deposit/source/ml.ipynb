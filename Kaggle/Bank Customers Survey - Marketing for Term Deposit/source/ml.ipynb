{
  "cells": [
    {
      "metadata": {
        "collapsed": true
      },
      "cell_type": "markdown",
      "source": "# Bank Customers Survey - Marketing for Term Deposit\n\n\n__Classifying whether or not a customer opted for term deposit__\n\n\nhttps://www.kaggle.com/sharanmk/bank-marketing-term-deposit"
    },
    {
      "metadata": {
        "trusted": true
      },
      "cell_type": "code",
      "source": "import warnings\nwarnings.filterwarnings(\"ignore\")\n\nimport pandas as pd\nimport numpy as np\nimport matplotlib.pyplot as plt\nfrom sklearn.model_selection import train_test_split\nfrom sklearn.metrics import accuracy_score\nfrom sklearn.preprocessing import StandardScaler",
      "execution_count": 1,
      "outputs": []
    },
    {
      "metadata": {},
      "cell_type": "markdown",
      "source": "## Carregando Dataset"
    },
    {
      "metadata": {
        "trusted": true
      },
      "cell_type": "code",
      "source": "# Listar conteudo do diretorio [dataset]\n!ls ~/library/dataset\n\ndf = pd.read_csv('~/library/dataset/bank_customer_survey.csv')\ndf.dataframeName = 'bank_customer_survey.csv'\ndf.head()",
      "execution_count": 2,
      "outputs": [
        {
          "output_type": "stream",
          "text": "bank_customer_survey.csv\r\n",
          "name": "stdout"
        },
        {
          "output_type": "execute_result",
          "execution_count": 2,
          "data": {
            "text/html": "<div>\n<style scoped>\n    .dataframe tbody tr th:only-of-type {\n        vertical-align: middle;\n    }\n\n    .dataframe tbody tr th {\n        vertical-align: top;\n    }\n\n    .dataframe thead th {\n        text-align: right;\n    }\n</style>\n<table border=\"1\" class=\"dataframe\">\n  <thead>\n    <tr style=\"text-align: right;\">\n      <th></th>\n      <th>age</th>\n      <th>job</th>\n      <th>marital</th>\n      <th>education</th>\n      <th>default</th>\n      <th>balance</th>\n      <th>housing</th>\n      <th>loan</th>\n      <th>contact</th>\n      <th>day</th>\n      <th>month</th>\n      <th>duration</th>\n      <th>campaign</th>\n      <th>pdays</th>\n      <th>previous</th>\n      <th>poutcome</th>\n      <th>y</th>\n    </tr>\n  </thead>\n  <tbody>\n    <tr>\n      <th>0</th>\n      <td>58</td>\n      <td>management</td>\n      <td>married</td>\n      <td>tertiary</td>\n      <td>no</td>\n      <td>2143</td>\n      <td>yes</td>\n      <td>no</td>\n      <td>unknown</td>\n      <td>5</td>\n      <td>may</td>\n      <td>261</td>\n      <td>1</td>\n      <td>-1</td>\n      <td>0</td>\n      <td>unknown</td>\n      <td>0</td>\n    </tr>\n    <tr>\n      <th>1</th>\n      <td>44</td>\n      <td>technician</td>\n      <td>single</td>\n      <td>secondary</td>\n      <td>no</td>\n      <td>29</td>\n      <td>yes</td>\n      <td>no</td>\n      <td>unknown</td>\n      <td>5</td>\n      <td>may</td>\n      <td>151</td>\n      <td>1</td>\n      <td>-1</td>\n      <td>0</td>\n      <td>unknown</td>\n      <td>0</td>\n    </tr>\n    <tr>\n      <th>2</th>\n      <td>33</td>\n      <td>entrepreneur</td>\n      <td>married</td>\n      <td>secondary</td>\n      <td>no</td>\n      <td>2</td>\n      <td>yes</td>\n      <td>yes</td>\n      <td>unknown</td>\n      <td>5</td>\n      <td>may</td>\n      <td>76</td>\n      <td>1</td>\n      <td>-1</td>\n      <td>0</td>\n      <td>unknown</td>\n      <td>0</td>\n    </tr>\n    <tr>\n      <th>3</th>\n      <td>47</td>\n      <td>blue</td>\n      <td>married</td>\n      <td>unknown</td>\n      <td>no</td>\n      <td>1506</td>\n      <td>yes</td>\n      <td>no</td>\n      <td>unknown</td>\n      <td>5</td>\n      <td>may</td>\n      <td>92</td>\n      <td>1</td>\n      <td>-1</td>\n      <td>0</td>\n      <td>unknown</td>\n      <td>0</td>\n    </tr>\n    <tr>\n      <th>4</th>\n      <td>33</td>\n      <td>unknown</td>\n      <td>single</td>\n      <td>unknown</td>\n      <td>no</td>\n      <td>1</td>\n      <td>no</td>\n      <td>no</td>\n      <td>unknown</td>\n      <td>5</td>\n      <td>may</td>\n      <td>198</td>\n      <td>1</td>\n      <td>-1</td>\n      <td>0</td>\n      <td>unknown</td>\n      <td>0</td>\n    </tr>\n  </tbody>\n</table>\n</div>",
            "text/plain": "   age           job  marital  education default  balance housing loan  \\\n0   58    management  married   tertiary      no     2143     yes   no   \n1   44    technician   single  secondary      no       29     yes   no   \n2   33  entrepreneur  married  secondary      no        2     yes  yes   \n3   47          blue  married    unknown      no     1506     yes   no   \n4   33       unknown   single    unknown      no        1      no   no   \n\n   contact  day month  duration  campaign  pdays  previous poutcome  y  \n0  unknown    5   may       261         1     -1         0  unknown  0  \n1  unknown    5   may       151         1     -1         0  unknown  0  \n2  unknown    5   may        76         1     -1         0  unknown  0  \n3  unknown    5   may        92         1     -1         0  unknown  0  \n4  unknown    5   may       198         1     -1         0  unknown  0  "
          },
          "metadata": {}
        }
      ]
    },
    {
      "metadata": {},
      "cell_type": "markdown",
      "source": "## Dicionário de dados\n\n| CAMPO \t\t| DESCRICAO DO CAMPO\t\t\t\t\t\t\t\t\t\t\t\t\t\t\t\t\t\t\t\t\t| TIPO DE CAMPO\t| TIPO ESTATISTICO\t\t|\n|---------------|-------------------------------------------------------------------------------------------------------|---------------|-----------------------|\n|age\t\t\t|idade\t\t\t\t\t\t\t\t\t\t\t\t\t\t\t\t\t\t\t\t\t\t\t\t\t|int\t\t\t|Quantitativo Discreto\t|\n|job\t\t\t|tipo de trabalho\t\t\t\t\t\t\t\t\t\t\t\t\t\t\t\t\t\t\t\t\t\t|string\t\t\t|Quantitativo Nonimal\t|\n|marital\t\t|estado civil\t\t\t\t\t\t\t\t\t\t\t\t\t\t\t\t\t\t\t\t\t\t\t|string\t\t\t|Qualitativo Nonimal\t|\n|education\t\t|nível de escolaridade do cliente\t\t\t\t\t\t\t\t\t\t\t\t\t\t\t\t\t\t|string\t\t\t|Qualitativo Nonimal\t|\n|default\t\t|tem crédito por padrão?\t\t\t\t\t\t\t\t\t\t\t\t\t\t\t\t\t\t\t\t|bool\t\t\t|Qualitativo Nonimal\t|\n|balance\t\t|saldo médio anual, em euros\t\t\t\t\t\t\t\t\t\t\t\t\t\t\t\t\t\t\t|int\t\t\t|Quantitativo Discreto\t|\n|housing\t\t|tem empréstimo habitacional?\t\t\t\t\t\t\t\t\t\t\t\t\t\t\t\t\t\t\t|bool\t\t\t|Qualitativo Nonimal\t|\n|loan\t\t\t|tem empréstimo pessoal?\t\t\t\t\t\t\t\t\t\t\t\t\t\t\t\t\t\t\t\t|bool\t\t\t|Qualitativo Nonimal\t|\n|contact\t\t|tipo de comunicação de contato\t\t\t\t\t\t\t\t\t\t\t\t\t\t\t\t\t\t\t|string\t\t\t|Qualitativo Nonimal\t|\n|day\t\t\t|último dia de contato do mês\t\t\t\t\t\t\t\t\t\t\t\t\t\t\t\t\t\t\t|int\t\t\t|Qualitativo Nonimal\t|\n|month\t\t\t|último contato mês do ano\t\t\t\t\t\t\t\t\t\t\t\t\t\t\t\t\t\t\t\t|string\t\t\t|Qualitativo Nonimal\t|\n|duration\t\t|última duração de contato, em segundos\t\t\t\t\t\t\t\t\t\t\t\t\t\t\t\t\t|int\t\t\t|Quantitativo Discreto\t|\n|campaign\t\t|número de contatos realizados durante esta campanha e para este cliente\t\t\t\t\t\t\t\t|int\t\t\t|Quantitativo Discreto\t|\n|pdays\t\t\t|número de dias que passaram depois que o cliente foi contatado pela última vez de uma campanha anterior|int\t\t\t|Quantitativo Discreto\t|\n|previous\t\t|número de contatos realizados antes desta campanha e para este cliente\t\t\t\t\t\t\t\t\t|int\t\t\t|Quantitativo Discreto\t|\n|poutcome\t\t|resultado da campanha de marketing anterior\t\t\t\t\t\t\t\t\t\t\t\t\t\t\t|string\t\t\t|Qualitativo Nonimal\t|\n|y\t\t\t\t|o cliente assinou um termo depósito? \t\t\t\t\t\t\t\t\t\t\t\t\t\t\t\t\t|bool\t\t\t|Qualitativo Nonimal\t|"
    },
    {
      "metadata": {},
      "cell_type": "markdown",
      "source": "## Detalhamento Geral do dataframe"
    },
    {
      "metadata": {
        "trusted": true
      },
      "cell_type": "code",
      "source": "# Detalhamento do dataframe\ndf.describe()",
      "execution_count": 3,
      "outputs": [
        {
          "output_type": "execute_result",
          "execution_count": 3,
          "data": {
            "text/html": "<div>\n<style scoped>\n    .dataframe tbody tr th:only-of-type {\n        vertical-align: middle;\n    }\n\n    .dataframe tbody tr th {\n        vertical-align: top;\n    }\n\n    .dataframe thead th {\n        text-align: right;\n    }\n</style>\n<table border=\"1\" class=\"dataframe\">\n  <thead>\n    <tr style=\"text-align: right;\">\n      <th></th>\n      <th>age</th>\n      <th>balance</th>\n      <th>day</th>\n      <th>duration</th>\n      <th>campaign</th>\n      <th>pdays</th>\n      <th>previous</th>\n      <th>y</th>\n    </tr>\n  </thead>\n  <tbody>\n    <tr>\n      <th>count</th>\n      <td>45211.000000</td>\n      <td>45211.000000</td>\n      <td>45211.000000</td>\n      <td>45211.000000</td>\n      <td>45211.000000</td>\n      <td>45211.000000</td>\n      <td>45211.000000</td>\n      <td>45211.000000</td>\n    </tr>\n    <tr>\n      <th>mean</th>\n      <td>40.936210</td>\n      <td>1362.272058</td>\n      <td>15.806419</td>\n      <td>258.163080</td>\n      <td>2.763841</td>\n      <td>40.197828</td>\n      <td>0.580323</td>\n      <td>0.116985</td>\n    </tr>\n    <tr>\n      <th>std</th>\n      <td>10.618762</td>\n      <td>3044.765829</td>\n      <td>8.322476</td>\n      <td>257.527812</td>\n      <td>3.098021</td>\n      <td>100.128746</td>\n      <td>2.303441</td>\n      <td>0.321406</td>\n    </tr>\n    <tr>\n      <th>min</th>\n      <td>18.000000</td>\n      <td>-8019.000000</td>\n      <td>1.000000</td>\n      <td>0.000000</td>\n      <td>1.000000</td>\n      <td>-1.000000</td>\n      <td>0.000000</td>\n      <td>0.000000</td>\n    </tr>\n    <tr>\n      <th>25%</th>\n      <td>33.000000</td>\n      <td>72.000000</td>\n      <td>8.000000</td>\n      <td>103.000000</td>\n      <td>1.000000</td>\n      <td>-1.000000</td>\n      <td>0.000000</td>\n      <td>0.000000</td>\n    </tr>\n    <tr>\n      <th>50%</th>\n      <td>39.000000</td>\n      <td>448.000000</td>\n      <td>16.000000</td>\n      <td>180.000000</td>\n      <td>2.000000</td>\n      <td>-1.000000</td>\n      <td>0.000000</td>\n      <td>0.000000</td>\n    </tr>\n    <tr>\n      <th>75%</th>\n      <td>48.000000</td>\n      <td>1428.000000</td>\n      <td>21.000000</td>\n      <td>319.000000</td>\n      <td>3.000000</td>\n      <td>-1.000000</td>\n      <td>0.000000</td>\n      <td>0.000000</td>\n    </tr>\n    <tr>\n      <th>max</th>\n      <td>95.000000</td>\n      <td>102127.000000</td>\n      <td>31.000000</td>\n      <td>4918.000000</td>\n      <td>63.000000</td>\n      <td>871.000000</td>\n      <td>275.000000</td>\n      <td>1.000000</td>\n    </tr>\n  </tbody>\n</table>\n</div>",
            "text/plain": "                age        balance           day      duration      campaign  \\\ncount  45211.000000   45211.000000  45211.000000  45211.000000  45211.000000   \nmean      40.936210    1362.272058     15.806419    258.163080      2.763841   \nstd       10.618762    3044.765829      8.322476    257.527812      3.098021   \nmin       18.000000   -8019.000000      1.000000      0.000000      1.000000   \n25%       33.000000      72.000000      8.000000    103.000000      1.000000   \n50%       39.000000     448.000000     16.000000    180.000000      2.000000   \n75%       48.000000    1428.000000     21.000000    319.000000      3.000000   \nmax       95.000000  102127.000000     31.000000   4918.000000     63.000000   \n\n              pdays      previous             y  \ncount  45211.000000  45211.000000  45211.000000  \nmean      40.197828      0.580323      0.116985  \nstd      100.128746      2.303441      0.321406  \nmin       -1.000000      0.000000      0.000000  \n25%       -1.000000      0.000000      0.000000  \n50%       -1.000000      0.000000      0.000000  \n75%       -1.000000      0.000000      0.000000  \nmax      871.000000    275.000000      1.000000  "
          },
          "metadata": {}
        }
      ]
    },
    {
      "metadata": {
        "trusted": true
      },
      "cell_type": "code",
      "source": "# Correlação dos dados\ndf.corr()",
      "execution_count": 4,
      "outputs": [
        {
          "output_type": "execute_result",
          "execution_count": 4,
          "data": {
            "text/html": "<div>\n<style scoped>\n    .dataframe tbody tr th:only-of-type {\n        vertical-align: middle;\n    }\n\n    .dataframe tbody tr th {\n        vertical-align: top;\n    }\n\n    .dataframe thead th {\n        text-align: right;\n    }\n</style>\n<table border=\"1\" class=\"dataframe\">\n  <thead>\n    <tr style=\"text-align: right;\">\n      <th></th>\n      <th>age</th>\n      <th>balance</th>\n      <th>day</th>\n      <th>duration</th>\n      <th>campaign</th>\n      <th>pdays</th>\n      <th>previous</th>\n      <th>y</th>\n    </tr>\n  </thead>\n  <tbody>\n    <tr>\n      <th>age</th>\n      <td>1.000000</td>\n      <td>0.097783</td>\n      <td>-0.009120</td>\n      <td>-0.004648</td>\n      <td>0.004760</td>\n      <td>-0.023758</td>\n      <td>0.001288</td>\n      <td>0.025155</td>\n    </tr>\n    <tr>\n      <th>balance</th>\n      <td>0.097783</td>\n      <td>1.000000</td>\n      <td>0.004503</td>\n      <td>0.021560</td>\n      <td>-0.014578</td>\n      <td>0.003435</td>\n      <td>0.016674</td>\n      <td>0.052838</td>\n    </tr>\n    <tr>\n      <th>day</th>\n      <td>-0.009120</td>\n      <td>0.004503</td>\n      <td>1.000000</td>\n      <td>-0.030206</td>\n      <td>0.162490</td>\n      <td>-0.093044</td>\n      <td>-0.051710</td>\n      <td>-0.028348</td>\n    </tr>\n    <tr>\n      <th>duration</th>\n      <td>-0.004648</td>\n      <td>0.021560</td>\n      <td>-0.030206</td>\n      <td>1.000000</td>\n      <td>-0.084570</td>\n      <td>-0.001565</td>\n      <td>0.001203</td>\n      <td>0.394521</td>\n    </tr>\n    <tr>\n      <th>campaign</th>\n      <td>0.004760</td>\n      <td>-0.014578</td>\n      <td>0.162490</td>\n      <td>-0.084570</td>\n      <td>1.000000</td>\n      <td>-0.088628</td>\n      <td>-0.032855</td>\n      <td>-0.073172</td>\n    </tr>\n    <tr>\n      <th>pdays</th>\n      <td>-0.023758</td>\n      <td>0.003435</td>\n      <td>-0.093044</td>\n      <td>-0.001565</td>\n      <td>-0.088628</td>\n      <td>1.000000</td>\n      <td>0.454820</td>\n      <td>0.103621</td>\n    </tr>\n    <tr>\n      <th>previous</th>\n      <td>0.001288</td>\n      <td>0.016674</td>\n      <td>-0.051710</td>\n      <td>0.001203</td>\n      <td>-0.032855</td>\n      <td>0.454820</td>\n      <td>1.000000</td>\n      <td>0.093236</td>\n    </tr>\n    <tr>\n      <th>y</th>\n      <td>0.025155</td>\n      <td>0.052838</td>\n      <td>-0.028348</td>\n      <td>0.394521</td>\n      <td>-0.073172</td>\n      <td>0.103621</td>\n      <td>0.093236</td>\n      <td>1.000000</td>\n    </tr>\n  </tbody>\n</table>\n</div>",
            "text/plain": "               age   balance       day  duration  campaign     pdays  \\\nage       1.000000  0.097783 -0.009120 -0.004648  0.004760 -0.023758   \nbalance   0.097783  1.000000  0.004503  0.021560 -0.014578  0.003435   \nday      -0.009120  0.004503  1.000000 -0.030206  0.162490 -0.093044   \nduration -0.004648  0.021560 -0.030206  1.000000 -0.084570 -0.001565   \ncampaign  0.004760 -0.014578  0.162490 -0.084570  1.000000 -0.088628   \npdays    -0.023758  0.003435 -0.093044 -0.001565 -0.088628  1.000000   \nprevious  0.001288  0.016674 -0.051710  0.001203 -0.032855  0.454820   \ny         0.025155  0.052838 -0.028348  0.394521 -0.073172  0.103621   \n\n          previous         y  \nage       0.001288  0.025155  \nbalance   0.016674  0.052838  \nday      -0.051710 -0.028348  \nduration  0.001203  0.394521  \ncampaign -0.032855 -0.073172  \npdays     0.454820  0.103621  \nprevious  1.000000  0.093236  \ny         0.093236  1.000000  "
          },
          "metadata": {}
        }
      ]
    },
    {
      "metadata": {
        "trusted": true
      },
      "cell_type": "code",
      "source": "# Correlação dos dados --> Visualização com cores\ndf.corr().style.format('{:.2}').background_gradient(cmap=plt.get_cmap('coolwarm'), axis=1)",
      "execution_count": 5,
      "outputs": [
        {
          "output_type": "execute_result",
          "execution_count": 5,
          "data": {
            "text/html": "<style  type=\"text/css\" >\n    #T_b6803864_1ea9_11ea_a9f8_00155dc40bf5row0_col0 {\n            background-color:  #b40426;\n        }    #T_b6803864_1ea9_11ea_a9f8_00155dc40bf5row0_col1 {\n            background-color:  #5f7fe8;\n        }    #T_b6803864_1ea9_11ea_a9f8_00155dc40bf5row0_col2 {\n            background-color:  #3e51c5;\n        }    #T_b6803864_1ea9_11ea_a9f8_00155dc40bf5row0_col3 {\n            background-color:  #3f53c6;\n        }    #T_b6803864_1ea9_11ea_a9f8_00155dc40bf5row0_col4 {\n            background-color:  #4358cb;\n        }    #T_b6803864_1ea9_11ea_a9f8_00155dc40bf5row0_col5 {\n            background-color:  #3b4cc0;\n        }    #T_b6803864_1ea9_11ea_a9f8_00155dc40bf5row0_col6 {\n            background-color:  #4257c9;\n        }    #T_b6803864_1ea9_11ea_a9f8_00155dc40bf5row0_col7 {\n            background-color:  #4961d2;\n        }    #T_b6803864_1ea9_11ea_a9f8_00155dc40bf5row1_col0 {\n            background-color:  #5d7ce6;\n        }    #T_b6803864_1ea9_11ea_a9f8_00155dc40bf5row1_col1 {\n            background-color:  #b40426;\n        }    #T_b6803864_1ea9_11ea_a9f8_00155dc40bf5row1_col2 {\n            background-color:  #3f53c6;\n        }    #T_b6803864_1ea9_11ea_a9f8_00155dc40bf5row1_col3 {\n            background-color:  #455cce;\n        }    #T_b6803864_1ea9_11ea_a9f8_00155dc40bf5row1_col4 {\n            background-color:  #3b4cc0;\n        }    #T_b6803864_1ea9_11ea_a9f8_00155dc40bf5row1_col5 {\n            background-color:  #3f53c6;\n        }    #T_b6803864_1ea9_11ea_a9f8_00155dc40bf5row1_col6 {\n            background-color:  #4358cb;\n        }    #T_b6803864_1ea9_11ea_a9f8_00155dc40bf5row1_col7 {\n            background-color:  #4f69d9;\n        }    #T_b6803864_1ea9_11ea_a9f8_00155dc40bf5row2_col0 {\n            background-color:  #516ddb;\n        }    #T_b6803864_1ea9_11ea_a9f8_00155dc40bf5row2_col1 {\n            background-color:  #5572df;\n        }    #T_b6803864_1ea9_11ea_a9f8_00155dc40bf5row2_col2 {\n            background-color:  #b40426;\n        }    #T_b6803864_1ea9_11ea_a9f8_00155dc40bf5row2_col3 {\n            background-color:  #4b64d5;\n        }    #T_b6803864_1ea9_11ea_a9f8_00155dc40bf5row2_col4 {\n            background-color:  #86a9fc;\n        }    #T_b6803864_1ea9_11ea_a9f8_00155dc40bf5row2_col5 {\n            background-color:  #3b4cc0;\n        }    #T_b6803864_1ea9_11ea_a9f8_00155dc40bf5row2_col6 {\n            background-color:  #455cce;\n        }    #T_b6803864_1ea9_11ea_a9f8_00155dc40bf5row2_col7 {\n            background-color:  #4c66d6;\n        }    #T_b6803864_1ea9_11ea_a9f8_00155dc40bf5row3_col0 {\n            background-color:  #506bda;\n        }    #T_b6803864_1ea9_11ea_a9f8_00155dc40bf5row3_col1 {\n            background-color:  #5977e3;\n        }    #T_b6803864_1ea9_11ea_a9f8_00155dc40bf5row3_col2 {\n            background-color:  #4961d2;\n        }    #T_b6803864_1ea9_11ea_a9f8_00155dc40bf5row3_col3 {\n            background-color:  #b40426;\n        }    #T_b6803864_1ea9_11ea_a9f8_00155dc40bf5row3_col4 {\n            background-color:  #3b4cc0;\n        }    #T_b6803864_1ea9_11ea_a9f8_00155dc40bf5row3_col5 {\n            background-color:  #516ddb;\n        }    #T_b6803864_1ea9_11ea_a9f8_00155dc40bf5row3_col6 {\n            background-color:  #536edd;\n        }    #T_b6803864_1ea9_11ea_a9f8_00155dc40bf5row3_col7 {\n            background-color:  #cdd9ec;\n        }    #T_b6803864_1ea9_11ea_a9f8_00155dc40bf5row4_col0 {\n            background-color:  #5470de;\n        }    #T_b6803864_1ea9_11ea_a9f8_00155dc40bf5row4_col1 {\n            background-color:  #4f69d9;\n        }    #T_b6803864_1ea9_11ea_a9f8_00155dc40bf5row4_col2 {\n            background-color:  #86a9fc;\n        }    #T_b6803864_1ea9_11ea_a9f8_00155dc40bf5row4_col3 {\n            background-color:  #3b4cc0;\n        }    #T_b6803864_1ea9_11ea_a9f8_00155dc40bf5row4_col4 {\n            background-color:  #b40426;\n        }    #T_b6803864_1ea9_11ea_a9f8_00155dc40bf5row4_col5 {\n            background-color:  #3b4cc0;\n        }    #T_b6803864_1ea9_11ea_a9f8_00155dc40bf5row4_col6 {\n            background-color:  #4a63d3;\n        }    #T_b6803864_1ea9_11ea_a9f8_00155dc40bf5row4_col7 {\n            background-color:  #3e51c5;\n        }    #T_b6803864_1ea9_11ea_a9f8_00155dc40bf5row5_col0 {\n            background-color:  #4e68d8;\n        }    #T_b6803864_1ea9_11ea_a9f8_00155dc40bf5row5_col1 {\n            background-color:  #5572df;\n        }    #T_b6803864_1ea9_11ea_a9f8_00155dc40bf5row5_col2 {\n            background-color:  #3b4cc0;\n        }    #T_b6803864_1ea9_11ea_a9f8_00155dc40bf5row5_col3 {\n            background-color:  #5470de;\n        }    #T_b6803864_1ea9_11ea_a9f8_00155dc40bf5row5_col4 {\n            background-color:  #3c4ec2;\n        }    #T_b6803864_1ea9_11ea_a9f8_00155dc40bf5row5_col5 {\n            background-color:  #b40426;\n        }    #T_b6803864_1ea9_11ea_a9f8_00155dc40bf5row5_col6 {\n            background-color:  #dddcdc;\n        }    #T_b6803864_1ea9_11ea_a9f8_00155dc40bf5row5_col7 {\n            background-color:  #7597f6;\n        }    #T_b6803864_1ea9_11ea_a9f8_00155dc40bf5row6_col0 {\n            background-color:  #4961d2;\n        }    #T_b6803864_1ea9_11ea_a9f8_00155dc40bf5row6_col1 {\n            background-color:  #4e68d8;\n        }    #T_b6803864_1ea9_11ea_a9f8_00155dc40bf5row6_col2 {\n            background-color:  #3b4cc0;\n        }    #T_b6803864_1ea9_11ea_a9f8_00155dc40bf5row6_col3 {\n            background-color:  #4961d2;\n        }    #T_b6803864_1ea9_11ea_a9f8_00155dc40bf5row6_col4 {\n            background-color:  #3f53c6;\n        }    #T_b6803864_1ea9_11ea_a9f8_00155dc40bf5row6_col5 {\n            background-color:  #d8dce2;\n        }    #T_b6803864_1ea9_11ea_a9f8_00155dc40bf5row6_col6 {\n            background-color:  #b40426;\n        }    #T_b6803864_1ea9_11ea_a9f8_00155dc40bf5row6_col7 {\n            background-color:  #6687ed;\n        }    #T_b6803864_1ea9_11ea_a9f8_00155dc40bf5row7_col0 {\n            background-color:  #5673e0;\n        }    #T_b6803864_1ea9_11ea_a9f8_00155dc40bf5row7_col1 {\n            background-color:  #5f7fe8;\n        }    #T_b6803864_1ea9_11ea_a9f8_00155dc40bf5row7_col2 {\n            background-color:  #465ecf;\n        }    #T_b6803864_1ea9_11ea_a9f8_00155dc40bf5row7_col3 {\n            background-color:  #cbd8ee;\n        }    #T_b6803864_1ea9_11ea_a9f8_00155dc40bf5row7_col4 {\n            background-color:  #3b4cc0;\n        }    #T_b6803864_1ea9_11ea_a9f8_00155dc40bf5row7_col5 {\n            background-color:  #6f92f3;\n        }    #T_b6803864_1ea9_11ea_a9f8_00155dc40bf5row7_col6 {\n            background-color:  #6b8df0;\n        }    #T_b6803864_1ea9_11ea_a9f8_00155dc40bf5row7_col7 {\n            background-color:  #b40426;\n        }</style>  \n<table id=\"T_b6803864_1ea9_11ea_a9f8_00155dc40bf5\" > \n<thead>    <tr> \n        <th class=\"blank level0\" ></th> \n        <th class=\"col_heading level0 col0\" >age</th> \n        <th class=\"col_heading level0 col1\" >balance</th> \n        <th class=\"col_heading level0 col2\" >day</th> \n        <th class=\"col_heading level0 col3\" >duration</th> \n        <th class=\"col_heading level0 col4\" >campaign</th> \n        <th class=\"col_heading level0 col5\" >pdays</th> \n        <th class=\"col_heading level0 col6\" >previous</th> \n        <th class=\"col_heading level0 col7\" >y</th> \n    </tr></thead> \n<tbody>    <tr> \n        <th id=\"T_b6803864_1ea9_11ea_a9f8_00155dc40bf5level0_row0\" class=\"row_heading level0 row0\" >age</th> \n        <td id=\"T_b6803864_1ea9_11ea_a9f8_00155dc40bf5row0_col0\" class=\"data row0 col0\" >1.0</td> \n        <td id=\"T_b6803864_1ea9_11ea_a9f8_00155dc40bf5row0_col1\" class=\"data row0 col1\" >0.098</td> \n        <td id=\"T_b6803864_1ea9_11ea_a9f8_00155dc40bf5row0_col2\" class=\"data row0 col2\" >-0.0091</td> \n        <td id=\"T_b6803864_1ea9_11ea_a9f8_00155dc40bf5row0_col3\" class=\"data row0 col3\" >-0.0046</td> \n        <td id=\"T_b6803864_1ea9_11ea_a9f8_00155dc40bf5row0_col4\" class=\"data row0 col4\" >0.0048</td> \n        <td id=\"T_b6803864_1ea9_11ea_a9f8_00155dc40bf5row0_col5\" class=\"data row0 col5\" >-0.024</td> \n        <td id=\"T_b6803864_1ea9_11ea_a9f8_00155dc40bf5row0_col6\" class=\"data row0 col6\" >0.0013</td> \n        <td id=\"T_b6803864_1ea9_11ea_a9f8_00155dc40bf5row0_col7\" class=\"data row0 col7\" >0.025</td> \n    </tr>    <tr> \n        <th id=\"T_b6803864_1ea9_11ea_a9f8_00155dc40bf5level0_row1\" class=\"row_heading level0 row1\" >balance</th> \n        <td id=\"T_b6803864_1ea9_11ea_a9f8_00155dc40bf5row1_col0\" class=\"data row1 col0\" >0.098</td> \n        <td id=\"T_b6803864_1ea9_11ea_a9f8_00155dc40bf5row1_col1\" class=\"data row1 col1\" >1.0</td> \n        <td id=\"T_b6803864_1ea9_11ea_a9f8_00155dc40bf5row1_col2\" class=\"data row1 col2\" >0.0045</td> \n        <td id=\"T_b6803864_1ea9_11ea_a9f8_00155dc40bf5row1_col3\" class=\"data row1 col3\" >0.022</td> \n        <td id=\"T_b6803864_1ea9_11ea_a9f8_00155dc40bf5row1_col4\" class=\"data row1 col4\" >-0.015</td> \n        <td id=\"T_b6803864_1ea9_11ea_a9f8_00155dc40bf5row1_col5\" class=\"data row1 col5\" >0.0034</td> \n        <td id=\"T_b6803864_1ea9_11ea_a9f8_00155dc40bf5row1_col6\" class=\"data row1 col6\" >0.017</td> \n        <td id=\"T_b6803864_1ea9_11ea_a9f8_00155dc40bf5row1_col7\" class=\"data row1 col7\" >0.053</td> \n    </tr>    <tr> \n        <th id=\"T_b6803864_1ea9_11ea_a9f8_00155dc40bf5level0_row2\" class=\"row_heading level0 row2\" >day</th> \n        <td id=\"T_b6803864_1ea9_11ea_a9f8_00155dc40bf5row2_col0\" class=\"data row2 col0\" >-0.0091</td> \n        <td id=\"T_b6803864_1ea9_11ea_a9f8_00155dc40bf5row2_col1\" class=\"data row2 col1\" >0.0045</td> \n        <td id=\"T_b6803864_1ea9_11ea_a9f8_00155dc40bf5row2_col2\" class=\"data row2 col2\" >1.0</td> \n        <td id=\"T_b6803864_1ea9_11ea_a9f8_00155dc40bf5row2_col3\" class=\"data row2 col3\" >-0.03</td> \n        <td id=\"T_b6803864_1ea9_11ea_a9f8_00155dc40bf5row2_col4\" class=\"data row2 col4\" >0.16</td> \n        <td id=\"T_b6803864_1ea9_11ea_a9f8_00155dc40bf5row2_col5\" class=\"data row2 col5\" >-0.093</td> \n        <td id=\"T_b6803864_1ea9_11ea_a9f8_00155dc40bf5row2_col6\" class=\"data row2 col6\" >-0.052</td> \n        <td id=\"T_b6803864_1ea9_11ea_a9f8_00155dc40bf5row2_col7\" class=\"data row2 col7\" >-0.028</td> \n    </tr>    <tr> \n        <th id=\"T_b6803864_1ea9_11ea_a9f8_00155dc40bf5level0_row3\" class=\"row_heading level0 row3\" >duration</th> \n        <td id=\"T_b6803864_1ea9_11ea_a9f8_00155dc40bf5row3_col0\" class=\"data row3 col0\" >-0.0046</td> \n        <td id=\"T_b6803864_1ea9_11ea_a9f8_00155dc40bf5row3_col1\" class=\"data row3 col1\" >0.022</td> \n        <td id=\"T_b6803864_1ea9_11ea_a9f8_00155dc40bf5row3_col2\" class=\"data row3 col2\" >-0.03</td> \n        <td id=\"T_b6803864_1ea9_11ea_a9f8_00155dc40bf5row3_col3\" class=\"data row3 col3\" >1.0</td> \n        <td id=\"T_b6803864_1ea9_11ea_a9f8_00155dc40bf5row3_col4\" class=\"data row3 col4\" >-0.085</td> \n        <td id=\"T_b6803864_1ea9_11ea_a9f8_00155dc40bf5row3_col5\" class=\"data row3 col5\" >-0.0016</td> \n        <td id=\"T_b6803864_1ea9_11ea_a9f8_00155dc40bf5row3_col6\" class=\"data row3 col6\" >0.0012</td> \n        <td id=\"T_b6803864_1ea9_11ea_a9f8_00155dc40bf5row3_col7\" class=\"data row3 col7\" >0.39</td> \n    </tr>    <tr> \n        <th id=\"T_b6803864_1ea9_11ea_a9f8_00155dc40bf5level0_row4\" class=\"row_heading level0 row4\" >campaign</th> \n        <td id=\"T_b6803864_1ea9_11ea_a9f8_00155dc40bf5row4_col0\" class=\"data row4 col0\" >0.0048</td> \n        <td id=\"T_b6803864_1ea9_11ea_a9f8_00155dc40bf5row4_col1\" class=\"data row4 col1\" >-0.015</td> \n        <td id=\"T_b6803864_1ea9_11ea_a9f8_00155dc40bf5row4_col2\" class=\"data row4 col2\" >0.16</td> \n        <td id=\"T_b6803864_1ea9_11ea_a9f8_00155dc40bf5row4_col3\" class=\"data row4 col3\" >-0.085</td> \n        <td id=\"T_b6803864_1ea9_11ea_a9f8_00155dc40bf5row4_col4\" class=\"data row4 col4\" >1.0</td> \n        <td id=\"T_b6803864_1ea9_11ea_a9f8_00155dc40bf5row4_col5\" class=\"data row4 col5\" >-0.089</td> \n        <td id=\"T_b6803864_1ea9_11ea_a9f8_00155dc40bf5row4_col6\" class=\"data row4 col6\" >-0.033</td> \n        <td id=\"T_b6803864_1ea9_11ea_a9f8_00155dc40bf5row4_col7\" class=\"data row4 col7\" >-0.073</td> \n    </tr>    <tr> \n        <th id=\"T_b6803864_1ea9_11ea_a9f8_00155dc40bf5level0_row5\" class=\"row_heading level0 row5\" >pdays</th> \n        <td id=\"T_b6803864_1ea9_11ea_a9f8_00155dc40bf5row5_col0\" class=\"data row5 col0\" >-0.024</td> \n        <td id=\"T_b6803864_1ea9_11ea_a9f8_00155dc40bf5row5_col1\" class=\"data row5 col1\" >0.0034</td> \n        <td id=\"T_b6803864_1ea9_11ea_a9f8_00155dc40bf5row5_col2\" class=\"data row5 col2\" >-0.093</td> \n        <td id=\"T_b6803864_1ea9_11ea_a9f8_00155dc40bf5row5_col3\" class=\"data row5 col3\" >-0.0016</td> \n        <td id=\"T_b6803864_1ea9_11ea_a9f8_00155dc40bf5row5_col4\" class=\"data row5 col4\" >-0.089</td> \n        <td id=\"T_b6803864_1ea9_11ea_a9f8_00155dc40bf5row5_col5\" class=\"data row5 col5\" >1.0</td> \n        <td id=\"T_b6803864_1ea9_11ea_a9f8_00155dc40bf5row5_col6\" class=\"data row5 col6\" >0.45</td> \n        <td id=\"T_b6803864_1ea9_11ea_a9f8_00155dc40bf5row5_col7\" class=\"data row5 col7\" >0.1</td> \n    </tr>    <tr> \n        <th id=\"T_b6803864_1ea9_11ea_a9f8_00155dc40bf5level0_row6\" class=\"row_heading level0 row6\" >previous</th> \n        <td id=\"T_b6803864_1ea9_11ea_a9f8_00155dc40bf5row6_col0\" class=\"data row6 col0\" >0.0013</td> \n        <td id=\"T_b6803864_1ea9_11ea_a9f8_00155dc40bf5row6_col1\" class=\"data row6 col1\" >0.017</td> \n        <td id=\"T_b6803864_1ea9_11ea_a9f8_00155dc40bf5row6_col2\" class=\"data row6 col2\" >-0.052</td> \n        <td id=\"T_b6803864_1ea9_11ea_a9f8_00155dc40bf5row6_col3\" class=\"data row6 col3\" >0.0012</td> \n        <td id=\"T_b6803864_1ea9_11ea_a9f8_00155dc40bf5row6_col4\" class=\"data row6 col4\" >-0.033</td> \n        <td id=\"T_b6803864_1ea9_11ea_a9f8_00155dc40bf5row6_col5\" class=\"data row6 col5\" >0.45</td> \n        <td id=\"T_b6803864_1ea9_11ea_a9f8_00155dc40bf5row6_col6\" class=\"data row6 col6\" >1.0</td> \n        <td id=\"T_b6803864_1ea9_11ea_a9f8_00155dc40bf5row6_col7\" class=\"data row6 col7\" >0.093</td> \n    </tr>    <tr> \n        <th id=\"T_b6803864_1ea9_11ea_a9f8_00155dc40bf5level0_row7\" class=\"row_heading level0 row7\" >y</th> \n        <td id=\"T_b6803864_1ea9_11ea_a9f8_00155dc40bf5row7_col0\" class=\"data row7 col0\" >0.025</td> \n        <td id=\"T_b6803864_1ea9_11ea_a9f8_00155dc40bf5row7_col1\" class=\"data row7 col1\" >0.053</td> \n        <td id=\"T_b6803864_1ea9_11ea_a9f8_00155dc40bf5row7_col2\" class=\"data row7 col2\" >-0.028</td> \n        <td id=\"T_b6803864_1ea9_11ea_a9f8_00155dc40bf5row7_col3\" class=\"data row7 col3\" >0.39</td> \n        <td id=\"T_b6803864_1ea9_11ea_a9f8_00155dc40bf5row7_col4\" class=\"data row7 col4\" >-0.073</td> \n        <td id=\"T_b6803864_1ea9_11ea_a9f8_00155dc40bf5row7_col5\" class=\"data row7 col5\" >0.1</td> \n        <td id=\"T_b6803864_1ea9_11ea_a9f8_00155dc40bf5row7_col6\" class=\"data row7 col6\" >0.093</td> \n        <td id=\"T_b6803864_1ea9_11ea_a9f8_00155dc40bf5row7_col7\" class=\"data row7 col7\" >1.0</td> \n    </tr></tbody> \n</table> ",
            "text/plain": "<pandas.io.formats.style.Styler at 0x7f0ee3e709b0>"
          },
          "metadata": {}
        }
      ]
    },
    {
      "metadata": {},
      "cell_type": "markdown",
      "source": "## Machine Learning"
    },
    {
      "metadata": {},
      "cell_type": "markdown",
      "source": "### Tratando os dados"
    },
    {
      "metadata": {},
      "cell_type": "markdown",
      "source": "#### Convertendo os dados\n\n```\nPara padronizar a conversão de dados, criarei novas colunas com o prefixo C_ Ex: C_nomecoluna\n```"
    },
    {
      "metadata": {
        "trusted": true
      },
      "cell_type": "code",
      "source": "#Agrupando e contando os tipos de trabalho\nx = df.job.value_counts().to_frame().reset_index()\nx.columns = ['x', 'total']\nx",
      "execution_count": 6,
      "outputs": [
        {
          "output_type": "execute_result",
          "execution_count": 6,
          "data": {
            "text/html": "<div>\n<style scoped>\n    .dataframe tbody tr th:only-of-type {\n        vertical-align: middle;\n    }\n\n    .dataframe tbody tr th {\n        vertical-align: top;\n    }\n\n    .dataframe thead th {\n        text-align: right;\n    }\n</style>\n<table border=\"1\" class=\"dataframe\">\n  <thead>\n    <tr style=\"text-align: right;\">\n      <th></th>\n      <th>x</th>\n      <th>total</th>\n    </tr>\n  </thead>\n  <tbody>\n    <tr>\n      <th>0</th>\n      <td>blue</td>\n      <td>9732</td>\n    </tr>\n    <tr>\n      <th>1</th>\n      <td>management</td>\n      <td>9458</td>\n    </tr>\n    <tr>\n      <th>2</th>\n      <td>technician</td>\n      <td>7597</td>\n    </tr>\n    <tr>\n      <th>3</th>\n      <td>admin</td>\n      <td>5171</td>\n    </tr>\n    <tr>\n      <th>4</th>\n      <td>services</td>\n      <td>4154</td>\n    </tr>\n    <tr>\n      <th>5</th>\n      <td>retired</td>\n      <td>2264</td>\n    </tr>\n    <tr>\n      <th>6</th>\n      <td>self</td>\n      <td>1579</td>\n    </tr>\n    <tr>\n      <th>7</th>\n      <td>entrepreneur</td>\n      <td>1487</td>\n    </tr>\n    <tr>\n      <th>8</th>\n      <td>unemployed</td>\n      <td>1303</td>\n    </tr>\n    <tr>\n      <th>9</th>\n      <td>housemaid</td>\n      <td>1240</td>\n    </tr>\n    <tr>\n      <th>10</th>\n      <td>student</td>\n      <td>938</td>\n    </tr>\n    <tr>\n      <th>11</th>\n      <td>unknown</td>\n      <td>288</td>\n    </tr>\n  </tbody>\n</table>\n</div>",
            "text/plain": "               x  total\n0           blue   9732\n1     management   9458\n2     technician   7597\n3          admin   5171\n4       services   4154\n5        retired   2264\n6           self   1579\n7   entrepreneur   1487\n8     unemployed   1303\n9      housemaid   1240\n10       student    938\n11       unknown    288"
          },
          "metadata": {}
        }
      ]
    },
    {
      "metadata": {
        "trusted": true
      },
      "cell_type": "code",
      "source": "c_job = {\n    'blue': 0 \n    ,'management': 1 \n    ,'technician': 2 \n    ,'admin': 3 \n    ,'services': 4 \n    ,'retired': 5 \n    ,'self': 6 \n    ,'entrepreneur': 7 \n    ,'unemployed': 8 \n    ,'housemaid': 9 \n    ,'student': 10\n    ,'unknown': 11\n}\ndf['C_job'] = df.job.map(c_job)\ndf.head()",
      "execution_count": 7,
      "outputs": [
        {
          "output_type": "execute_result",
          "execution_count": 7,
          "data": {
            "text/html": "<div>\n<style scoped>\n    .dataframe tbody tr th:only-of-type {\n        vertical-align: middle;\n    }\n\n    .dataframe tbody tr th {\n        vertical-align: top;\n    }\n\n    .dataframe thead th {\n        text-align: right;\n    }\n</style>\n<table border=\"1\" class=\"dataframe\">\n  <thead>\n    <tr style=\"text-align: right;\">\n      <th></th>\n      <th>age</th>\n      <th>job</th>\n      <th>marital</th>\n      <th>education</th>\n      <th>default</th>\n      <th>balance</th>\n      <th>housing</th>\n      <th>loan</th>\n      <th>contact</th>\n      <th>day</th>\n      <th>month</th>\n      <th>duration</th>\n      <th>campaign</th>\n      <th>pdays</th>\n      <th>previous</th>\n      <th>poutcome</th>\n      <th>y</th>\n      <th>C_job</th>\n    </tr>\n  </thead>\n  <tbody>\n    <tr>\n      <th>0</th>\n      <td>58</td>\n      <td>management</td>\n      <td>married</td>\n      <td>tertiary</td>\n      <td>no</td>\n      <td>2143</td>\n      <td>yes</td>\n      <td>no</td>\n      <td>unknown</td>\n      <td>5</td>\n      <td>may</td>\n      <td>261</td>\n      <td>1</td>\n      <td>-1</td>\n      <td>0</td>\n      <td>unknown</td>\n      <td>0</td>\n      <td>1</td>\n    </tr>\n    <tr>\n      <th>1</th>\n      <td>44</td>\n      <td>technician</td>\n      <td>single</td>\n      <td>secondary</td>\n      <td>no</td>\n      <td>29</td>\n      <td>yes</td>\n      <td>no</td>\n      <td>unknown</td>\n      <td>5</td>\n      <td>may</td>\n      <td>151</td>\n      <td>1</td>\n      <td>-1</td>\n      <td>0</td>\n      <td>unknown</td>\n      <td>0</td>\n      <td>2</td>\n    </tr>\n    <tr>\n      <th>2</th>\n      <td>33</td>\n      <td>entrepreneur</td>\n      <td>married</td>\n      <td>secondary</td>\n      <td>no</td>\n      <td>2</td>\n      <td>yes</td>\n      <td>yes</td>\n      <td>unknown</td>\n      <td>5</td>\n      <td>may</td>\n      <td>76</td>\n      <td>1</td>\n      <td>-1</td>\n      <td>0</td>\n      <td>unknown</td>\n      <td>0</td>\n      <td>7</td>\n    </tr>\n    <tr>\n      <th>3</th>\n      <td>47</td>\n      <td>blue</td>\n      <td>married</td>\n      <td>unknown</td>\n      <td>no</td>\n      <td>1506</td>\n      <td>yes</td>\n      <td>no</td>\n      <td>unknown</td>\n      <td>5</td>\n      <td>may</td>\n      <td>92</td>\n      <td>1</td>\n      <td>-1</td>\n      <td>0</td>\n      <td>unknown</td>\n      <td>0</td>\n      <td>0</td>\n    </tr>\n    <tr>\n      <th>4</th>\n      <td>33</td>\n      <td>unknown</td>\n      <td>single</td>\n      <td>unknown</td>\n      <td>no</td>\n      <td>1</td>\n      <td>no</td>\n      <td>no</td>\n      <td>unknown</td>\n      <td>5</td>\n      <td>may</td>\n      <td>198</td>\n      <td>1</td>\n      <td>-1</td>\n      <td>0</td>\n      <td>unknown</td>\n      <td>0</td>\n      <td>11</td>\n    </tr>\n  </tbody>\n</table>\n</div>",
            "text/plain": "   age           job  marital  education default  balance housing loan  \\\n0   58    management  married   tertiary      no     2143     yes   no   \n1   44    technician   single  secondary      no       29     yes   no   \n2   33  entrepreneur  married  secondary      no        2     yes  yes   \n3   47          blue  married    unknown      no     1506     yes   no   \n4   33       unknown   single    unknown      no        1      no   no   \n\n   contact  day month  duration  campaign  pdays  previous poutcome  y  C_job  \n0  unknown    5   may       261         1     -1         0  unknown  0      1  \n1  unknown    5   may       151         1     -1         0  unknown  0      2  \n2  unknown    5   may        76         1     -1         0  unknown  0      7  \n3  unknown    5   may        92         1     -1         0  unknown  0      0  \n4  unknown    5   may       198         1     -1         0  unknown  0     11  "
          },
          "metadata": {}
        }
      ]
    },
    {
      "metadata": {
        "trusted": true
      },
      "cell_type": "code",
      "source": "x = df.marital.value_counts().to_frame().reset_index()\nx.columns = ['x', 'total']\nx",
      "execution_count": 8,
      "outputs": [
        {
          "output_type": "execute_result",
          "execution_count": 8,
          "data": {
            "text/html": "<div>\n<style scoped>\n    .dataframe tbody tr th:only-of-type {\n        vertical-align: middle;\n    }\n\n    .dataframe tbody tr th {\n        vertical-align: top;\n    }\n\n    .dataframe thead th {\n        text-align: right;\n    }\n</style>\n<table border=\"1\" class=\"dataframe\">\n  <thead>\n    <tr style=\"text-align: right;\">\n      <th></th>\n      <th>x</th>\n      <th>total</th>\n    </tr>\n  </thead>\n  <tbody>\n    <tr>\n      <th>0</th>\n      <td>married</td>\n      <td>27214</td>\n    </tr>\n    <tr>\n      <th>1</th>\n      <td>single</td>\n      <td>12790</td>\n    </tr>\n    <tr>\n      <th>2</th>\n      <td>divorced</td>\n      <td>5207</td>\n    </tr>\n  </tbody>\n</table>\n</div>",
            "text/plain": "          x  total\n0   married  27214\n1    single  12790\n2  divorced   5207"
          },
          "metadata": {}
        }
      ]
    },
    {
      "metadata": {
        "trusted": true
      },
      "cell_type": "code",
      "source": "r_marital = {\n    'married': 0,\n    'single': 1,\n    'divorced': 2\n}\ndf['C_marital'] = df.marital.map(r_marital)\ndf.head()",
      "execution_count": 9,
      "outputs": [
        {
          "output_type": "execute_result",
          "execution_count": 9,
          "data": {
            "text/html": "<div>\n<style scoped>\n    .dataframe tbody tr th:only-of-type {\n        vertical-align: middle;\n    }\n\n    .dataframe tbody tr th {\n        vertical-align: top;\n    }\n\n    .dataframe thead th {\n        text-align: right;\n    }\n</style>\n<table border=\"1\" class=\"dataframe\">\n  <thead>\n    <tr style=\"text-align: right;\">\n      <th></th>\n      <th>age</th>\n      <th>job</th>\n      <th>marital</th>\n      <th>education</th>\n      <th>default</th>\n      <th>balance</th>\n      <th>housing</th>\n      <th>loan</th>\n      <th>contact</th>\n      <th>day</th>\n      <th>month</th>\n      <th>duration</th>\n      <th>campaign</th>\n      <th>pdays</th>\n      <th>previous</th>\n      <th>poutcome</th>\n      <th>y</th>\n      <th>C_job</th>\n      <th>C_marital</th>\n    </tr>\n  </thead>\n  <tbody>\n    <tr>\n      <th>0</th>\n      <td>58</td>\n      <td>management</td>\n      <td>married</td>\n      <td>tertiary</td>\n      <td>no</td>\n      <td>2143</td>\n      <td>yes</td>\n      <td>no</td>\n      <td>unknown</td>\n      <td>5</td>\n      <td>may</td>\n      <td>261</td>\n      <td>1</td>\n      <td>-1</td>\n      <td>0</td>\n      <td>unknown</td>\n      <td>0</td>\n      <td>1</td>\n      <td>0</td>\n    </tr>\n    <tr>\n      <th>1</th>\n      <td>44</td>\n      <td>technician</td>\n      <td>single</td>\n      <td>secondary</td>\n      <td>no</td>\n      <td>29</td>\n      <td>yes</td>\n      <td>no</td>\n      <td>unknown</td>\n      <td>5</td>\n      <td>may</td>\n      <td>151</td>\n      <td>1</td>\n      <td>-1</td>\n      <td>0</td>\n      <td>unknown</td>\n      <td>0</td>\n      <td>2</td>\n      <td>1</td>\n    </tr>\n    <tr>\n      <th>2</th>\n      <td>33</td>\n      <td>entrepreneur</td>\n      <td>married</td>\n      <td>secondary</td>\n      <td>no</td>\n      <td>2</td>\n      <td>yes</td>\n      <td>yes</td>\n      <td>unknown</td>\n      <td>5</td>\n      <td>may</td>\n      <td>76</td>\n      <td>1</td>\n      <td>-1</td>\n      <td>0</td>\n      <td>unknown</td>\n      <td>0</td>\n      <td>7</td>\n      <td>0</td>\n    </tr>\n    <tr>\n      <th>3</th>\n      <td>47</td>\n      <td>blue</td>\n      <td>married</td>\n      <td>unknown</td>\n      <td>no</td>\n      <td>1506</td>\n      <td>yes</td>\n      <td>no</td>\n      <td>unknown</td>\n      <td>5</td>\n      <td>may</td>\n      <td>92</td>\n      <td>1</td>\n      <td>-1</td>\n      <td>0</td>\n      <td>unknown</td>\n      <td>0</td>\n      <td>0</td>\n      <td>0</td>\n    </tr>\n    <tr>\n      <th>4</th>\n      <td>33</td>\n      <td>unknown</td>\n      <td>single</td>\n      <td>unknown</td>\n      <td>no</td>\n      <td>1</td>\n      <td>no</td>\n      <td>no</td>\n      <td>unknown</td>\n      <td>5</td>\n      <td>may</td>\n      <td>198</td>\n      <td>1</td>\n      <td>-1</td>\n      <td>0</td>\n      <td>unknown</td>\n      <td>0</td>\n      <td>11</td>\n      <td>1</td>\n    </tr>\n  </tbody>\n</table>\n</div>",
            "text/plain": "   age           job  marital  education default  balance housing loan  \\\n0   58    management  married   tertiary      no     2143     yes   no   \n1   44    technician   single  secondary      no       29     yes   no   \n2   33  entrepreneur  married  secondary      no        2     yes  yes   \n3   47          blue  married    unknown      no     1506     yes   no   \n4   33       unknown   single    unknown      no        1      no   no   \n\n   contact  day month  duration  campaign  pdays  previous poutcome  y  C_job  \\\n0  unknown    5   may       261         1     -1         0  unknown  0      1   \n1  unknown    5   may       151         1     -1         0  unknown  0      2   \n2  unknown    5   may        76         1     -1         0  unknown  0      7   \n3  unknown    5   may        92         1     -1         0  unknown  0      0   \n4  unknown    5   may       198         1     -1         0  unknown  0     11   \n\n   C_marital  \n0          0  \n1          1  \n2          0  \n3          0  \n4          1  "
          },
          "metadata": {}
        }
      ]
    },
    {
      "metadata": {
        "trusted": true
      },
      "cell_type": "code",
      "source": "x = df.education.value_counts().to_frame().reset_index()\nx.columns = ['x', 'total']\nx",
      "execution_count": 10,
      "outputs": [
        {
          "output_type": "execute_result",
          "execution_count": 10,
          "data": {
            "text/html": "<div>\n<style scoped>\n    .dataframe tbody tr th:only-of-type {\n        vertical-align: middle;\n    }\n\n    .dataframe tbody tr th {\n        vertical-align: top;\n    }\n\n    .dataframe thead th {\n        text-align: right;\n    }\n</style>\n<table border=\"1\" class=\"dataframe\">\n  <thead>\n    <tr style=\"text-align: right;\">\n      <th></th>\n      <th>x</th>\n      <th>total</th>\n    </tr>\n  </thead>\n  <tbody>\n    <tr>\n      <th>0</th>\n      <td>secondary</td>\n      <td>23202</td>\n    </tr>\n    <tr>\n      <th>1</th>\n      <td>tertiary</td>\n      <td>13301</td>\n    </tr>\n    <tr>\n      <th>2</th>\n      <td>primary</td>\n      <td>6851</td>\n    </tr>\n    <tr>\n      <th>3</th>\n      <td>unknown</td>\n      <td>1857</td>\n    </tr>\n  </tbody>\n</table>\n</div>",
            "text/plain": "           x  total\n0  secondary  23202\n1   tertiary  13301\n2    primary   6851\n3    unknown   1857"
          },
          "metadata": {}
        }
      ]
    },
    {
      "metadata": {
        "trusted": true
      },
      "cell_type": "code",
      "source": "r_ed = {\n    'unknown': 0,\n    'primary': 1,\n    'secondary': 2,\n    'tertiary': 3\n}\ndf['C_education'] = df.education.map(r_ed)\ndf.head()",
      "execution_count": 11,
      "outputs": [
        {
          "output_type": "execute_result",
          "execution_count": 11,
          "data": {
            "text/html": "<div>\n<style scoped>\n    .dataframe tbody tr th:only-of-type {\n        vertical-align: middle;\n    }\n\n    .dataframe tbody tr th {\n        vertical-align: top;\n    }\n\n    .dataframe thead th {\n        text-align: right;\n    }\n</style>\n<table border=\"1\" class=\"dataframe\">\n  <thead>\n    <tr style=\"text-align: right;\">\n      <th></th>\n      <th>age</th>\n      <th>job</th>\n      <th>marital</th>\n      <th>education</th>\n      <th>default</th>\n      <th>balance</th>\n      <th>housing</th>\n      <th>loan</th>\n      <th>contact</th>\n      <th>day</th>\n      <th>month</th>\n      <th>duration</th>\n      <th>campaign</th>\n      <th>pdays</th>\n      <th>previous</th>\n      <th>poutcome</th>\n      <th>y</th>\n      <th>C_job</th>\n      <th>C_marital</th>\n      <th>C_education</th>\n    </tr>\n  </thead>\n  <tbody>\n    <tr>\n      <th>0</th>\n      <td>58</td>\n      <td>management</td>\n      <td>married</td>\n      <td>tertiary</td>\n      <td>no</td>\n      <td>2143</td>\n      <td>yes</td>\n      <td>no</td>\n      <td>unknown</td>\n      <td>5</td>\n      <td>may</td>\n      <td>261</td>\n      <td>1</td>\n      <td>-1</td>\n      <td>0</td>\n      <td>unknown</td>\n      <td>0</td>\n      <td>1</td>\n      <td>0</td>\n      <td>3</td>\n    </tr>\n    <tr>\n      <th>1</th>\n      <td>44</td>\n      <td>technician</td>\n      <td>single</td>\n      <td>secondary</td>\n      <td>no</td>\n      <td>29</td>\n      <td>yes</td>\n      <td>no</td>\n      <td>unknown</td>\n      <td>5</td>\n      <td>may</td>\n      <td>151</td>\n      <td>1</td>\n      <td>-1</td>\n      <td>0</td>\n      <td>unknown</td>\n      <td>0</td>\n      <td>2</td>\n      <td>1</td>\n      <td>2</td>\n    </tr>\n    <tr>\n      <th>2</th>\n      <td>33</td>\n      <td>entrepreneur</td>\n      <td>married</td>\n      <td>secondary</td>\n      <td>no</td>\n      <td>2</td>\n      <td>yes</td>\n      <td>yes</td>\n      <td>unknown</td>\n      <td>5</td>\n      <td>may</td>\n      <td>76</td>\n      <td>1</td>\n      <td>-1</td>\n      <td>0</td>\n      <td>unknown</td>\n      <td>0</td>\n      <td>7</td>\n      <td>0</td>\n      <td>2</td>\n    </tr>\n    <tr>\n      <th>3</th>\n      <td>47</td>\n      <td>blue</td>\n      <td>married</td>\n      <td>unknown</td>\n      <td>no</td>\n      <td>1506</td>\n      <td>yes</td>\n      <td>no</td>\n      <td>unknown</td>\n      <td>5</td>\n      <td>may</td>\n      <td>92</td>\n      <td>1</td>\n      <td>-1</td>\n      <td>0</td>\n      <td>unknown</td>\n      <td>0</td>\n      <td>0</td>\n      <td>0</td>\n      <td>0</td>\n    </tr>\n    <tr>\n      <th>4</th>\n      <td>33</td>\n      <td>unknown</td>\n      <td>single</td>\n      <td>unknown</td>\n      <td>no</td>\n      <td>1</td>\n      <td>no</td>\n      <td>no</td>\n      <td>unknown</td>\n      <td>5</td>\n      <td>may</td>\n      <td>198</td>\n      <td>1</td>\n      <td>-1</td>\n      <td>0</td>\n      <td>unknown</td>\n      <td>0</td>\n      <td>11</td>\n      <td>1</td>\n      <td>0</td>\n    </tr>\n  </tbody>\n</table>\n</div>",
            "text/plain": "   age           job  marital  education default  balance housing loan  \\\n0   58    management  married   tertiary      no     2143     yes   no   \n1   44    technician   single  secondary      no       29     yes   no   \n2   33  entrepreneur  married  secondary      no        2     yes  yes   \n3   47          blue  married    unknown      no     1506     yes   no   \n4   33       unknown   single    unknown      no        1      no   no   \n\n   contact  day month  duration  campaign  pdays  previous poutcome  y  C_job  \\\n0  unknown    5   may       261         1     -1         0  unknown  0      1   \n1  unknown    5   may       151         1     -1         0  unknown  0      2   \n2  unknown    5   may        76         1     -1         0  unknown  0      7   \n3  unknown    5   may        92         1     -1         0  unknown  0      0   \n4  unknown    5   may       198         1     -1         0  unknown  0     11   \n\n   C_marital  C_education  \n0          0            3  \n1          1            2  \n2          0            2  \n3          0            0  \n4          1            0  "
          },
          "metadata": {}
        }
      ]
    },
    {
      "metadata": {
        "trusted": true
      },
      "cell_type": "code",
      "source": "x = df.default.value_counts().to_frame().reset_index()\nx.columns = ['x', 'total']\nx",
      "execution_count": 12,
      "outputs": [
        {
          "output_type": "execute_result",
          "execution_count": 12,
          "data": {
            "text/html": "<div>\n<style scoped>\n    .dataframe tbody tr th:only-of-type {\n        vertical-align: middle;\n    }\n\n    .dataframe tbody tr th {\n        vertical-align: top;\n    }\n\n    .dataframe thead th {\n        text-align: right;\n    }\n</style>\n<table border=\"1\" class=\"dataframe\">\n  <thead>\n    <tr style=\"text-align: right;\">\n      <th></th>\n      <th>x</th>\n      <th>total</th>\n    </tr>\n  </thead>\n  <tbody>\n    <tr>\n      <th>0</th>\n      <td>no</td>\n      <td>44396</td>\n    </tr>\n    <tr>\n      <th>1</th>\n      <td>yes</td>\n      <td>815</td>\n    </tr>\n  </tbody>\n</table>\n</div>",
            "text/plain": "     x  total\n0   no  44396\n1  yes    815"
          },
          "metadata": {}
        }
      ]
    },
    {
      "metadata": {
        "trusted": true
      },
      "cell_type": "code",
      "source": "r_def = {\n    'no': 0,\n    'yes': 1\n}\ndf['C_default'] = df.default.map(r_def)\ndf.head()",
      "execution_count": 13,
      "outputs": [
        {
          "output_type": "execute_result",
          "execution_count": 13,
          "data": {
            "text/html": "<div>\n<style scoped>\n    .dataframe tbody tr th:only-of-type {\n        vertical-align: middle;\n    }\n\n    .dataframe tbody tr th {\n        vertical-align: top;\n    }\n\n    .dataframe thead th {\n        text-align: right;\n    }\n</style>\n<table border=\"1\" class=\"dataframe\">\n  <thead>\n    <tr style=\"text-align: right;\">\n      <th></th>\n      <th>age</th>\n      <th>job</th>\n      <th>marital</th>\n      <th>education</th>\n      <th>default</th>\n      <th>balance</th>\n      <th>housing</th>\n      <th>loan</th>\n      <th>contact</th>\n      <th>day</th>\n      <th>...</th>\n      <th>duration</th>\n      <th>campaign</th>\n      <th>pdays</th>\n      <th>previous</th>\n      <th>poutcome</th>\n      <th>y</th>\n      <th>C_job</th>\n      <th>C_marital</th>\n      <th>C_education</th>\n      <th>C_default</th>\n    </tr>\n  </thead>\n  <tbody>\n    <tr>\n      <th>0</th>\n      <td>58</td>\n      <td>management</td>\n      <td>married</td>\n      <td>tertiary</td>\n      <td>no</td>\n      <td>2143</td>\n      <td>yes</td>\n      <td>no</td>\n      <td>unknown</td>\n      <td>5</td>\n      <td>...</td>\n      <td>261</td>\n      <td>1</td>\n      <td>-1</td>\n      <td>0</td>\n      <td>unknown</td>\n      <td>0</td>\n      <td>1</td>\n      <td>0</td>\n      <td>3</td>\n      <td>0</td>\n    </tr>\n    <tr>\n      <th>1</th>\n      <td>44</td>\n      <td>technician</td>\n      <td>single</td>\n      <td>secondary</td>\n      <td>no</td>\n      <td>29</td>\n      <td>yes</td>\n      <td>no</td>\n      <td>unknown</td>\n      <td>5</td>\n      <td>...</td>\n      <td>151</td>\n      <td>1</td>\n      <td>-1</td>\n      <td>0</td>\n      <td>unknown</td>\n      <td>0</td>\n      <td>2</td>\n      <td>1</td>\n      <td>2</td>\n      <td>0</td>\n    </tr>\n    <tr>\n      <th>2</th>\n      <td>33</td>\n      <td>entrepreneur</td>\n      <td>married</td>\n      <td>secondary</td>\n      <td>no</td>\n      <td>2</td>\n      <td>yes</td>\n      <td>yes</td>\n      <td>unknown</td>\n      <td>5</td>\n      <td>...</td>\n      <td>76</td>\n      <td>1</td>\n      <td>-1</td>\n      <td>0</td>\n      <td>unknown</td>\n      <td>0</td>\n      <td>7</td>\n      <td>0</td>\n      <td>2</td>\n      <td>0</td>\n    </tr>\n    <tr>\n      <th>3</th>\n      <td>47</td>\n      <td>blue</td>\n      <td>married</td>\n      <td>unknown</td>\n      <td>no</td>\n      <td>1506</td>\n      <td>yes</td>\n      <td>no</td>\n      <td>unknown</td>\n      <td>5</td>\n      <td>...</td>\n      <td>92</td>\n      <td>1</td>\n      <td>-1</td>\n      <td>0</td>\n      <td>unknown</td>\n      <td>0</td>\n      <td>0</td>\n      <td>0</td>\n      <td>0</td>\n      <td>0</td>\n    </tr>\n    <tr>\n      <th>4</th>\n      <td>33</td>\n      <td>unknown</td>\n      <td>single</td>\n      <td>unknown</td>\n      <td>no</td>\n      <td>1</td>\n      <td>no</td>\n      <td>no</td>\n      <td>unknown</td>\n      <td>5</td>\n      <td>...</td>\n      <td>198</td>\n      <td>1</td>\n      <td>-1</td>\n      <td>0</td>\n      <td>unknown</td>\n      <td>0</td>\n      <td>11</td>\n      <td>1</td>\n      <td>0</td>\n      <td>0</td>\n    </tr>\n  </tbody>\n</table>\n<p>5 rows × 21 columns</p>\n</div>",
            "text/plain": "   age           job  marital  education default  balance housing loan  \\\n0   58    management  married   tertiary      no     2143     yes   no   \n1   44    technician   single  secondary      no       29     yes   no   \n2   33  entrepreneur  married  secondary      no        2     yes  yes   \n3   47          blue  married    unknown      no     1506     yes   no   \n4   33       unknown   single    unknown      no        1      no   no   \n\n   contact  day    ...     duration  campaign  pdays  previous  poutcome  y  \\\n0  unknown    5    ...          261         1     -1         0   unknown  0   \n1  unknown    5    ...          151         1     -1         0   unknown  0   \n2  unknown    5    ...           76         1     -1         0   unknown  0   \n3  unknown    5    ...           92         1     -1         0   unknown  0   \n4  unknown    5    ...          198         1     -1         0   unknown  0   \n\n   C_job  C_marital  C_education  C_default  \n0      1          0            3          0  \n1      2          1            2          0  \n2      7          0            2          0  \n3      0          0            0          0  \n4     11          1            0          0  \n\n[5 rows x 21 columns]"
          },
          "metadata": {}
        }
      ]
    },
    {
      "metadata": {
        "trusted": true
      },
      "cell_type": "code",
      "source": "x = df.housing.value_counts().to_frame().reset_index()\nx.columns = ['x', 'total']\nx",
      "execution_count": 14,
      "outputs": [
        {
          "output_type": "execute_result",
          "execution_count": 14,
          "data": {
            "text/html": "<div>\n<style scoped>\n    .dataframe tbody tr th:only-of-type {\n        vertical-align: middle;\n    }\n\n    .dataframe tbody tr th {\n        vertical-align: top;\n    }\n\n    .dataframe thead th {\n        text-align: right;\n    }\n</style>\n<table border=\"1\" class=\"dataframe\">\n  <thead>\n    <tr style=\"text-align: right;\">\n      <th></th>\n      <th>x</th>\n      <th>total</th>\n    </tr>\n  </thead>\n  <tbody>\n    <tr>\n      <th>0</th>\n      <td>yes</td>\n      <td>25130</td>\n    </tr>\n    <tr>\n      <th>1</th>\n      <td>no</td>\n      <td>20081</td>\n    </tr>\n  </tbody>\n</table>\n</div>",
            "text/plain": "     x  total\n0  yes  25130\n1   no  20081"
          },
          "metadata": {}
        }
      ]
    },
    {
      "metadata": {
        "trusted": true
      },
      "cell_type": "code",
      "source": "r_def = {\n    'no': 0,\n    'yes': 1\n}\ndf['C_housing'] = df.housing.map(r_def)\ndf.head()",
      "execution_count": 15,
      "outputs": [
        {
          "output_type": "execute_result",
          "execution_count": 15,
          "data": {
            "text/html": "<div>\n<style scoped>\n    .dataframe tbody tr th:only-of-type {\n        vertical-align: middle;\n    }\n\n    .dataframe tbody tr th {\n        vertical-align: top;\n    }\n\n    .dataframe thead th {\n        text-align: right;\n    }\n</style>\n<table border=\"1\" class=\"dataframe\">\n  <thead>\n    <tr style=\"text-align: right;\">\n      <th></th>\n      <th>age</th>\n      <th>job</th>\n      <th>marital</th>\n      <th>education</th>\n      <th>default</th>\n      <th>balance</th>\n      <th>housing</th>\n      <th>loan</th>\n      <th>contact</th>\n      <th>day</th>\n      <th>...</th>\n      <th>campaign</th>\n      <th>pdays</th>\n      <th>previous</th>\n      <th>poutcome</th>\n      <th>y</th>\n      <th>C_job</th>\n      <th>C_marital</th>\n      <th>C_education</th>\n      <th>C_default</th>\n      <th>C_housing</th>\n    </tr>\n  </thead>\n  <tbody>\n    <tr>\n      <th>0</th>\n      <td>58</td>\n      <td>management</td>\n      <td>married</td>\n      <td>tertiary</td>\n      <td>no</td>\n      <td>2143</td>\n      <td>yes</td>\n      <td>no</td>\n      <td>unknown</td>\n      <td>5</td>\n      <td>...</td>\n      <td>1</td>\n      <td>-1</td>\n      <td>0</td>\n      <td>unknown</td>\n      <td>0</td>\n      <td>1</td>\n      <td>0</td>\n      <td>3</td>\n      <td>0</td>\n      <td>1</td>\n    </tr>\n    <tr>\n      <th>1</th>\n      <td>44</td>\n      <td>technician</td>\n      <td>single</td>\n      <td>secondary</td>\n      <td>no</td>\n      <td>29</td>\n      <td>yes</td>\n      <td>no</td>\n      <td>unknown</td>\n      <td>5</td>\n      <td>...</td>\n      <td>1</td>\n      <td>-1</td>\n      <td>0</td>\n      <td>unknown</td>\n      <td>0</td>\n      <td>2</td>\n      <td>1</td>\n      <td>2</td>\n      <td>0</td>\n      <td>1</td>\n    </tr>\n    <tr>\n      <th>2</th>\n      <td>33</td>\n      <td>entrepreneur</td>\n      <td>married</td>\n      <td>secondary</td>\n      <td>no</td>\n      <td>2</td>\n      <td>yes</td>\n      <td>yes</td>\n      <td>unknown</td>\n      <td>5</td>\n      <td>...</td>\n      <td>1</td>\n      <td>-1</td>\n      <td>0</td>\n      <td>unknown</td>\n      <td>0</td>\n      <td>7</td>\n      <td>0</td>\n      <td>2</td>\n      <td>0</td>\n      <td>1</td>\n    </tr>\n    <tr>\n      <th>3</th>\n      <td>47</td>\n      <td>blue</td>\n      <td>married</td>\n      <td>unknown</td>\n      <td>no</td>\n      <td>1506</td>\n      <td>yes</td>\n      <td>no</td>\n      <td>unknown</td>\n      <td>5</td>\n      <td>...</td>\n      <td>1</td>\n      <td>-1</td>\n      <td>0</td>\n      <td>unknown</td>\n      <td>0</td>\n      <td>0</td>\n      <td>0</td>\n      <td>0</td>\n      <td>0</td>\n      <td>1</td>\n    </tr>\n    <tr>\n      <th>4</th>\n      <td>33</td>\n      <td>unknown</td>\n      <td>single</td>\n      <td>unknown</td>\n      <td>no</td>\n      <td>1</td>\n      <td>no</td>\n      <td>no</td>\n      <td>unknown</td>\n      <td>5</td>\n      <td>...</td>\n      <td>1</td>\n      <td>-1</td>\n      <td>0</td>\n      <td>unknown</td>\n      <td>0</td>\n      <td>11</td>\n      <td>1</td>\n      <td>0</td>\n      <td>0</td>\n      <td>0</td>\n    </tr>\n  </tbody>\n</table>\n<p>5 rows × 22 columns</p>\n</div>",
            "text/plain": "   age           job  marital  education default  balance housing loan  \\\n0   58    management  married   tertiary      no     2143     yes   no   \n1   44    technician   single  secondary      no       29     yes   no   \n2   33  entrepreneur  married  secondary      no        2     yes  yes   \n3   47          blue  married    unknown      no     1506     yes   no   \n4   33       unknown   single    unknown      no        1      no   no   \n\n   contact  day    ...     campaign  pdays  previous  poutcome  y C_job  \\\n0  unknown    5    ...            1     -1         0   unknown  0     1   \n1  unknown    5    ...            1     -1         0   unknown  0     2   \n2  unknown    5    ...            1     -1         0   unknown  0     7   \n3  unknown    5    ...            1     -1         0   unknown  0     0   \n4  unknown    5    ...            1     -1         0   unknown  0    11   \n\n   C_marital  C_education  C_default  C_housing  \n0          0            3          0          1  \n1          1            2          0          1  \n2          0            2          0          1  \n3          0            0          0          1  \n4          1            0          0          0  \n\n[5 rows x 22 columns]"
          },
          "metadata": {}
        }
      ]
    },
    {
      "metadata": {
        "trusted": true
      },
      "cell_type": "code",
      "source": "x = df.loan.value_counts().to_frame().reset_index()\nx.columns = ['x', 'total']\nx",
      "execution_count": 16,
      "outputs": [
        {
          "output_type": "execute_result",
          "execution_count": 16,
          "data": {
            "text/html": "<div>\n<style scoped>\n    .dataframe tbody tr th:only-of-type {\n        vertical-align: middle;\n    }\n\n    .dataframe tbody tr th {\n        vertical-align: top;\n    }\n\n    .dataframe thead th {\n        text-align: right;\n    }\n</style>\n<table border=\"1\" class=\"dataframe\">\n  <thead>\n    <tr style=\"text-align: right;\">\n      <th></th>\n      <th>x</th>\n      <th>total</th>\n    </tr>\n  </thead>\n  <tbody>\n    <tr>\n      <th>0</th>\n      <td>no</td>\n      <td>37967</td>\n    </tr>\n    <tr>\n      <th>1</th>\n      <td>yes</td>\n      <td>7244</td>\n    </tr>\n  </tbody>\n</table>\n</div>",
            "text/plain": "     x  total\n0   no  37967\n1  yes   7244"
          },
          "metadata": {}
        }
      ]
    },
    {
      "metadata": {
        "trusted": true
      },
      "cell_type": "code",
      "source": "r_def = {\n    'no': 0,\n    'yes': 1\n}\ndf['C_loan'] = df.loan.map(r_def)\ndf.head()",
      "execution_count": 17,
      "outputs": [
        {
          "output_type": "execute_result",
          "execution_count": 17,
          "data": {
            "text/html": "<div>\n<style scoped>\n    .dataframe tbody tr th:only-of-type {\n        vertical-align: middle;\n    }\n\n    .dataframe tbody tr th {\n        vertical-align: top;\n    }\n\n    .dataframe thead th {\n        text-align: right;\n    }\n</style>\n<table border=\"1\" class=\"dataframe\">\n  <thead>\n    <tr style=\"text-align: right;\">\n      <th></th>\n      <th>age</th>\n      <th>job</th>\n      <th>marital</th>\n      <th>education</th>\n      <th>default</th>\n      <th>balance</th>\n      <th>housing</th>\n      <th>loan</th>\n      <th>contact</th>\n      <th>day</th>\n      <th>...</th>\n      <th>pdays</th>\n      <th>previous</th>\n      <th>poutcome</th>\n      <th>y</th>\n      <th>C_job</th>\n      <th>C_marital</th>\n      <th>C_education</th>\n      <th>C_default</th>\n      <th>C_housing</th>\n      <th>C_loan</th>\n    </tr>\n  </thead>\n  <tbody>\n    <tr>\n      <th>0</th>\n      <td>58</td>\n      <td>management</td>\n      <td>married</td>\n      <td>tertiary</td>\n      <td>no</td>\n      <td>2143</td>\n      <td>yes</td>\n      <td>no</td>\n      <td>unknown</td>\n      <td>5</td>\n      <td>...</td>\n      <td>-1</td>\n      <td>0</td>\n      <td>unknown</td>\n      <td>0</td>\n      <td>1</td>\n      <td>0</td>\n      <td>3</td>\n      <td>0</td>\n      <td>1</td>\n      <td>0</td>\n    </tr>\n    <tr>\n      <th>1</th>\n      <td>44</td>\n      <td>technician</td>\n      <td>single</td>\n      <td>secondary</td>\n      <td>no</td>\n      <td>29</td>\n      <td>yes</td>\n      <td>no</td>\n      <td>unknown</td>\n      <td>5</td>\n      <td>...</td>\n      <td>-1</td>\n      <td>0</td>\n      <td>unknown</td>\n      <td>0</td>\n      <td>2</td>\n      <td>1</td>\n      <td>2</td>\n      <td>0</td>\n      <td>1</td>\n      <td>0</td>\n    </tr>\n    <tr>\n      <th>2</th>\n      <td>33</td>\n      <td>entrepreneur</td>\n      <td>married</td>\n      <td>secondary</td>\n      <td>no</td>\n      <td>2</td>\n      <td>yes</td>\n      <td>yes</td>\n      <td>unknown</td>\n      <td>5</td>\n      <td>...</td>\n      <td>-1</td>\n      <td>0</td>\n      <td>unknown</td>\n      <td>0</td>\n      <td>7</td>\n      <td>0</td>\n      <td>2</td>\n      <td>0</td>\n      <td>1</td>\n      <td>1</td>\n    </tr>\n    <tr>\n      <th>3</th>\n      <td>47</td>\n      <td>blue</td>\n      <td>married</td>\n      <td>unknown</td>\n      <td>no</td>\n      <td>1506</td>\n      <td>yes</td>\n      <td>no</td>\n      <td>unknown</td>\n      <td>5</td>\n      <td>...</td>\n      <td>-1</td>\n      <td>0</td>\n      <td>unknown</td>\n      <td>0</td>\n      <td>0</td>\n      <td>0</td>\n      <td>0</td>\n      <td>0</td>\n      <td>1</td>\n      <td>0</td>\n    </tr>\n    <tr>\n      <th>4</th>\n      <td>33</td>\n      <td>unknown</td>\n      <td>single</td>\n      <td>unknown</td>\n      <td>no</td>\n      <td>1</td>\n      <td>no</td>\n      <td>no</td>\n      <td>unknown</td>\n      <td>5</td>\n      <td>...</td>\n      <td>-1</td>\n      <td>0</td>\n      <td>unknown</td>\n      <td>0</td>\n      <td>11</td>\n      <td>1</td>\n      <td>0</td>\n      <td>0</td>\n      <td>0</td>\n      <td>0</td>\n    </tr>\n  </tbody>\n</table>\n<p>5 rows × 23 columns</p>\n</div>",
            "text/plain": "   age           job  marital  education default  balance housing loan  \\\n0   58    management  married   tertiary      no     2143     yes   no   \n1   44    technician   single  secondary      no       29     yes   no   \n2   33  entrepreneur  married  secondary      no        2     yes  yes   \n3   47          blue  married    unknown      no     1506     yes   no   \n4   33       unknown   single    unknown      no        1      no   no   \n\n   contact  day   ...   pdays  previous  poutcome  y  C_job C_marital  \\\n0  unknown    5   ...      -1         0   unknown  0      1         0   \n1  unknown    5   ...      -1         0   unknown  0      2         1   \n2  unknown    5   ...      -1         0   unknown  0      7         0   \n3  unknown    5   ...      -1         0   unknown  0      0         0   \n4  unknown    5   ...      -1         0   unknown  0     11         1   \n\n   C_education  C_default  C_housing  C_loan  \n0            3          0          1       0  \n1            2          0          1       0  \n2            2          0          1       1  \n3            0          0          1       0  \n4            0          0          0       0  \n\n[5 rows x 23 columns]"
          },
          "metadata": {}
        }
      ]
    },
    {
      "metadata": {
        "trusted": true
      },
      "cell_type": "code",
      "source": "x = df.month.value_counts().to_frame().reset_index()\nx.columns = ['x', 'total']\nx",
      "execution_count": 18,
      "outputs": [
        {
          "output_type": "execute_result",
          "execution_count": 18,
          "data": {
            "text/html": "<div>\n<style scoped>\n    .dataframe tbody tr th:only-of-type {\n        vertical-align: middle;\n    }\n\n    .dataframe tbody tr th {\n        vertical-align: top;\n    }\n\n    .dataframe thead th {\n        text-align: right;\n    }\n</style>\n<table border=\"1\" class=\"dataframe\">\n  <thead>\n    <tr style=\"text-align: right;\">\n      <th></th>\n      <th>x</th>\n      <th>total</th>\n    </tr>\n  </thead>\n  <tbody>\n    <tr>\n      <th>0</th>\n      <td>may</td>\n      <td>13766</td>\n    </tr>\n    <tr>\n      <th>1</th>\n      <td>jul</td>\n      <td>6895</td>\n    </tr>\n    <tr>\n      <th>2</th>\n      <td>aug</td>\n      <td>6247</td>\n    </tr>\n    <tr>\n      <th>3</th>\n      <td>jun</td>\n      <td>5341</td>\n    </tr>\n    <tr>\n      <th>4</th>\n      <td>nov</td>\n      <td>3970</td>\n    </tr>\n    <tr>\n      <th>5</th>\n      <td>apr</td>\n      <td>2932</td>\n    </tr>\n    <tr>\n      <th>6</th>\n      <td>feb</td>\n      <td>2649</td>\n    </tr>\n    <tr>\n      <th>7</th>\n      <td>jan</td>\n      <td>1403</td>\n    </tr>\n    <tr>\n      <th>8</th>\n      <td>oct</td>\n      <td>738</td>\n    </tr>\n    <tr>\n      <th>9</th>\n      <td>sep</td>\n      <td>579</td>\n    </tr>\n    <tr>\n      <th>10</th>\n      <td>mar</td>\n      <td>477</td>\n    </tr>\n    <tr>\n      <th>11</th>\n      <td>dec</td>\n      <td>214</td>\n    </tr>\n  </tbody>\n</table>\n</div>",
            "text/plain": "      x  total\n0   may  13766\n1   jul   6895\n2   aug   6247\n3   jun   5341\n4   nov   3970\n5   apr   2932\n6   feb   2649\n7   jan   1403\n8   oct    738\n9   sep    579\n10  mar    477\n11  dec    214"
          },
          "metadata": {}
        }
      ]
    },
    {
      "metadata": {
        "trusted": true
      },
      "cell_type": "code",
      "source": "c_month = {\n    'may': 0 \n    ,'jul': 1 \n    ,'aug': 2 \n    ,'jun': 3 \n    ,'nov': 4 \n    ,'apr': 5 \n    ,'feb': 6 \n    ,'jan': 7 \n    ,'oct': 8 \n    ,'sep': 9 \n    ,'mar': 10\n    ,'dec': 11\n}\ndf['C_month'] = df.month.map(c_month)\ndf.head()",
      "execution_count": 19,
      "outputs": [
        {
          "output_type": "execute_result",
          "execution_count": 19,
          "data": {
            "text/html": "<div>\n<style scoped>\n    .dataframe tbody tr th:only-of-type {\n        vertical-align: middle;\n    }\n\n    .dataframe tbody tr th {\n        vertical-align: top;\n    }\n\n    .dataframe thead th {\n        text-align: right;\n    }\n</style>\n<table border=\"1\" class=\"dataframe\">\n  <thead>\n    <tr style=\"text-align: right;\">\n      <th></th>\n      <th>age</th>\n      <th>job</th>\n      <th>marital</th>\n      <th>education</th>\n      <th>default</th>\n      <th>balance</th>\n      <th>housing</th>\n      <th>loan</th>\n      <th>contact</th>\n      <th>day</th>\n      <th>...</th>\n      <th>previous</th>\n      <th>poutcome</th>\n      <th>y</th>\n      <th>C_job</th>\n      <th>C_marital</th>\n      <th>C_education</th>\n      <th>C_default</th>\n      <th>C_housing</th>\n      <th>C_loan</th>\n      <th>C_month</th>\n    </tr>\n  </thead>\n  <tbody>\n    <tr>\n      <th>0</th>\n      <td>58</td>\n      <td>management</td>\n      <td>married</td>\n      <td>tertiary</td>\n      <td>no</td>\n      <td>2143</td>\n      <td>yes</td>\n      <td>no</td>\n      <td>unknown</td>\n      <td>5</td>\n      <td>...</td>\n      <td>0</td>\n      <td>unknown</td>\n      <td>0</td>\n      <td>1</td>\n      <td>0</td>\n      <td>3</td>\n      <td>0</td>\n      <td>1</td>\n      <td>0</td>\n      <td>0</td>\n    </tr>\n    <tr>\n      <th>1</th>\n      <td>44</td>\n      <td>technician</td>\n      <td>single</td>\n      <td>secondary</td>\n      <td>no</td>\n      <td>29</td>\n      <td>yes</td>\n      <td>no</td>\n      <td>unknown</td>\n      <td>5</td>\n      <td>...</td>\n      <td>0</td>\n      <td>unknown</td>\n      <td>0</td>\n      <td>2</td>\n      <td>1</td>\n      <td>2</td>\n      <td>0</td>\n      <td>1</td>\n      <td>0</td>\n      <td>0</td>\n    </tr>\n    <tr>\n      <th>2</th>\n      <td>33</td>\n      <td>entrepreneur</td>\n      <td>married</td>\n      <td>secondary</td>\n      <td>no</td>\n      <td>2</td>\n      <td>yes</td>\n      <td>yes</td>\n      <td>unknown</td>\n      <td>5</td>\n      <td>...</td>\n      <td>0</td>\n      <td>unknown</td>\n      <td>0</td>\n      <td>7</td>\n      <td>0</td>\n      <td>2</td>\n      <td>0</td>\n      <td>1</td>\n      <td>1</td>\n      <td>0</td>\n    </tr>\n    <tr>\n      <th>3</th>\n      <td>47</td>\n      <td>blue</td>\n      <td>married</td>\n      <td>unknown</td>\n      <td>no</td>\n      <td>1506</td>\n      <td>yes</td>\n      <td>no</td>\n      <td>unknown</td>\n      <td>5</td>\n      <td>...</td>\n      <td>0</td>\n      <td>unknown</td>\n      <td>0</td>\n      <td>0</td>\n      <td>0</td>\n      <td>0</td>\n      <td>0</td>\n      <td>1</td>\n      <td>0</td>\n      <td>0</td>\n    </tr>\n    <tr>\n      <th>4</th>\n      <td>33</td>\n      <td>unknown</td>\n      <td>single</td>\n      <td>unknown</td>\n      <td>no</td>\n      <td>1</td>\n      <td>no</td>\n      <td>no</td>\n      <td>unknown</td>\n      <td>5</td>\n      <td>...</td>\n      <td>0</td>\n      <td>unknown</td>\n      <td>0</td>\n      <td>11</td>\n      <td>1</td>\n      <td>0</td>\n      <td>0</td>\n      <td>0</td>\n      <td>0</td>\n      <td>0</td>\n    </tr>\n  </tbody>\n</table>\n<p>5 rows × 24 columns</p>\n</div>",
            "text/plain": "   age           job  marital  education default  balance housing loan  \\\n0   58    management  married   tertiary      no     2143     yes   no   \n1   44    technician   single  secondary      no       29     yes   no   \n2   33  entrepreneur  married  secondary      no        2     yes  yes   \n3   47          blue  married    unknown      no     1506     yes   no   \n4   33       unknown   single    unknown      no        1      no   no   \n\n   contact  day   ...    previous  poutcome  y  C_job  C_marital C_education  \\\n0  unknown    5   ...           0   unknown  0      1          0           3   \n1  unknown    5   ...           0   unknown  0      2          1           2   \n2  unknown    5   ...           0   unknown  0      7          0           2   \n3  unknown    5   ...           0   unknown  0      0          0           0   \n4  unknown    5   ...           0   unknown  0     11          1           0   \n\n   C_default  C_housing  C_loan  C_month  \n0          0          1       0        0  \n1          0          1       0        0  \n2          0          1       1        0  \n3          0          1       0        0  \n4          0          0       0        0  \n\n[5 rows x 24 columns]"
          },
          "metadata": {}
        }
      ]
    },
    {
      "metadata": {},
      "cell_type": "markdown",
      "source": "### Separando os dados para o treinamento"
    },
    {
      "metadata": {
        "trusted": true
      },
      "cell_type": "code",
      "source": "x = df[['age', 'C_job', 'C_marital', 'C_default', 'balance', 'C_housing', 'C_loan', 'day', 'C_month', 'duration', 'campaign', 'pdays', 'previous']]\nx.head()",
      "execution_count": 20,
      "outputs": [
        {
          "output_type": "execute_result",
          "execution_count": 20,
          "data": {
            "text/html": "<div>\n<style scoped>\n    .dataframe tbody tr th:only-of-type {\n        vertical-align: middle;\n    }\n\n    .dataframe tbody tr th {\n        vertical-align: top;\n    }\n\n    .dataframe thead th {\n        text-align: right;\n    }\n</style>\n<table border=\"1\" class=\"dataframe\">\n  <thead>\n    <tr style=\"text-align: right;\">\n      <th></th>\n      <th>age</th>\n      <th>C_job</th>\n      <th>C_marital</th>\n      <th>C_default</th>\n      <th>balance</th>\n      <th>C_housing</th>\n      <th>C_loan</th>\n      <th>day</th>\n      <th>C_month</th>\n      <th>duration</th>\n      <th>campaign</th>\n      <th>pdays</th>\n      <th>previous</th>\n    </tr>\n  </thead>\n  <tbody>\n    <tr>\n      <th>0</th>\n      <td>58</td>\n      <td>1</td>\n      <td>0</td>\n      <td>0</td>\n      <td>2143</td>\n      <td>1</td>\n      <td>0</td>\n      <td>5</td>\n      <td>0</td>\n      <td>261</td>\n      <td>1</td>\n      <td>-1</td>\n      <td>0</td>\n    </tr>\n    <tr>\n      <th>1</th>\n      <td>44</td>\n      <td>2</td>\n      <td>1</td>\n      <td>0</td>\n      <td>29</td>\n      <td>1</td>\n      <td>0</td>\n      <td>5</td>\n      <td>0</td>\n      <td>151</td>\n      <td>1</td>\n      <td>-1</td>\n      <td>0</td>\n    </tr>\n    <tr>\n      <th>2</th>\n      <td>33</td>\n      <td>7</td>\n      <td>0</td>\n      <td>0</td>\n      <td>2</td>\n      <td>1</td>\n      <td>1</td>\n      <td>5</td>\n      <td>0</td>\n      <td>76</td>\n      <td>1</td>\n      <td>-1</td>\n      <td>0</td>\n    </tr>\n    <tr>\n      <th>3</th>\n      <td>47</td>\n      <td>0</td>\n      <td>0</td>\n      <td>0</td>\n      <td>1506</td>\n      <td>1</td>\n      <td>0</td>\n      <td>5</td>\n      <td>0</td>\n      <td>92</td>\n      <td>1</td>\n      <td>-1</td>\n      <td>0</td>\n    </tr>\n    <tr>\n      <th>4</th>\n      <td>33</td>\n      <td>11</td>\n      <td>1</td>\n      <td>0</td>\n      <td>1</td>\n      <td>0</td>\n      <td>0</td>\n      <td>5</td>\n      <td>0</td>\n      <td>198</td>\n      <td>1</td>\n      <td>-1</td>\n      <td>0</td>\n    </tr>\n  </tbody>\n</table>\n</div>",
            "text/plain": "   age  C_job  C_marital  C_default  balance  C_housing  C_loan  day  C_month  \\\n0   58      1          0          0     2143          1       0    5        0   \n1   44      2          1          0       29          1       0    5        0   \n2   33      7          0          0        2          1       1    5        0   \n3   47      0          0          0     1506          1       0    5        0   \n4   33     11          1          0        1          0       0    5        0   \n\n   duration  campaign  pdays  previous  \n0       261         1     -1         0  \n1       151         1     -1         0  \n2        76         1     -1         0  \n3        92         1     -1         0  \n4       198         1     -1         0  "
          },
          "metadata": {}
        }
      ]
    },
    {
      "metadata": {
        "trusted": true
      },
      "cell_type": "code",
      "source": "y = df['y']\ny.head()",
      "execution_count": 21,
      "outputs": [
        {
          "output_type": "execute_result",
          "execution_count": 21,
          "data": {
            "text/plain": "0    0\n1    0\n2    0\n3    0\n4    0\nName: y, dtype: int64"
          },
          "metadata": {}
        }
      ]
    },
    {
      "metadata": {},
      "cell_type": "markdown",
      "source": "### Linear SVC"
    },
    {
      "metadata": {
        "trusted": true
      },
      "cell_type": "code",
      "source": "from sklearn.svm import LinearSVC\n\nSEED = 5\nnp.random.seed(SEED)\n\n# separando os dados de treino e teste\ntreino_x, teste_x, treino_y, teste_y = train_test_split(x, y,\n                                                        test_size = 0.25, \n                                                        stratify = y)\nprint(\"TREINO com %d elementos e TESTE com %d elementos\" % (len(treino_x), len(teste_x)))\n\nmodelo = LinearSVC()\nmodelo.fit(treino_x, treino_y)\nprevisoes = modelo.predict(teste_x)\n\nacuracia = accuracy_score(teste_y, previsoes) * 100\nprint(\"A acurácia foi %.2f%%\" % acuracia)",
      "execution_count": 22,
      "outputs": [
        {
          "output_type": "stream",
          "text": "TREINO com 33908 elementos e TESTE com 11303 elementos\nA acurácia foi 88.43%\n",
          "name": "stdout"
        }
      ]
    },
    {
      "metadata": {},
      "cell_type": "markdown",
      "source": "### SVC"
    },
    {
      "metadata": {
        "trusted": true
      },
      "cell_type": "code",
      "source": "from sklearn.svm import SVC\n\nSEED = 5\nnp.random.seed(SEED)\nraw_treino_x, raw_teste_x, treino_y, teste_y = train_test_split(x, y, test_size = 0.25, stratify = y)\nprint(\"TREINO com %d elementos e TESTE com %d elementos\" % (len(treino_x), len(teste_x)))\n\n# Reescalando os dados para otimizar a acuricidade do algoritmo\nscaler = StandardScaler()\nscaler.fit(raw_treino_x)\ntreino_x = scaler.transform(raw_treino_x)\nteste_x = scaler.transform(raw_teste_x) \n\nmodelo = SVC()\nmodelo.fit(treino_x, treino_y)\nprevisoes = modelo.predict(teste_x)\n\nacuracia = accuracy_score(teste_y, previsoes) * 100\nprint(\"A acurácia foi %.2f%%\" % acuracia)",
      "execution_count": 23,
      "outputs": [
        {
          "output_type": "stream",
          "text": "TREINO com 33908 elementos e TESTE com 11303 elementos\nA acurácia foi 89.60%\n",
          "name": "stdout"
        }
      ]
    },
    {
      "metadata": {},
      "cell_type": "markdown",
      "source": "### Árvore de Decisão"
    },
    {
      "metadata": {
        "trusted": true
      },
      "cell_type": "code",
      "source": "from sklearn.tree import DecisionTreeClassifier\n\nSEED = 5\nnp.random.seed(SEED)\nraw_treino_x, raw_teste_x, treino_y, teste_y = train_test_split(x, y, \n                                                                test_size = 0.25, \n                                                                stratify = y)\nprint(\"TREINO com %d elementos e TESTE com %d elementos\" % (len(treino_x), len(teste_x)))\n\nmodelo = DecisionTreeClassifier(max_depth=3) # max_depth = profundidade da arvore --> max_depth=3\nmodelo.fit(raw_treino_x, treino_y)\nprevisoes = modelo.predict(raw_teste_x)\n\nacuracia = accuracy_score(teste_y, previsoes) * 100\nprint(\"A acurácia foi %.2f%%\" % acuracia)",
      "execution_count": 24,
      "outputs": [
        {
          "output_type": "stream",
          "text": "TREINO com 33908 elementos e TESTE com 11303 elementos\nA acurácia foi 89.35%\n",
          "name": "stdout"
        }
      ]
    },
    {
      "metadata": {
        "trusted": true
      },
      "cell_type": "code",
      "source": "# Visualização da arvore de decisão\n# Trecho comentado, por não ser compativel com o extrator de PDF.\n\nfrom sklearn.tree import export_graphviz\nimport graphviz\n\nfeatures = x.columns\ndot_data = export_graphviz(modelo, \n                           out_file=None, \n                           feature_names=features, # labels\n                           filled = True, # cores\n                           rounded=True, # arredondamento\n                           class_names = ['não', 'sim']\n                           ) \ngrafico = graphviz.Source(dot_data)\ngrafico",
      "execution_count": 25,
      "outputs": [
        {
          "output_type": "execute_result",
          "execution_count": 25,
          "data": {
            "text/plain": "<graphviz.files.Source at 0x7f0ee3a5a390>",
            "image/svg+xml": "<?xml version=\"1.0\" encoding=\"UTF-8\" standalone=\"no\"?>\n<!DOCTYPE svg PUBLIC \"-//W3C//DTD SVG 1.1//EN\"\n \"http://www.w3.org/Graphics/SVG/1.1/DTD/svg11.dtd\">\n<!-- Generated by graphviz version 2.38.0 (20140413.2041)\n -->\n<!-- Title: Tree Pages: 1 -->\n<svg width=\"1165pt\" height=\"433pt\"\n viewBox=\"0.00 0.00 1164.50 433.00\" xmlns=\"http://www.w3.org/2000/svg\" xmlns:xlink=\"http://www.w3.org/1999/xlink\">\n<g id=\"graph0\" class=\"graph\" transform=\"scale(1 1) rotate(0) translate(4 429)\">\n<title>Tree</title>\n<polygon fill=\"white\" stroke=\"none\" points=\"-4,4 -4,-429 1160.5,-429 1160.5,4 -4,4\"/>\n<!-- 0 -->\n<g id=\"node1\" class=\"node\"><title>0</title>\n<path fill=\"#e58139\" fill-opacity=\"0.866667\" stroke=\"black\" d=\"M648.5,-425C648.5,-425 525.5,-425 525.5,-425 519.5,-425 513.5,-419 513.5,-413 513.5,-413 513.5,-354 513.5,-354 513.5,-348 519.5,-342 525.5,-342 525.5,-342 648.5,-342 648.5,-342 654.5,-342 660.5,-348 660.5,-354 660.5,-354 660.5,-413 660.5,-413 660.5,-419 654.5,-425 648.5,-425\"/>\n<text text-anchor=\"middle\" x=\"587\" y=\"-409.8\" font-family=\"Helvetica,sans-Serif\" font-size=\"14.00\">duration &lt;= 521.5</text>\n<text text-anchor=\"middle\" x=\"587\" y=\"-394.8\" font-family=\"Helvetica,sans-Serif\" font-size=\"14.00\">gini = 0.207</text>\n<text text-anchor=\"middle\" x=\"587\" y=\"-379.8\" font-family=\"Helvetica,sans-Serif\" font-size=\"14.00\">samples = 33908</text>\n<text text-anchor=\"middle\" x=\"587\" y=\"-364.8\" font-family=\"Helvetica,sans-Serif\" font-size=\"14.00\">value = [29941, 3967]</text>\n<text text-anchor=\"middle\" x=\"587\" y=\"-349.8\" font-family=\"Helvetica,sans-Serif\" font-size=\"14.00\">class = não</text>\n</g>\n<!-- 1 -->\n<g id=\"node2\" class=\"node\"><title>1</title>\n<path fill=\"#e58139\" fill-opacity=\"0.917647\" stroke=\"black\" d=\"M538.5,-306C538.5,-306 415.5,-306 415.5,-306 409.5,-306 403.5,-300 403.5,-294 403.5,-294 403.5,-235 403.5,-235 403.5,-229 409.5,-223 415.5,-223 415.5,-223 538.5,-223 538.5,-223 544.5,-223 550.5,-229 550.5,-235 550.5,-235 550.5,-294 550.5,-294 550.5,-300 544.5,-306 538.5,-306\"/>\n<text text-anchor=\"middle\" x=\"477\" y=\"-290.8\" font-family=\"Helvetica,sans-Serif\" font-size=\"14.00\">C_month &lt;= 7.5</text>\n<text text-anchor=\"middle\" x=\"477\" y=\"-275.8\" font-family=\"Helvetica,sans-Serif\" font-size=\"14.00\">gini = 0.142</text>\n<text text-anchor=\"middle\" x=\"477\" y=\"-260.8\" font-family=\"Helvetica,sans-Serif\" font-size=\"14.00\">samples = 30178</text>\n<text text-anchor=\"middle\" x=\"477\" y=\"-245.8\" font-family=\"Helvetica,sans-Serif\" font-size=\"14.00\">value = [27850, 2328]</text>\n<text text-anchor=\"middle\" x=\"477\" y=\"-230.8\" font-family=\"Helvetica,sans-Serif\" font-size=\"14.00\">class = não</text>\n</g>\n<!-- 0&#45;&gt;1 -->\n<g id=\"edge1\" class=\"edge\"><title>0&#45;&gt;1</title>\n<path fill=\"none\" stroke=\"black\" d=\"M548.836,-341.907C540.219,-332.742 530.991,-322.927 522.118,-313.489\"/>\n<polygon fill=\"black\" stroke=\"black\" points=\"524.496,-310.909 515.096,-306.021 519.396,-315.704 524.496,-310.909\"/>\n<text text-anchor=\"middle\" x=\"514.326\" y=\"-327.309\" font-family=\"Helvetica,sans-Serif\" font-size=\"14.00\">True</text>\n</g>\n<!-- 8 -->\n<g id=\"node9\" class=\"node\"><title>8</title>\n<path fill=\"#e58139\" fill-opacity=\"0.215686\" stroke=\"black\" d=\"M755,-306C755,-306 639,-306 639,-306 633,-306 627,-300 627,-294 627,-294 627,-235 627,-235 627,-229 633,-223 639,-223 639,-223 755,-223 755,-223 761,-223 767,-229 767,-235 767,-235 767,-294 767,-294 767,-300 761,-306 755,-306\"/>\n<text text-anchor=\"middle\" x=\"697\" y=\"-290.8\" font-family=\"Helvetica,sans-Serif\" font-size=\"14.00\">duration &lt;= 827.5</text>\n<text text-anchor=\"middle\" x=\"697\" y=\"-275.8\" font-family=\"Helvetica,sans-Serif\" font-size=\"14.00\">gini = 0.493</text>\n<text text-anchor=\"middle\" x=\"697\" y=\"-260.8\" font-family=\"Helvetica,sans-Serif\" font-size=\"14.00\">samples = 3730</text>\n<text text-anchor=\"middle\" x=\"697\" y=\"-245.8\" font-family=\"Helvetica,sans-Serif\" font-size=\"14.00\">value = [2091, 1639]</text>\n<text text-anchor=\"middle\" x=\"697\" y=\"-230.8\" font-family=\"Helvetica,sans-Serif\" font-size=\"14.00\">class = não</text>\n</g>\n<!-- 0&#45;&gt;8 -->\n<g id=\"edge8\" class=\"edge\"><title>0&#45;&gt;8</title>\n<path fill=\"none\" stroke=\"black\" d=\"M625.164,-341.907C633.781,-332.742 643.009,-322.927 651.882,-313.489\"/>\n<polygon fill=\"black\" stroke=\"black\" points=\"654.604,-315.704 658.904,-306.021 649.504,-310.909 654.604,-315.704\"/>\n<text text-anchor=\"middle\" x=\"659.674\" y=\"-327.309\" font-family=\"Helvetica,sans-Serif\" font-size=\"14.00\">False</text>\n</g>\n<!-- 2 -->\n<g id=\"node3\" class=\"node\"><title>2</title>\n<path fill=\"#e58139\" fill-opacity=\"0.937255\" stroke=\"black\" d=\"M289.5,-187C289.5,-187 166.5,-187 166.5,-187 160.5,-187 154.5,-181 154.5,-175 154.5,-175 154.5,-116 154.5,-116 154.5,-110 160.5,-104 166.5,-104 166.5,-104 289.5,-104 289.5,-104 295.5,-104 301.5,-110 301.5,-116 301.5,-116 301.5,-175 301.5,-175 301.5,-181 295.5,-187 289.5,-187\"/>\n<text text-anchor=\"middle\" x=\"228\" y=\"-171.8\" font-family=\"Helvetica,sans-Serif\" font-size=\"14.00\">duration &lt;= 203.5</text>\n<text text-anchor=\"middle\" x=\"228\" y=\"-156.8\" font-family=\"Helvetica,sans-Serif\" font-size=\"14.00\">gini = 0.112</text>\n<text text-anchor=\"middle\" x=\"228\" y=\"-141.8\" font-family=\"Helvetica,sans-Serif\" font-size=\"14.00\">samples = 28827</text>\n<text text-anchor=\"middle\" x=\"228\" y=\"-126.8\" font-family=\"Helvetica,sans-Serif\" font-size=\"14.00\">value = [27103, 1724]</text>\n<text text-anchor=\"middle\" x=\"228\" y=\"-111.8\" font-family=\"Helvetica,sans-Serif\" font-size=\"14.00\">class = não</text>\n</g>\n<!-- 1&#45;&gt;2 -->\n<g id=\"edge2\" class=\"edge\"><title>1&#45;&gt;2</title>\n<path fill=\"none\" stroke=\"black\" d=\"M403.302,-228.871C374.191,-215.192 340.606,-199.411 310.672,-185.346\"/>\n<polygon fill=\"black\" stroke=\"black\" points=\"312.048,-182.125 301.508,-181.04 309.071,-188.461 312.048,-182.125\"/>\n</g>\n<!-- 5 -->\n<g id=\"node6\" class=\"node\"><title>5</title>\n<path fill=\"#e58139\" fill-opacity=\"0.192157\" stroke=\"black\" d=\"M527.5,-187C527.5,-187 426.5,-187 426.5,-187 420.5,-187 414.5,-181 414.5,-175 414.5,-175 414.5,-116 414.5,-116 414.5,-110 420.5,-104 426.5,-104 426.5,-104 527.5,-104 527.5,-104 533.5,-104 539.5,-110 539.5,-116 539.5,-116 539.5,-175 539.5,-175 539.5,-181 533.5,-187 527.5,-187\"/>\n<text text-anchor=\"middle\" x=\"477\" y=\"-171.8\" font-family=\"Helvetica,sans-Serif\" font-size=\"14.00\">duration &lt;= 130.5</text>\n<text text-anchor=\"middle\" x=\"477\" y=\"-156.8\" font-family=\"Helvetica,sans-Serif\" font-size=\"14.00\">gini = 0.494</text>\n<text text-anchor=\"middle\" x=\"477\" y=\"-141.8\" font-family=\"Helvetica,sans-Serif\" font-size=\"14.00\">samples = 1351</text>\n<text text-anchor=\"middle\" x=\"477\" y=\"-126.8\" font-family=\"Helvetica,sans-Serif\" font-size=\"14.00\">value = [747, 604]</text>\n<text text-anchor=\"middle\" x=\"477\" y=\"-111.8\" font-family=\"Helvetica,sans-Serif\" font-size=\"14.00\">class = não</text>\n</g>\n<!-- 1&#45;&gt;5 -->\n<g id=\"edge5\" class=\"edge\"><title>1&#45;&gt;5</title>\n<path fill=\"none\" stroke=\"black\" d=\"M477,-222.907C477,-214.649 477,-205.864 477,-197.302\"/>\n<polygon fill=\"black\" stroke=\"black\" points=\"480.5,-197.021 477,-187.021 473.5,-197.021 480.5,-197.021\"/>\n</g>\n<!-- 3 -->\n<g id=\"node4\" class=\"node\"><title>3</title>\n<path fill=\"#e58139\" fill-opacity=\"0.972549\" stroke=\"black\" d=\"M128,-68C128,-68 12,-68 12,-68 6,-68 0,-62 0,-56 0,-56 0,-12 0,-12 0,-6 6,-0 12,-0 12,-0 128,-0 128,-0 134,-0 140,-6 140,-12 140,-12 140,-56 140,-56 140,-62 134,-68 128,-68\"/>\n<text text-anchor=\"middle\" x=\"70\" y=\"-52.8\" font-family=\"Helvetica,sans-Serif\" font-size=\"14.00\">gini = 0.052</text>\n<text text-anchor=\"middle\" x=\"70\" y=\"-37.8\" font-family=\"Helvetica,sans-Serif\" font-size=\"14.00\">samples = 18269</text>\n<text text-anchor=\"middle\" x=\"70\" y=\"-22.8\" font-family=\"Helvetica,sans-Serif\" font-size=\"14.00\">value = [17779, 490]</text>\n<text text-anchor=\"middle\" x=\"70\" y=\"-7.8\" font-family=\"Helvetica,sans-Serif\" font-size=\"14.00\">class = não</text>\n</g>\n<!-- 2&#45;&gt;3 -->\n<g id=\"edge3\" class=\"edge\"><title>2&#45;&gt;3</title>\n<path fill=\"none\" stroke=\"black\" d=\"M169.167,-103.726C155.144,-94.0078 140.212,-83.6597 126.306,-74.0222\"/>\n<polygon fill=\"black\" stroke=\"black\" points=\"128.01,-70.9447 117.797,-68.1252 124.023,-76.6981 128.01,-70.9447\"/>\n</g>\n<!-- 4 -->\n<g id=\"node5\" class=\"node\"><title>4</title>\n<path fill=\"#e58139\" fill-opacity=\"0.866667\" stroke=\"black\" d=\"M286,-68C286,-68 170,-68 170,-68 164,-68 158,-62 158,-56 158,-56 158,-12 158,-12 158,-6 164,-0 170,-0 170,-0 286,-0 286,-0 292,-0 298,-6 298,-12 298,-12 298,-56 298,-56 298,-62 292,-68 286,-68\"/>\n<text text-anchor=\"middle\" x=\"228\" y=\"-52.8\" font-family=\"Helvetica,sans-Serif\" font-size=\"14.00\">gini = 0.206</text>\n<text text-anchor=\"middle\" x=\"228\" y=\"-37.8\" font-family=\"Helvetica,sans-Serif\" font-size=\"14.00\">samples = 10558</text>\n<text text-anchor=\"middle\" x=\"228\" y=\"-22.8\" font-family=\"Helvetica,sans-Serif\" font-size=\"14.00\">value = [9324, 1234]</text>\n<text text-anchor=\"middle\" x=\"228\" y=\"-7.8\" font-family=\"Helvetica,sans-Serif\" font-size=\"14.00\">class = não</text>\n</g>\n<!-- 2&#45;&gt;4 -->\n<g id=\"edge4\" class=\"edge\"><title>2&#45;&gt;4</title>\n<path fill=\"none\" stroke=\"black\" d=\"M228,-103.726C228,-95.5175 228,-86.8595 228,-78.56\"/>\n<polygon fill=\"black\" stroke=\"black\" points=\"231.5,-78.2996 228,-68.2996 224.5,-78.2996 231.5,-78.2996\"/>\n</g>\n<!-- 6 -->\n<g id=\"node7\" class=\"node\"><title>6</title>\n<path fill=\"#e58139\" fill-opacity=\"0.815686\" stroke=\"black\" d=\"M421.5,-68C421.5,-68 328.5,-68 328.5,-68 322.5,-68 316.5,-62 316.5,-56 316.5,-56 316.5,-12 316.5,-12 316.5,-6 322.5,-0 328.5,-0 328.5,-0 421.5,-0 421.5,-0 427.5,-0 433.5,-6 433.5,-12 433.5,-12 433.5,-56 433.5,-56 433.5,-62 427.5,-68 421.5,-68\"/>\n<text text-anchor=\"middle\" x=\"375\" y=\"-52.8\" font-family=\"Helvetica,sans-Serif\" font-size=\"14.00\">gini = 0.261</text>\n<text text-anchor=\"middle\" x=\"375\" y=\"-37.8\" font-family=\"Helvetica,sans-Serif\" font-size=\"14.00\">samples = 395</text>\n<text text-anchor=\"middle\" x=\"375\" y=\"-22.8\" font-family=\"Helvetica,sans-Serif\" font-size=\"14.00\">value = [334, 61]</text>\n<text text-anchor=\"middle\" x=\"375\" y=\"-7.8\" font-family=\"Helvetica,sans-Serif\" font-size=\"14.00\">class = não</text>\n</g>\n<!-- 5&#45;&gt;6 -->\n<g id=\"edge6\" class=\"edge\"><title>5&#45;&gt;6</title>\n<path fill=\"none\" stroke=\"black\" d=\"M439.019,-103.726C430.523,-94.6054 421.51,-84.93 413.013,-75.8078\"/>\n<polygon fill=\"black\" stroke=\"black\" points=\"415.396,-73.2312 406.019,-68.2996 410.274,-78.0025 415.396,-73.2312\"/>\n</g>\n<!-- 7 -->\n<g id=\"node8\" class=\"node\"><title>7</title>\n<path fill=\"#399de5\" fill-opacity=\"0.239216\" stroke=\"black\" d=\"M564.5,-68C564.5,-68 463.5,-68 463.5,-68 457.5,-68 451.5,-62 451.5,-56 451.5,-56 451.5,-12 451.5,-12 451.5,-6 457.5,-0 463.5,-0 463.5,-0 564.5,-0 564.5,-0 570.5,-0 576.5,-6 576.5,-12 576.5,-12 576.5,-56 576.5,-56 576.5,-62 570.5,-68 564.5,-68\"/>\n<text text-anchor=\"middle\" x=\"514\" y=\"-52.8\" font-family=\"Helvetica,sans-Serif\" font-size=\"14.00\">gini = 0.491</text>\n<text text-anchor=\"middle\" x=\"514\" y=\"-37.8\" font-family=\"Helvetica,sans-Serif\" font-size=\"14.00\">samples = 956</text>\n<text text-anchor=\"middle\" x=\"514\" y=\"-22.8\" font-family=\"Helvetica,sans-Serif\" font-size=\"14.00\">value = [413, 543]</text>\n<text text-anchor=\"middle\" x=\"514\" y=\"-7.8\" font-family=\"Helvetica,sans-Serif\" font-size=\"14.00\">class = sim</text>\n</g>\n<!-- 5&#45;&gt;7 -->\n<g id=\"edge7\" class=\"edge\"><title>5&#45;&gt;7</title>\n<path fill=\"none\" stroke=\"black\" d=\"M490.777,-103.726C493.613,-95.3351 496.607,-86.4745 499.468,-78.0072\"/>\n<polygon fill=\"black\" stroke=\"black\" points=\"502.863,-78.8938 502.748,-68.2996 496.231,-76.6529 502.863,-78.8938\"/>\n</g>\n<!-- 9 -->\n<g id=\"node10\" class=\"node\"><title>9</title>\n<path fill=\"#e58139\" fill-opacity=\"0.431373\" stroke=\"black\" d=\"M751,-187C751,-187 643,-187 643,-187 637,-187 631,-181 631,-175 631,-175 631,-116 631,-116 631,-110 637,-104 643,-104 643,-104 751,-104 751,-104 757,-104 763,-110 763,-116 763,-116 763,-175 763,-175 763,-181 757,-187 751,-187\"/>\n<text text-anchor=\"middle\" x=\"697\" y=\"-171.8\" font-family=\"Helvetica,sans-Serif\" font-size=\"14.00\">previous &lt;= 0.5</text>\n<text text-anchor=\"middle\" x=\"697\" y=\"-156.8\" font-family=\"Helvetica,sans-Serif\" font-size=\"14.00\">gini = 0.463</text>\n<text text-anchor=\"middle\" x=\"697\" y=\"-141.8\" font-family=\"Helvetica,sans-Serif\" font-size=\"14.00\">samples = 2403</text>\n<text text-anchor=\"middle\" x=\"697\" y=\"-126.8\" font-family=\"Helvetica,sans-Serif\" font-size=\"14.00\">value = [1530, 873]</text>\n<text text-anchor=\"middle\" x=\"697\" y=\"-111.8\" font-family=\"Helvetica,sans-Serif\" font-size=\"14.00\">class = não</text>\n</g>\n<!-- 8&#45;&gt;9 -->\n<g id=\"edge9\" class=\"edge\"><title>8&#45;&gt;9</title>\n<path fill=\"none\" stroke=\"black\" d=\"M697,-222.907C697,-214.649 697,-205.864 697,-197.302\"/>\n<polygon fill=\"black\" stroke=\"black\" points=\"700.5,-197.021 697,-187.021 693.5,-197.021 700.5,-197.021\"/>\n</g>\n<!-- 12 -->\n<g id=\"node13\" class=\"node\"><title>12</title>\n<path fill=\"#399de5\" fill-opacity=\"0.266667\" stroke=\"black\" d=\"M1001.5,-187C1001.5,-187 900.5,-187 900.5,-187 894.5,-187 888.5,-181 888.5,-175 888.5,-175 888.5,-116 888.5,-116 888.5,-110 894.5,-104 900.5,-104 900.5,-104 1001.5,-104 1001.5,-104 1007.5,-104 1013.5,-110 1013.5,-116 1013.5,-116 1013.5,-175 1013.5,-175 1013.5,-181 1007.5,-187 1001.5,-187\"/>\n<text text-anchor=\"middle\" x=\"951\" y=\"-171.8\" font-family=\"Helvetica,sans-Serif\" font-size=\"14.00\">C_marital &lt;= 0.5</text>\n<text text-anchor=\"middle\" x=\"951\" y=\"-156.8\" font-family=\"Helvetica,sans-Serif\" font-size=\"14.00\">gini = 0.488</text>\n<text text-anchor=\"middle\" x=\"951\" y=\"-141.8\" font-family=\"Helvetica,sans-Serif\" font-size=\"14.00\">samples = 1327</text>\n<text text-anchor=\"middle\" x=\"951\" y=\"-126.8\" font-family=\"Helvetica,sans-Serif\" font-size=\"14.00\">value = [561, 766]</text>\n<text text-anchor=\"middle\" x=\"951\" y=\"-111.8\" font-family=\"Helvetica,sans-Serif\" font-size=\"14.00\">class = sim</text>\n</g>\n<!-- 8&#45;&gt;12 -->\n<g id=\"edge12\" class=\"edge\"><title>8&#45;&gt;12</title>\n<path fill=\"none\" stroke=\"black\" d=\"M767.079,-231.22C801.856,-215.2 843.813,-195.873 878.867,-179.727\"/>\n<polygon fill=\"black\" stroke=\"black\" points=\"880.47,-182.842 888.089,-175.479 877.542,-176.484 880.47,-182.842\"/>\n</g>\n<!-- 10 -->\n<g id=\"node11\" class=\"node\"><title>10</title>\n<path fill=\"#e58139\" fill-opacity=\"0.513725\" stroke=\"black\" d=\"M715,-68C715,-68 607,-68 607,-68 601,-68 595,-62 595,-56 595,-56 595,-12 595,-12 595,-6 601,-0 607,-0 607,-0 715,-0 715,-0 721,-0 727,-6 727,-12 727,-12 727,-56 727,-56 727,-62 721,-68 715,-68\"/>\n<text text-anchor=\"middle\" x=\"661\" y=\"-52.8\" font-family=\"Helvetica,sans-Serif\" font-size=\"14.00\">gini = 0.44</text>\n<text text-anchor=\"middle\" x=\"661\" y=\"-37.8\" font-family=\"Helvetica,sans-Serif\" font-size=\"14.00\">samples = 1955</text>\n<text text-anchor=\"middle\" x=\"661\" y=\"-22.8\" font-family=\"Helvetica,sans-Serif\" font-size=\"14.00\">value = [1317, 638]</text>\n<text text-anchor=\"middle\" x=\"661\" y=\"-7.8\" font-family=\"Helvetica,sans-Serif\" font-size=\"14.00\">class = não</text>\n</g>\n<!-- 9&#45;&gt;10 -->\n<g id=\"edge10\" class=\"edge\"><title>9&#45;&gt;10</title>\n<path fill=\"none\" stroke=\"black\" d=\"M683.595,-103.726C680.836,-95.3351 677.923,-86.4745 675.139,-78.0072\"/>\n<polygon fill=\"black\" stroke=\"black\" points=\"678.396,-76.7062 671.948,-68.2996 671.746,-78.8925 678.396,-76.7062\"/>\n</g>\n<!-- 11 -->\n<g id=\"node12\" class=\"node\"><title>11</title>\n<path fill=\"#399de5\" fill-opacity=\"0.094118\" stroke=\"black\" d=\"M858.5,-68C858.5,-68 757.5,-68 757.5,-68 751.5,-68 745.5,-62 745.5,-56 745.5,-56 745.5,-12 745.5,-12 745.5,-6 751.5,-0 757.5,-0 757.5,-0 858.5,-0 858.5,-0 864.5,-0 870.5,-6 870.5,-12 870.5,-12 870.5,-56 870.5,-56 870.5,-62 864.5,-68 858.5,-68\"/>\n<text text-anchor=\"middle\" x=\"808\" y=\"-52.8\" font-family=\"Helvetica,sans-Serif\" font-size=\"14.00\">gini = 0.499</text>\n<text text-anchor=\"middle\" x=\"808\" y=\"-37.8\" font-family=\"Helvetica,sans-Serif\" font-size=\"14.00\">samples = 448</text>\n<text text-anchor=\"middle\" x=\"808\" y=\"-22.8\" font-family=\"Helvetica,sans-Serif\" font-size=\"14.00\">value = [213, 235]</text>\n<text text-anchor=\"middle\" x=\"808\" y=\"-7.8\" font-family=\"Helvetica,sans-Serif\" font-size=\"14.00\">class = sim</text>\n</g>\n<!-- 9&#45;&gt;11 -->\n<g id=\"edge11\" class=\"edge\"><title>9&#45;&gt;11</title>\n<path fill=\"none\" stroke=\"black\" d=\"M738.332,-103.726C747.671,-94.5142 757.582,-84.7364 766.91,-75.5343\"/>\n<polygon fill=\"black\" stroke=\"black\" points=\"769.583,-77.8141 774.244,-68.2996 764.667,-72.8308 769.583,-77.8141\"/>\n</g>\n<!-- 13 -->\n<g id=\"node14\" class=\"node\"><title>13</title>\n<path fill=\"#399de5\" fill-opacity=\"0.129412\" stroke=\"black\" d=\"M1001.5,-68C1001.5,-68 900.5,-68 900.5,-68 894.5,-68 888.5,-62 888.5,-56 888.5,-56 888.5,-12 888.5,-12 888.5,-6 894.5,-0 900.5,-0 900.5,-0 1001.5,-0 1001.5,-0 1007.5,-0 1013.5,-6 1013.5,-12 1013.5,-12 1013.5,-56 1013.5,-56 1013.5,-62 1007.5,-68 1001.5,-68\"/>\n<text text-anchor=\"middle\" x=\"951\" y=\"-52.8\" font-family=\"Helvetica,sans-Serif\" font-size=\"14.00\">gini = 0.498</text>\n<text text-anchor=\"middle\" x=\"951\" y=\"-37.8\" font-family=\"Helvetica,sans-Serif\" font-size=\"14.00\">samples = 759</text>\n<text text-anchor=\"middle\" x=\"951\" y=\"-22.8\" font-family=\"Helvetica,sans-Serif\" font-size=\"14.00\">value = [353, 406]</text>\n<text text-anchor=\"middle\" x=\"951\" y=\"-7.8\" font-family=\"Helvetica,sans-Serif\" font-size=\"14.00\">class = sim</text>\n</g>\n<!-- 12&#45;&gt;13 -->\n<g id=\"edge13\" class=\"edge\"><title>12&#45;&gt;13</title>\n<path fill=\"none\" stroke=\"black\" d=\"M951,-103.726C951,-95.5175 951,-86.8595 951,-78.56\"/>\n<polygon fill=\"black\" stroke=\"black\" points=\"954.5,-78.2996 951,-68.2996 947.5,-78.2996 954.5,-78.2996\"/>\n</g>\n<!-- 14 -->\n<g id=\"node15\" class=\"node\"><title>14</title>\n<path fill=\"#399de5\" fill-opacity=\"0.423529\" stroke=\"black\" d=\"M1144.5,-68C1144.5,-68 1043.5,-68 1043.5,-68 1037.5,-68 1031.5,-62 1031.5,-56 1031.5,-56 1031.5,-12 1031.5,-12 1031.5,-6 1037.5,-0 1043.5,-0 1043.5,-0 1144.5,-0 1144.5,-0 1150.5,-0 1156.5,-6 1156.5,-12 1156.5,-12 1156.5,-56 1156.5,-56 1156.5,-62 1150.5,-68 1144.5,-68\"/>\n<text text-anchor=\"middle\" x=\"1094\" y=\"-52.8\" font-family=\"Helvetica,sans-Serif\" font-size=\"14.00\">gini = 0.464</text>\n<text text-anchor=\"middle\" x=\"1094\" y=\"-37.8\" font-family=\"Helvetica,sans-Serif\" font-size=\"14.00\">samples = 568</text>\n<text text-anchor=\"middle\" x=\"1094\" y=\"-22.8\" font-family=\"Helvetica,sans-Serif\" font-size=\"14.00\">value = [208, 360]</text>\n<text text-anchor=\"middle\" x=\"1094\" y=\"-7.8\" font-family=\"Helvetica,sans-Serif\" font-size=\"14.00\">class = sim</text>\n</g>\n<!-- 12&#45;&gt;14 -->\n<g id=\"edge14\" class=\"edge\"><title>12&#45;&gt;14</title>\n<path fill=\"none\" stroke=\"black\" d=\"M1004.25,-103.726C1016.75,-94.1494 1030.06,-83.9611 1042.49,-74.4438\"/>\n<polygon fill=\"black\" stroke=\"black\" points=\"1044.7,-77.1582 1050.51,-68.2996 1040.45,-71.6004 1044.7,-77.1582\"/>\n</g>\n</g>\n</svg>\n"
          },
          "metadata": {}
        }
      ]
    },
    {
      "metadata": {},
      "cell_type": "markdown",
      "source": "### SVM (Support Vector Machines)"
    },
    {
      "metadata": {
        "trusted": true
      },
      "cell_type": "code",
      "source": "from sklearn import svm\n\nSEED = 5\n\ntreino_x, teste_x, treino_y, teste_y = train_test_split(x, y,\n                                                        random_state = SEED,\n                                                        test_size = 0.2, \n                                                        stratify = y)\n\nprint(\"TREINO com %d elementos e TESTE com %d elementos\" % (len(treino_x), len(teste_x)))\n\nmodelo = svm.SVC(random_state=SEED)\nmodelo.fit(treino_x, treino_y)\nprevisoes = modelo.predict(teste_x)\n\nacuracia = accuracy_score(teste_y, previsoes) * 100\nprint(\"A acurácia de %.2f%%\" % acuracia)",
      "execution_count": 26,
      "outputs": [
        {
          "output_type": "stream",
          "text": "TREINO com 36168 elementos e TESTE com 9043 elementos\nA acurácia de 88.30%\n",
          "name": "stdout"
        }
      ]
    },
    {
      "metadata": {},
      "cell_type": "markdown",
      "source": "### Gaussian Naive Bayes"
    },
    {
      "metadata": {
        "trusted": true
      },
      "cell_type": "code",
      "source": "from sklearn.naive_bayes import GaussianNB\n\nSEED = 5\n\n# separando os dados de treino e teste\ntreino_x, teste_x, treino_y, teste_y = train_test_split(x, y,\n                                                        random_state = SEED,\n                                                        test_size = 0.2, \n                                                        stratify = y)\n\nprint(\"TREINO com %d elementos e TESTE com %d elementos\" % (len(treino_x), len(teste_x)))\n\nmodelo = GaussianNB()\nmodelo.fit(treino_x, treino_y)\nprevisoes = modelo.predict(teste_x)\n\nacuracia = accuracy_score(teste_y, previsoes) * 100\nprint(\"A acurácia de %.2f%%\" % acuracia)",
      "execution_count": 27,
      "outputs": [
        {
          "output_type": "stream",
          "text": "TREINO com 36168 elementos e TESTE com 9043 elementos\nA acurácia de 86.97%\n",
          "name": "stdout"
        }
      ]
    },
    {
      "metadata": {
        "trusted": true
      },
      "cell_type": "markdown",
      "source": "### Random Forest Classifier"
    },
    {
      "metadata": {
        "trusted": true
      },
      "cell_type": "code",
      "source": "from sklearn.ensemble import RandomForestClassifier\n\nSEED = 5\n\n# separando os dados de treino e teste\ntreino_x, teste_x, treino_y, teste_y = train_test_split(x, y,\n                                                        random_state = SEED,\n                                                        test_size = 0.2, \n                                                        stratify = y)\n\nprint(\"TREINO com %d elementos e TESTE com %d elementos\" % (len(treino_x), len(teste_x)))\n\nmodelo = RandomForestClassifier()\nmodelo.fit(treino_x, treino_y)\nprevisoes = modelo.predict(teste_x)\n\nacuracia = accuracy_score(teste_y, previsoes) * 100\nprint(\"A acurácia de %.2f%%\" % acuracia)",
      "execution_count": 28,
      "outputs": [
        {
          "output_type": "stream",
          "text": "TREINO com 36168 elementos e TESTE com 9043 elementos\nA acurácia de 90.01%\n",
          "name": "stdout"
        }
      ]
    },
    {
      "metadata": {},
      "cell_type": "markdown",
      "source": "## Conclusão\n\n```\nA melhor taxa de acurácia foi obtido através do algoritmo random forest classifier com 90.01% \nde acurácia, porem com o algoritmo SVC obtive a acurácia de 89.60% com a otimização de escala.\n```"
    }
  ],
  "metadata": {
    "kernelspec": {
      "name": "python36",
      "display_name": "Python 3.6",
      "language": "python"
    },
    "language_info": {
      "mimetype": "text/x-python",
      "nbconvert_exporter": "python",
      "name": "python",
      "pygments_lexer": "ipython3",
      "version": "3.6.6",
      "file_extension": ".py",
      "codemirror_mode": {
        "version": 3,
        "name": "ipython"
      }
    }
  },
  "nbformat": 4,
  "nbformat_minor": 2
}